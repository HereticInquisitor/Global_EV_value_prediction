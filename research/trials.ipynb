{
 "cells": [
  {
   "cell_type": "code",
   "execution_count": 1,
   "metadata": {},
   "outputs": [],
   "source": [
    "import pandas as pd\n",
    "import numpy as np\n",
    "from sklearn.feature_extraction import FeatureHasher\n",
    "from matplotlib import pyplot as plt\n",
    "import seaborn as sns"
   ]
  },
  {
   "cell_type": "code",
   "execution_count": 2,
   "metadata": {},
   "outputs": [
    {
     "name": "stdout",
     "output_type": "stream",
     "text": [
      "data  Note1.ipynb  trials.ipynb\n"
     ]
    }
   ],
   "source": [
    "!ls\n"
   ]
  },
  {
   "cell_type": "code",
   "execution_count": 3,
   "metadata": {},
   "outputs": [],
   "source": [
    "df= pd.read_csv('data/Global_EV_2023.csv')"
   ]
  },
  {
   "cell_type": "code",
   "execution_count": 4,
   "metadata": {},
   "outputs": [
    {
     "data": {
      "text/html": [
       "<div>\n",
       "<style scoped>\n",
       "    .dataframe tbody tr th:only-of-type {\n",
       "        vertical-align: middle;\n",
       "    }\n",
       "\n",
       "    .dataframe tbody tr th {\n",
       "        vertical-align: top;\n",
       "    }\n",
       "\n",
       "    .dataframe thead th {\n",
       "        text-align: right;\n",
       "    }\n",
       "</style>\n",
       "<table border=\"1\" class=\"dataframe\">\n",
       "  <thead>\n",
       "    <tr style=\"text-align: right;\">\n",
       "      <th></th>\n",
       "      <th>region</th>\n",
       "      <th>category</th>\n",
       "      <th>parameter</th>\n",
       "      <th>mode</th>\n",
       "      <th>powertrain</th>\n",
       "      <th>year</th>\n",
       "      <th>unit</th>\n",
       "      <th>value</th>\n",
       "    </tr>\n",
       "  </thead>\n",
       "  <tbody>\n",
       "    <tr>\n",
       "      <th>0</th>\n",
       "      <td>Australia</td>\n",
       "      <td>Historical</td>\n",
       "      <td>EV stock</td>\n",
       "      <td>Cars</td>\n",
       "      <td>BEV</td>\n",
       "      <td>2011</td>\n",
       "      <td>Vehicles</td>\n",
       "      <td>49.00000</td>\n",
       "    </tr>\n",
       "    <tr>\n",
       "      <th>1</th>\n",
       "      <td>Australia</td>\n",
       "      <td>Historical</td>\n",
       "      <td>EV sales share</td>\n",
       "      <td>Cars</td>\n",
       "      <td>EV</td>\n",
       "      <td>2011</td>\n",
       "      <td>percent</td>\n",
       "      <td>0.00650</td>\n",
       "    </tr>\n",
       "    <tr>\n",
       "      <th>2</th>\n",
       "      <td>Australia</td>\n",
       "      <td>Historical</td>\n",
       "      <td>EV stock share</td>\n",
       "      <td>Cars</td>\n",
       "      <td>EV</td>\n",
       "      <td>2011</td>\n",
       "      <td>percent</td>\n",
       "      <td>0.00046</td>\n",
       "    </tr>\n",
       "    <tr>\n",
       "      <th>3</th>\n",
       "      <td>Australia</td>\n",
       "      <td>Historical</td>\n",
       "      <td>EV sales</td>\n",
       "      <td>Cars</td>\n",
       "      <td>BEV</td>\n",
       "      <td>2011</td>\n",
       "      <td>Vehicles</td>\n",
       "      <td>49.00000</td>\n",
       "    </tr>\n",
       "    <tr>\n",
       "      <th>4</th>\n",
       "      <td>Australia</td>\n",
       "      <td>Historical</td>\n",
       "      <td>EV sales</td>\n",
       "      <td>Cars</td>\n",
       "      <td>BEV</td>\n",
       "      <td>2012</td>\n",
       "      <td>Vehicles</td>\n",
       "      <td>170.00000</td>\n",
       "    </tr>\n",
       "  </tbody>\n",
       "</table>\n",
       "</div>"
      ],
      "text/plain": [
       "      region    category       parameter  mode powertrain  year      unit  \\\n",
       "0  Australia  Historical        EV stock  Cars        BEV  2011  Vehicles   \n",
       "1  Australia  Historical  EV sales share  Cars         EV  2011   percent   \n",
       "2  Australia  Historical  EV stock share  Cars         EV  2011   percent   \n",
       "3  Australia  Historical        EV sales  Cars        BEV  2011  Vehicles   \n",
       "4  Australia  Historical        EV sales  Cars        BEV  2012  Vehicles   \n",
       "\n",
       "       value  \n",
       "0   49.00000  \n",
       "1    0.00650  \n",
       "2    0.00046  \n",
       "3   49.00000  \n",
       "4  170.00000  "
      ]
     },
     "execution_count": 4,
     "metadata": {},
     "output_type": "execute_result"
    }
   ],
   "source": [
    "df.head()"
   ]
  },
  {
   "cell_type": "code",
   "execution_count": 5,
   "metadata": {},
   "outputs": [],
   "source": [
    "cat_cols=[]\n",
    "num_cols=[]\n",
    "for cols in df.columns:\n",
    "    if df[cols].dtype==\"object\":\n",
    "        cat_cols.append(cols)\n",
    "    else:\n",
    "        num_cols.append(cols)"
   ]
  },
  {
   "cell_type": "code",
   "execution_count": 6,
   "metadata": {},
   "outputs": [
    {
     "data": {
      "text/plain": [
       "['year', 'value']"
      ]
     },
     "execution_count": 6,
     "metadata": {},
     "output_type": "execute_result"
    }
   ],
   "source": [
    "num_cols"
   ]
  },
  {
   "cell_type": "code",
   "execution_count": 7,
   "metadata": {},
   "outputs": [
    {
     "data": {
      "text/plain": [
       "['region', 'category', 'parameter', 'mode', 'powertrain', 'unit']"
      ]
     },
     "execution_count": 7,
     "metadata": {},
     "output_type": "execute_result"
    }
   ],
   "source": [
    "cat_cols"
   ]
  },
  {
   "cell_type": "code",
   "execution_count": 8,
   "metadata": {},
   "outputs": [
    {
     "name": "stdout",
     "output_type": "stream",
     "text": [
      "0\n",
      "0\n",
      "0\n",
      "0\n",
      "0\n",
      "0\n"
     ]
    }
   ],
   "source": [
    "for cat in cat_cols:\n",
    "    print(df[cat].isnull().sum())"
   ]
  },
  {
   "cell_type": "code",
   "execution_count": 9,
   "metadata": {},
   "outputs": [
    {
     "name": "stdout",
     "output_type": "stream",
     "text": [
      "0\n",
      "0\n"
     ]
    }
   ],
   "source": [
    "for cat in num_cols:\n",
    "    print(df[cat].isnull().sum())"
   ]
  },
  {
   "cell_type": "code",
   "execution_count": 10,
   "metadata": {},
   "outputs": [
    {
     "data": {
      "text/plain": [
       "region        38\n",
       "category       3\n",
       "parameter      8\n",
       "mode           5\n",
       "powertrain     5\n",
       "unit           6\n",
       "dtype: int64"
      ]
     },
     "execution_count": 10,
     "metadata": {},
     "output_type": "execute_result"
    }
   ],
   "source": [
    "df[cat_cols].nunique()"
   ]
  },
  {
   "cell_type": "code",
   "execution_count": 11,
   "metadata": {},
   "outputs": [
    {
     "name": "stdout",
     "output_type": "stream",
     "text": [
      "region\n",
      "['Australia' 'Austria' 'Belgium' 'Brazil' 'Canada' 'Chile' 'China'\n",
      " 'Denmark' 'EU27' 'Europe' 'Finland' 'France' 'Germany' 'Greece' 'Iceland'\n",
      " 'India' 'Indonesia' 'Israel' 'Italy' 'Japan' 'Korea' 'Mexico'\n",
      " 'Netherlands' 'New Zealand' 'Norway' 'Other Europe' 'Poland' 'Portugal'\n",
      " 'Rest of the world' 'South Africa' 'Spain' 'Sweden' 'Switzerland'\n",
      " 'Thailand' 'Turkiye' 'United Kingdom' 'USA' 'World']\n",
      "\n",
      "category\n",
      "['Historical' 'Projection-STEPS' 'Projection-APS']\n",
      "\n",
      "parameter\n",
      "['EV stock' 'EV sales share' 'EV stock share' 'EV sales'\n",
      " 'EV charging points' 'Electricity demand' 'Oil displacement Mbd'\n",
      " 'Oil displacement, million lge']\n",
      "\n",
      "mode\n",
      "['Cars' 'EV' 'Buses' 'Vans' 'Trucks']\n",
      "\n",
      "powertrain\n",
      "['BEV' 'EV' 'PHEV' 'Publicly available fast' 'Publicly available slow']\n",
      "\n",
      "unit\n",
      "['Vehicles' 'percent' 'charging points' 'GWh' 'Milion barrels per day'\n",
      " 'Oil displacement, million lge']\n",
      "\n"
     ]
    }
   ],
   "source": [
    "for cols in cat_cols:\n",
    "    print(cols)\n",
    "    print(df[cols].unique())\n",
    "    print()"
   ]
  },
  {
   "cell_type": "code",
   "execution_count": 12,
   "metadata": {},
   "outputs": [
    {
     "name": "stdout",
     "output_type": "stream",
     "text": [
      "year: 444\n",
      "value: 1826\n"
     ]
    }
   ],
   "source": [
    "for cat in num_cols:\n",
    "    IQR=df[cat].quantile(0.75)-df[cat].quantile(0.25)\n",
    "    UB= df[cat].quantile(0.75)+ (1.5*IQR)\n",
    "    LB= df[cat].quantile(0.25)-(1.5*IQR)\n",
    "    s=0\n",
    "    for row in df[cat]:\n",
    "        if row>=UB or row<= LB:\n",
    "            s+=1\n",
    "    print(f\"{cat}: {s}\")"
   ]
  },
  {
   "cell_type": "code",
   "execution_count": 13,
   "metadata": {},
   "outputs": [
    {
     "data": {
      "text/html": [
       "<div>\n",
       "<style scoped>\n",
       "    .dataframe tbody tr th:only-of-type {\n",
       "        vertical-align: middle;\n",
       "    }\n",
       "\n",
       "    .dataframe tbody tr th {\n",
       "        vertical-align: top;\n",
       "    }\n",
       "\n",
       "    .dataframe thead th {\n",
       "        text-align: right;\n",
       "    }\n",
       "</style>\n",
       "<table border=\"1\" class=\"dataframe\">\n",
       "  <thead>\n",
       "    <tr style=\"text-align: right;\">\n",
       "      <th></th>\n",
       "      <th>region</th>\n",
       "      <th>category</th>\n",
       "      <th>parameter</th>\n",
       "      <th>mode</th>\n",
       "      <th>powertrain</th>\n",
       "      <th>year</th>\n",
       "      <th>unit</th>\n",
       "      <th>value</th>\n",
       "    </tr>\n",
       "  </thead>\n",
       "  <tbody>\n",
       "    <tr>\n",
       "      <th>0</th>\n",
       "      <td>Australia</td>\n",
       "      <td>Historical</td>\n",
       "      <td>EV stock</td>\n",
       "      <td>Cars</td>\n",
       "      <td>BEV</td>\n",
       "      <td>2011</td>\n",
       "      <td>Vehicles</td>\n",
       "      <td>49.00000</td>\n",
       "    </tr>\n",
       "    <tr>\n",
       "      <th>1</th>\n",
       "      <td>Australia</td>\n",
       "      <td>Historical</td>\n",
       "      <td>EV sales share</td>\n",
       "      <td>Cars</td>\n",
       "      <td>EV</td>\n",
       "      <td>2011</td>\n",
       "      <td>percent</td>\n",
       "      <td>0.00650</td>\n",
       "    </tr>\n",
       "    <tr>\n",
       "      <th>2</th>\n",
       "      <td>Australia</td>\n",
       "      <td>Historical</td>\n",
       "      <td>EV stock share</td>\n",
       "      <td>Cars</td>\n",
       "      <td>EV</td>\n",
       "      <td>2011</td>\n",
       "      <td>percent</td>\n",
       "      <td>0.00046</td>\n",
       "    </tr>\n",
       "    <tr>\n",
       "      <th>3</th>\n",
       "      <td>Australia</td>\n",
       "      <td>Historical</td>\n",
       "      <td>EV sales</td>\n",
       "      <td>Cars</td>\n",
       "      <td>BEV</td>\n",
       "      <td>2011</td>\n",
       "      <td>Vehicles</td>\n",
       "      <td>49.00000</td>\n",
       "    </tr>\n",
       "    <tr>\n",
       "      <th>4</th>\n",
       "      <td>Australia</td>\n",
       "      <td>Historical</td>\n",
       "      <td>EV sales</td>\n",
       "      <td>Cars</td>\n",
       "      <td>BEV</td>\n",
       "      <td>2012</td>\n",
       "      <td>Vehicles</td>\n",
       "      <td>170.00000</td>\n",
       "    </tr>\n",
       "  </tbody>\n",
       "</table>\n",
       "</div>"
      ],
      "text/plain": [
       "      region    category       parameter  mode powertrain  year      unit  \\\n",
       "0  Australia  Historical        EV stock  Cars        BEV  2011  Vehicles   \n",
       "1  Australia  Historical  EV sales share  Cars         EV  2011   percent   \n",
       "2  Australia  Historical  EV stock share  Cars         EV  2011   percent   \n",
       "3  Australia  Historical        EV sales  Cars        BEV  2011  Vehicles   \n",
       "4  Australia  Historical        EV sales  Cars        BEV  2012  Vehicles   \n",
       "\n",
       "       value  \n",
       "0   49.00000  \n",
       "1    0.00650  \n",
       "2    0.00046  \n",
       "3   49.00000  \n",
       "4  170.00000  "
      ]
     },
     "execution_count": 13,
     "metadata": {},
     "output_type": "execute_result"
    }
   ],
   "source": [
    "df.head()"
   ]
  },
  {
   "cell_type": "code",
   "execution_count": 14,
   "metadata": {},
   "outputs": [],
   "source": [
    "df1 = df[df[\"unit\"]==\"Vehicles\"]"
   ]
  },
  {
   "cell_type": "code",
   "execution_count": 15,
   "metadata": {},
   "outputs": [],
   "source": [
    "df2 = df[df[\"unit\"]==\"percent\"]"
   ]
  },
  {
   "cell_type": "code",
   "execution_count": 16,
   "metadata": {},
   "outputs": [],
   "source": [
    "df3 = df[df[\"unit\"]==\"charging points\"]"
   ]
  },
  {
   "cell_type": "code",
   "execution_count": 17,
   "metadata": {},
   "outputs": [],
   "source": [
    "df4 = df[df[\"unit\"]==\"GWh\"]"
   ]
  },
  {
   "cell_type": "code",
   "execution_count": 18,
   "metadata": {},
   "outputs": [],
   "source": [
    "df5 = df[df[\"unit\"]==\"Milion barrels per day\"]"
   ]
  },
  {
   "cell_type": "code",
   "execution_count": 19,
   "metadata": {},
   "outputs": [],
   "source": [
    "df6 = df[df[\"unit\"]==\"Oil displacement, million lge\"]"
   ]
  },
  {
   "cell_type": "code",
   "execution_count": 20,
   "metadata": {},
   "outputs": [
    {
     "data": {
      "text/html": [
       "<div>\n",
       "<style scoped>\n",
       "    .dataframe tbody tr th:only-of-type {\n",
       "        vertical-align: middle;\n",
       "    }\n",
       "\n",
       "    .dataframe tbody tr th {\n",
       "        vertical-align: top;\n",
       "    }\n",
       "\n",
       "    .dataframe thead th {\n",
       "        text-align: right;\n",
       "    }\n",
       "</style>\n",
       "<table border=\"1\" class=\"dataframe\">\n",
       "  <thead>\n",
       "    <tr style=\"text-align: right;\">\n",
       "      <th></th>\n",
       "      <th>region</th>\n",
       "      <th>category</th>\n",
       "      <th>parameter</th>\n",
       "      <th>mode</th>\n",
       "      <th>powertrain</th>\n",
       "      <th>year</th>\n",
       "      <th>unit</th>\n",
       "      <th>value</th>\n",
       "    </tr>\n",
       "  </thead>\n",
       "  <tbody>\n",
       "    <tr>\n",
       "      <th>0</th>\n",
       "      <td>Australia</td>\n",
       "      <td>Historical</td>\n",
       "      <td>EV stock</td>\n",
       "      <td>Cars</td>\n",
       "      <td>BEV</td>\n",
       "      <td>2011</td>\n",
       "      <td>Vehicles</td>\n",
       "      <td>49.0</td>\n",
       "    </tr>\n",
       "    <tr>\n",
       "      <th>3</th>\n",
       "      <td>Australia</td>\n",
       "      <td>Historical</td>\n",
       "      <td>EV sales</td>\n",
       "      <td>Cars</td>\n",
       "      <td>BEV</td>\n",
       "      <td>2011</td>\n",
       "      <td>Vehicles</td>\n",
       "      <td>49.0</td>\n",
       "    </tr>\n",
       "    <tr>\n",
       "      <th>4</th>\n",
       "      <td>Australia</td>\n",
       "      <td>Historical</td>\n",
       "      <td>EV sales</td>\n",
       "      <td>Cars</td>\n",
       "      <td>BEV</td>\n",
       "      <td>2012</td>\n",
       "      <td>Vehicles</td>\n",
       "      <td>170.0</td>\n",
       "    </tr>\n",
       "    <tr>\n",
       "      <th>7</th>\n",
       "      <td>Australia</td>\n",
       "      <td>Historical</td>\n",
       "      <td>EV stock</td>\n",
       "      <td>Cars</td>\n",
       "      <td>BEV</td>\n",
       "      <td>2012</td>\n",
       "      <td>Vehicles</td>\n",
       "      <td>220.0</td>\n",
       "    </tr>\n",
       "    <tr>\n",
       "      <th>8</th>\n",
       "      <td>Australia</td>\n",
       "      <td>Historical</td>\n",
       "      <td>EV stock</td>\n",
       "      <td>Cars</td>\n",
       "      <td>PHEV</td>\n",
       "      <td>2012</td>\n",
       "      <td>Vehicles</td>\n",
       "      <td>80.0</td>\n",
       "    </tr>\n",
       "  </tbody>\n",
       "</table>\n",
       "</div>"
      ],
      "text/plain": [
       "      region    category parameter  mode powertrain  year      unit  value\n",
       "0  Australia  Historical  EV stock  Cars        BEV  2011  Vehicles   49.0\n",
       "3  Australia  Historical  EV sales  Cars        BEV  2011  Vehicles   49.0\n",
       "4  Australia  Historical  EV sales  Cars        BEV  2012  Vehicles  170.0\n",
       "7  Australia  Historical  EV stock  Cars        BEV  2012  Vehicles  220.0\n",
       "8  Australia  Historical  EV stock  Cars       PHEV  2012  Vehicles   80.0"
      ]
     },
     "execution_count": 20,
     "metadata": {},
     "output_type": "execute_result"
    }
   ],
   "source": [
    "df1.head()"
   ]
  },
  {
   "cell_type": "code",
   "execution_count": 21,
   "metadata": {},
   "outputs": [
    {
     "data": {
      "text/html": [
       "<div>\n",
       "<style scoped>\n",
       "    .dataframe tbody tr th:only-of-type {\n",
       "        vertical-align: middle;\n",
       "    }\n",
       "\n",
       "    .dataframe tbody tr th {\n",
       "        vertical-align: top;\n",
       "    }\n",
       "\n",
       "    .dataframe thead th {\n",
       "        text-align: right;\n",
       "    }\n",
       "</style>\n",
       "<table border=\"1\" class=\"dataframe\">\n",
       "  <thead>\n",
       "    <tr style=\"text-align: right;\">\n",
       "      <th></th>\n",
       "      <th>region</th>\n",
       "      <th>category</th>\n",
       "      <th>parameter</th>\n",
       "      <th>mode</th>\n",
       "      <th>powertrain</th>\n",
       "      <th>year</th>\n",
       "      <th>unit</th>\n",
       "      <th>value</th>\n",
       "    </tr>\n",
       "  </thead>\n",
       "  <tbody>\n",
       "    <tr>\n",
       "      <th>1</th>\n",
       "      <td>Australia</td>\n",
       "      <td>Historical</td>\n",
       "      <td>EV sales share</td>\n",
       "      <td>Cars</td>\n",
       "      <td>EV</td>\n",
       "      <td>2011</td>\n",
       "      <td>percent</td>\n",
       "      <td>0.00650</td>\n",
       "    </tr>\n",
       "    <tr>\n",
       "      <th>2</th>\n",
       "      <td>Australia</td>\n",
       "      <td>Historical</td>\n",
       "      <td>EV stock share</td>\n",
       "      <td>Cars</td>\n",
       "      <td>EV</td>\n",
       "      <td>2011</td>\n",
       "      <td>percent</td>\n",
       "      <td>0.00046</td>\n",
       "    </tr>\n",
       "    <tr>\n",
       "      <th>5</th>\n",
       "      <td>Australia</td>\n",
       "      <td>Historical</td>\n",
       "      <td>EV stock share</td>\n",
       "      <td>Cars</td>\n",
       "      <td>EV</td>\n",
       "      <td>2012</td>\n",
       "      <td>percent</td>\n",
       "      <td>0.00280</td>\n",
       "    </tr>\n",
       "    <tr>\n",
       "      <th>6</th>\n",
       "      <td>Australia</td>\n",
       "      <td>Historical</td>\n",
       "      <td>EV sales share</td>\n",
       "      <td>Cars</td>\n",
       "      <td>EV</td>\n",
       "      <td>2012</td>\n",
       "      <td>percent</td>\n",
       "      <td>0.03000</td>\n",
       "    </tr>\n",
       "    <tr>\n",
       "      <th>13</th>\n",
       "      <td>Australia</td>\n",
       "      <td>Historical</td>\n",
       "      <td>EV sales share</td>\n",
       "      <td>Cars</td>\n",
       "      <td>EV</td>\n",
       "      <td>2013</td>\n",
       "      <td>percent</td>\n",
       "      <td>0.03400</td>\n",
       "    </tr>\n",
       "  </tbody>\n",
       "</table>\n",
       "</div>"
      ],
      "text/plain": [
       "       region    category       parameter  mode powertrain  year     unit  \\\n",
       "1   Australia  Historical  EV sales share  Cars         EV  2011  percent   \n",
       "2   Australia  Historical  EV stock share  Cars         EV  2011  percent   \n",
       "5   Australia  Historical  EV stock share  Cars         EV  2012  percent   \n",
       "6   Australia  Historical  EV sales share  Cars         EV  2012  percent   \n",
       "13  Australia  Historical  EV sales share  Cars         EV  2013  percent   \n",
       "\n",
       "      value  \n",
       "1   0.00650  \n",
       "2   0.00046  \n",
       "5   0.00280  \n",
       "6   0.03000  \n",
       "13  0.03400  "
      ]
     },
     "execution_count": 21,
     "metadata": {},
     "output_type": "execute_result"
    }
   ],
   "source": [
    "df2.head()"
   ]
  },
  {
   "cell_type": "code",
   "execution_count": 22,
   "metadata": {},
   "outputs": [
    {
     "data": {
      "text/html": [
       "<div>\n",
       "<style scoped>\n",
       "    .dataframe tbody tr th:only-of-type {\n",
       "        vertical-align: middle;\n",
       "    }\n",
       "\n",
       "    .dataframe tbody tr th {\n",
       "        vertical-align: top;\n",
       "    }\n",
       "\n",
       "    .dataframe thead th {\n",
       "        text-align: right;\n",
       "    }\n",
       "</style>\n",
       "<table border=\"1\" class=\"dataframe\">\n",
       "  <thead>\n",
       "    <tr style=\"text-align: right;\">\n",
       "      <th></th>\n",
       "      <th>region</th>\n",
       "      <th>category</th>\n",
       "      <th>parameter</th>\n",
       "      <th>mode</th>\n",
       "      <th>powertrain</th>\n",
       "      <th>year</th>\n",
       "      <th>unit</th>\n",
       "      <th>value</th>\n",
       "    </tr>\n",
       "  </thead>\n",
       "  <tbody>\n",
       "    <tr>\n",
       "      <th>40</th>\n",
       "      <td>Australia</td>\n",
       "      <td>Historical</td>\n",
       "      <td>EV charging points</td>\n",
       "      <td>EV</td>\n",
       "      <td>Publicly available fast</td>\n",
       "      <td>2017</td>\n",
       "      <td>charging points</td>\n",
       "      <td>40.0</td>\n",
       "    </tr>\n",
       "    <tr>\n",
       "      <th>41</th>\n",
       "      <td>Australia</td>\n",
       "      <td>Historical</td>\n",
       "      <td>EV charging points</td>\n",
       "      <td>EV</td>\n",
       "      <td>Publicly available slow</td>\n",
       "      <td>2017</td>\n",
       "      <td>charging points</td>\n",
       "      <td>440.0</td>\n",
       "    </tr>\n",
       "    <tr>\n",
       "      <th>42</th>\n",
       "      <td>Australia</td>\n",
       "      <td>Historical</td>\n",
       "      <td>EV charging points</td>\n",
       "      <td>EV</td>\n",
       "      <td>Publicly available fast</td>\n",
       "      <td>2018</td>\n",
       "      <td>charging points</td>\n",
       "      <td>61.0</td>\n",
       "    </tr>\n",
       "    <tr>\n",
       "      <th>43</th>\n",
       "      <td>Australia</td>\n",
       "      <td>Historical</td>\n",
       "      <td>EV charging points</td>\n",
       "      <td>EV</td>\n",
       "      <td>Publicly available slow</td>\n",
       "      <td>2018</td>\n",
       "      <td>charging points</td>\n",
       "      <td>670.0</td>\n",
       "    </tr>\n",
       "    <tr>\n",
       "      <th>56</th>\n",
       "      <td>Australia</td>\n",
       "      <td>Historical</td>\n",
       "      <td>EV charging points</td>\n",
       "      <td>EV</td>\n",
       "      <td>Publicly available fast</td>\n",
       "      <td>2019</td>\n",
       "      <td>charging points</td>\n",
       "      <td>250.0</td>\n",
       "    </tr>\n",
       "  </tbody>\n",
       "</table>\n",
       "</div>"
      ],
      "text/plain": [
       "       region    category           parameter mode               powertrain  \\\n",
       "40  Australia  Historical  EV charging points   EV  Publicly available fast   \n",
       "41  Australia  Historical  EV charging points   EV  Publicly available slow   \n",
       "42  Australia  Historical  EV charging points   EV  Publicly available fast   \n",
       "43  Australia  Historical  EV charging points   EV  Publicly available slow   \n",
       "56  Australia  Historical  EV charging points   EV  Publicly available fast   \n",
       "\n",
       "    year             unit  value  \n",
       "40  2017  charging points   40.0  \n",
       "41  2017  charging points  440.0  \n",
       "42  2018  charging points   61.0  \n",
       "43  2018  charging points  670.0  \n",
       "56  2019  charging points  250.0  "
      ]
     },
     "execution_count": 22,
     "metadata": {},
     "output_type": "execute_result"
    }
   ],
   "source": [
    "df3.head()"
   ]
  },
  {
   "cell_type": "code",
   "execution_count": 23,
   "metadata": {},
   "outputs": [
    {
     "data": {
      "text/html": [
       "<div>\n",
       "<style scoped>\n",
       "    .dataframe tbody tr th:only-of-type {\n",
       "        vertical-align: middle;\n",
       "    }\n",
       "\n",
       "    .dataframe tbody tr th {\n",
       "        vertical-align: top;\n",
       "    }\n",
       "\n",
       "    .dataframe thead th {\n",
       "        text-align: right;\n",
       "    }\n",
       "</style>\n",
       "<table border=\"1\" class=\"dataframe\">\n",
       "  <thead>\n",
       "    <tr style=\"text-align: right;\">\n",
       "      <th></th>\n",
       "      <th>region</th>\n",
       "      <th>category</th>\n",
       "      <th>parameter</th>\n",
       "      <th>mode</th>\n",
       "      <th>powertrain</th>\n",
       "      <th>year</th>\n",
       "      <th>unit</th>\n",
       "      <th>value</th>\n",
       "    </tr>\n",
       "  </thead>\n",
       "  <tbody>\n",
       "    <tr>\n",
       "      <th>1002</th>\n",
       "      <td>China</td>\n",
       "      <td>Historical</td>\n",
       "      <td>Electricity demand</td>\n",
       "      <td>Buses</td>\n",
       "      <td>EV</td>\n",
       "      <td>2010</td>\n",
       "      <td>GWh</td>\n",
       "      <td>24000.0</td>\n",
       "    </tr>\n",
       "    <tr>\n",
       "      <th>1003</th>\n",
       "      <td>China</td>\n",
       "      <td>Historical</td>\n",
       "      <td>Electricity demand</td>\n",
       "      <td>Trucks</td>\n",
       "      <td>EV</td>\n",
       "      <td>2010</td>\n",
       "      <td>GWh</td>\n",
       "      <td>36.0</td>\n",
       "    </tr>\n",
       "    <tr>\n",
       "      <th>1004</th>\n",
       "      <td>China</td>\n",
       "      <td>Historical</td>\n",
       "      <td>Electricity demand</td>\n",
       "      <td>Vans</td>\n",
       "      <td>EV</td>\n",
       "      <td>2010</td>\n",
       "      <td>GWh</td>\n",
       "      <td>110.0</td>\n",
       "    </tr>\n",
       "    <tr>\n",
       "      <th>1005</th>\n",
       "      <td>China</td>\n",
       "      <td>Historical</td>\n",
       "      <td>Electricity demand</td>\n",
       "      <td>Cars</td>\n",
       "      <td>EV</td>\n",
       "      <td>2010</td>\n",
       "      <td>GWh</td>\n",
       "      <td>330.0</td>\n",
       "    </tr>\n",
       "    <tr>\n",
       "      <th>1022</th>\n",
       "      <td>China</td>\n",
       "      <td>Historical</td>\n",
       "      <td>Electricity demand</td>\n",
       "      <td>Buses</td>\n",
       "      <td>EV</td>\n",
       "      <td>2011</td>\n",
       "      <td>GWh</td>\n",
       "      <td>24000.0</td>\n",
       "    </tr>\n",
       "  </tbody>\n",
       "</table>\n",
       "</div>"
      ],
      "text/plain": [
       "     region    category           parameter    mode powertrain  year unit  \\\n",
       "1002  China  Historical  Electricity demand   Buses         EV  2010  GWh   \n",
       "1003  China  Historical  Electricity demand  Trucks         EV  2010  GWh   \n",
       "1004  China  Historical  Electricity demand    Vans         EV  2010  GWh   \n",
       "1005  China  Historical  Electricity demand    Cars         EV  2010  GWh   \n",
       "1022  China  Historical  Electricity demand   Buses         EV  2011  GWh   \n",
       "\n",
       "        value  \n",
       "1002  24000.0  \n",
       "1003     36.0  \n",
       "1004    110.0  \n",
       "1005    330.0  \n",
       "1022  24000.0  "
      ]
     },
     "execution_count": 23,
     "metadata": {},
     "output_type": "execute_result"
    }
   ],
   "source": [
    "df4.head()"
   ]
  },
  {
   "cell_type": "code",
   "execution_count": 24,
   "metadata": {},
   "outputs": [
    {
     "data": {
      "text/html": [
       "<div>\n",
       "<style scoped>\n",
       "    .dataframe tbody tr th:only-of-type {\n",
       "        vertical-align: middle;\n",
       "    }\n",
       "\n",
       "    .dataframe tbody tr th {\n",
       "        vertical-align: top;\n",
       "    }\n",
       "\n",
       "    .dataframe thead th {\n",
       "        text-align: right;\n",
       "    }\n",
       "</style>\n",
       "<table border=\"1\" class=\"dataframe\">\n",
       "  <thead>\n",
       "    <tr style=\"text-align: right;\">\n",
       "      <th></th>\n",
       "      <th>region</th>\n",
       "      <th>category</th>\n",
       "      <th>parameter</th>\n",
       "      <th>mode</th>\n",
       "      <th>powertrain</th>\n",
       "      <th>year</th>\n",
       "      <th>unit</th>\n",
       "      <th>value</th>\n",
       "    </tr>\n",
       "  </thead>\n",
       "  <tbody>\n",
       "    <tr>\n",
       "      <th>1006</th>\n",
       "      <td>China</td>\n",
       "      <td>Historical</td>\n",
       "      <td>Oil displacement Mbd</td>\n",
       "      <td>Buses</td>\n",
       "      <td>EV</td>\n",
       "      <td>2010</td>\n",
       "      <td>Milion barrels per day</td>\n",
       "      <td>0.001100</td>\n",
       "    </tr>\n",
       "    <tr>\n",
       "      <th>1007</th>\n",
       "      <td>China</td>\n",
       "      <td>Historical</td>\n",
       "      <td>Oil displacement Mbd</td>\n",
       "      <td>Trucks</td>\n",
       "      <td>EV</td>\n",
       "      <td>2010</td>\n",
       "      <td>Milion barrels per day</td>\n",
       "      <td>0.000002</td>\n",
       "    </tr>\n",
       "    <tr>\n",
       "      <th>1008</th>\n",
       "      <td>China</td>\n",
       "      <td>Historical</td>\n",
       "      <td>Oil displacement Mbd</td>\n",
       "      <td>Vans</td>\n",
       "      <td>EV</td>\n",
       "      <td>2010</td>\n",
       "      <td>Milion barrels per day</td>\n",
       "      <td>0.000010</td>\n",
       "    </tr>\n",
       "    <tr>\n",
       "      <th>1009</th>\n",
       "      <td>China</td>\n",
       "      <td>Historical</td>\n",
       "      <td>Oil displacement Mbd</td>\n",
       "      <td>Cars</td>\n",
       "      <td>EV</td>\n",
       "      <td>2010</td>\n",
       "      <td>Milion barrels per day</td>\n",
       "      <td>0.000026</td>\n",
       "    </tr>\n",
       "    <tr>\n",
       "      <th>1014</th>\n",
       "      <td>China</td>\n",
       "      <td>Historical</td>\n",
       "      <td>Oil displacement Mbd</td>\n",
       "      <td>Buses</td>\n",
       "      <td>EV</td>\n",
       "      <td>2011</td>\n",
       "      <td>Milion barrels per day</td>\n",
       "      <td>0.001100</td>\n",
       "    </tr>\n",
       "  </tbody>\n",
       "</table>\n",
       "</div>"
      ],
      "text/plain": [
       "     region    category             parameter    mode powertrain  year  \\\n",
       "1006  China  Historical  Oil displacement Mbd   Buses         EV  2010   \n",
       "1007  China  Historical  Oil displacement Mbd  Trucks         EV  2010   \n",
       "1008  China  Historical  Oil displacement Mbd    Vans         EV  2010   \n",
       "1009  China  Historical  Oil displacement Mbd    Cars         EV  2010   \n",
       "1014  China  Historical  Oil displacement Mbd   Buses         EV  2011   \n",
       "\n",
       "                        unit     value  \n",
       "1006  Milion barrels per day  0.001100  \n",
       "1007  Milion barrels per day  0.000002  \n",
       "1008  Milion barrels per day  0.000010  \n",
       "1009  Milion barrels per day  0.000026  \n",
       "1014  Milion barrels per day  0.001100  "
      ]
     },
     "execution_count": 24,
     "metadata": {},
     "output_type": "execute_result"
    }
   ],
   "source": [
    "df5.head()"
   ]
  },
  {
   "cell_type": "code",
   "execution_count": 25,
   "metadata": {},
   "outputs": [
    {
     "data": {
      "text/html": [
       "<div>\n",
       "<style scoped>\n",
       "    .dataframe tbody tr th:only-of-type {\n",
       "        vertical-align: middle;\n",
       "    }\n",
       "\n",
       "    .dataframe tbody tr th {\n",
       "        vertical-align: top;\n",
       "    }\n",
       "\n",
       "    .dataframe thead th {\n",
       "        text-align: right;\n",
       "    }\n",
       "</style>\n",
       "<table border=\"1\" class=\"dataframe\">\n",
       "  <thead>\n",
       "    <tr style=\"text-align: right;\">\n",
       "      <th></th>\n",
       "      <th>region</th>\n",
       "      <th>category</th>\n",
       "      <th>parameter</th>\n",
       "      <th>mode</th>\n",
       "      <th>powertrain</th>\n",
       "      <th>year</th>\n",
       "      <th>unit</th>\n",
       "      <th>value</th>\n",
       "    </tr>\n",
       "  </thead>\n",
       "  <tbody>\n",
       "    <tr>\n",
       "      <th>1010</th>\n",
       "      <td>China</td>\n",
       "      <td>Historical</td>\n",
       "      <td>Oil displacement, million lge</td>\n",
       "      <td>Buses</td>\n",
       "      <td>EV</td>\n",
       "      <td>2010</td>\n",
       "      <td>Oil displacement, million lge</td>\n",
       "      <td>68.000</td>\n",
       "    </tr>\n",
       "    <tr>\n",
       "      <th>1011</th>\n",
       "      <td>China</td>\n",
       "      <td>Historical</td>\n",
       "      <td>Oil displacement, million lge</td>\n",
       "      <td>Trucks</td>\n",
       "      <td>EV</td>\n",
       "      <td>2010</td>\n",
       "      <td>Oil displacement, million lge</td>\n",
       "      <td>0.088</td>\n",
       "    </tr>\n",
       "    <tr>\n",
       "      <th>1012</th>\n",
       "      <td>China</td>\n",
       "      <td>Historical</td>\n",
       "      <td>Oil displacement, million lge</td>\n",
       "      <td>Vans</td>\n",
       "      <td>EV</td>\n",
       "      <td>2010</td>\n",
       "      <td>Oil displacement, million lge</td>\n",
       "      <td>0.590</td>\n",
       "    </tr>\n",
       "    <tr>\n",
       "      <th>1013</th>\n",
       "      <td>China</td>\n",
       "      <td>Historical</td>\n",
       "      <td>Oil displacement, million lge</td>\n",
       "      <td>Cars</td>\n",
       "      <td>EV</td>\n",
       "      <td>2010</td>\n",
       "      <td>Oil displacement, million lge</td>\n",
       "      <td>1.500</td>\n",
       "    </tr>\n",
       "    <tr>\n",
       "      <th>1018</th>\n",
       "      <td>China</td>\n",
       "      <td>Historical</td>\n",
       "      <td>Oil displacement, million lge</td>\n",
       "      <td>Buses</td>\n",
       "      <td>EV</td>\n",
       "      <td>2011</td>\n",
       "      <td>Oil displacement, million lge</td>\n",
       "      <td>67.000</td>\n",
       "    </tr>\n",
       "  </tbody>\n",
       "</table>\n",
       "</div>"
      ],
      "text/plain": [
       "     region    category                      parameter    mode powertrain  \\\n",
       "1010  China  Historical  Oil displacement, million lge   Buses         EV   \n",
       "1011  China  Historical  Oil displacement, million lge  Trucks         EV   \n",
       "1012  China  Historical  Oil displacement, million lge    Vans         EV   \n",
       "1013  China  Historical  Oil displacement, million lge    Cars         EV   \n",
       "1018  China  Historical  Oil displacement, million lge   Buses         EV   \n",
       "\n",
       "      year                           unit   value  \n",
       "1010  2010  Oil displacement, million lge  68.000  \n",
       "1011  2010  Oil displacement, million lge   0.088  \n",
       "1012  2010  Oil displacement, million lge   0.590  \n",
       "1013  2010  Oil displacement, million lge   1.500  \n",
       "1018  2011  Oil displacement, million lge  67.000  "
      ]
     },
     "execution_count": 25,
     "metadata": {},
     "output_type": "execute_result"
    }
   ],
   "source": [
    "df6.head()"
   ]
  },
  {
   "cell_type": "code",
   "execution_count": 26,
   "metadata": {},
   "outputs": [],
   "source": [
    "dn=[df1, df2,df3,df4,df5,df6]"
   ]
  },
  {
   "cell_type": "code",
   "execution_count": 27,
   "metadata": {},
   "outputs": [
    {
     "data": {
      "text/html": [
       "<div>\n",
       "<style scoped>\n",
       "    .dataframe tbody tr th:only-of-type {\n",
       "        vertical-align: middle;\n",
       "    }\n",
       "\n",
       "    .dataframe tbody tr th {\n",
       "        vertical-align: top;\n",
       "    }\n",
       "\n",
       "    .dataframe thead th {\n",
       "        text-align: right;\n",
       "    }\n",
       "</style>\n",
       "<table border=\"1\" class=\"dataframe\">\n",
       "  <thead>\n",
       "    <tr style=\"text-align: right;\">\n",
       "      <th></th>\n",
       "      <th>region</th>\n",
       "      <th>category</th>\n",
       "      <th>parameter</th>\n",
       "      <th>mode</th>\n",
       "      <th>powertrain</th>\n",
       "      <th>year</th>\n",
       "      <th>unit</th>\n",
       "      <th>value</th>\n",
       "    </tr>\n",
       "  </thead>\n",
       "  <tbody>\n",
       "    <tr>\n",
       "      <th>0</th>\n",
       "      <td>Australia</td>\n",
       "      <td>Historical</td>\n",
       "      <td>EV stock</td>\n",
       "      <td>Cars</td>\n",
       "      <td>BEV</td>\n",
       "      <td>2011</td>\n",
       "      <td>Vehicles</td>\n",
       "      <td>49.0</td>\n",
       "    </tr>\n",
       "    <tr>\n",
       "      <th>3</th>\n",
       "      <td>Australia</td>\n",
       "      <td>Historical</td>\n",
       "      <td>EV sales</td>\n",
       "      <td>Cars</td>\n",
       "      <td>BEV</td>\n",
       "      <td>2011</td>\n",
       "      <td>Vehicles</td>\n",
       "      <td>49.0</td>\n",
       "    </tr>\n",
       "    <tr>\n",
       "      <th>4</th>\n",
       "      <td>Australia</td>\n",
       "      <td>Historical</td>\n",
       "      <td>EV sales</td>\n",
       "      <td>Cars</td>\n",
       "      <td>BEV</td>\n",
       "      <td>2012</td>\n",
       "      <td>Vehicles</td>\n",
       "      <td>170.0</td>\n",
       "    </tr>\n",
       "    <tr>\n",
       "      <th>7</th>\n",
       "      <td>Australia</td>\n",
       "      <td>Historical</td>\n",
       "      <td>EV stock</td>\n",
       "      <td>Cars</td>\n",
       "      <td>BEV</td>\n",
       "      <td>2012</td>\n",
       "      <td>Vehicles</td>\n",
       "      <td>220.0</td>\n",
       "    </tr>\n",
       "    <tr>\n",
       "      <th>8</th>\n",
       "      <td>Australia</td>\n",
       "      <td>Historical</td>\n",
       "      <td>EV stock</td>\n",
       "      <td>Cars</td>\n",
       "      <td>PHEV</td>\n",
       "      <td>2012</td>\n",
       "      <td>Vehicles</td>\n",
       "      <td>80.0</td>\n",
       "    </tr>\n",
       "  </tbody>\n",
       "</table>\n",
       "</div>"
      ],
      "text/plain": [
       "      region    category parameter  mode powertrain  year      unit  value\n",
       "0  Australia  Historical  EV stock  Cars        BEV  2011  Vehicles   49.0\n",
       "3  Australia  Historical  EV sales  Cars        BEV  2011  Vehicles   49.0\n",
       "4  Australia  Historical  EV sales  Cars        BEV  2012  Vehicles  170.0\n",
       "7  Australia  Historical  EV stock  Cars        BEV  2012  Vehicles  220.0\n",
       "8  Australia  Historical  EV stock  Cars       PHEV  2012  Vehicles   80.0"
      ]
     },
     "execution_count": 27,
     "metadata": {},
     "output_type": "execute_result"
    }
   ],
   "source": [
    "df1.head()"
   ]
  },
  {
   "cell_type": "code",
   "execution_count": 28,
   "metadata": {},
   "outputs": [
    {
     "name": "stderr",
     "output_type": "stream",
     "text": [
      "/tmp/ipykernel_9267/3614962638.py:4: SettingWithCopyWarning: \n",
      "A value is trying to be set on a copy of a slice from a DataFrame.\n",
      "Try using .loc[row_indexer,col_indexer] = value instead\n",
      "\n",
      "See the caveats in the documentation: https://pandas.pydata.org/pandas-docs/stable/user_guide/indexing.html#returning-a-view-versus-a-copy\n",
      "  df1[cat_cols]= encoder.transform(df1[cat_cols])\n"
     ]
    },
    {
     "data": {
      "text/plain": [
       "region         36\n",
       "category        3\n",
       "parameter       2\n",
       "mode            4\n",
       "powertrain      2\n",
       "year           15\n",
       "unit            1\n",
       "value         526\n",
       "dtype: int64"
      ]
     },
     "execution_count": 28,
     "metadata": {},
     "output_type": "execute_result"
    }
   ],
   "source": [
    "from sklearn.preprocessing import OrdinalEncoder\n",
    "encoder = OrdinalEncoder()\n",
    "encoder.fit(df1[cat_cols])\n",
    "df1[cat_cols]= encoder.transform(df1[cat_cols])\n",
    "df1.head()\n",
    "df1[df1.columns].nunique()"
   ]
  },
  {
   "cell_type": "code",
   "execution_count": 29,
   "metadata": {},
   "outputs": [
    {
     "name": "stderr",
     "output_type": "stream",
     "text": [
      "/tmp/ipykernel_9267/704807145.py:2: SettingWithCopyWarning: \n",
      "A value is trying to be set on a copy of a slice from a DataFrame.\n",
      "Try using .loc[row_indexer,col_indexer] = value instead\n",
      "\n",
      "See the caveats in the documentation: https://pandas.pydata.org/pandas-docs/stable/user_guide/indexing.html#returning-a-view-versus-a-copy\n",
      "  df2[cat_cols]= encoder.transform(df2[cat_cols])\n"
     ]
    },
    {
     "data": {
      "text/plain": [
       "region         36\n",
       "category        3\n",
       "parameter       2\n",
       "mode            4\n",
       "powertrain      1\n",
       "year           15\n",
       "unit            1\n",
       "value         460\n",
       "dtype: int64"
      ]
     },
     "execution_count": 29,
     "metadata": {},
     "output_type": "execute_result"
    }
   ],
   "source": [
    "encoder.fit(df2[cat_cols])\n",
    "df2[cat_cols]= encoder.transform(df2[cat_cols])\n",
    "df2.head()\n",
    "df2[df2.columns].nunique()"
   ]
  },
  {
   "cell_type": "code",
   "execution_count": 30,
   "metadata": {},
   "outputs": [
    {
     "name": "stderr",
     "output_type": "stream",
     "text": [
      "/tmp/ipykernel_9267/3428284681.py:2: SettingWithCopyWarning: \n",
      "A value is trying to be set on a copy of a slice from a DataFrame.\n",
      "Try using .loc[row_indexer,col_indexer] = value instead\n",
      "\n",
      "See the caveats in the documentation: https://pandas.pydata.org/pandas-docs/stable/user_guide/indexing.html#returning-a-view-versus-a-copy\n",
      "  df3[cat_cols]= encoder.transform(df3[cat_cols])\n"
     ]
    },
    {
     "data": {
      "text/plain": [
       "region         36\n",
       "category        2\n",
       "parameter       1\n",
       "mode            1\n",
       "powertrain      2\n",
       "year           15\n",
       "unit            1\n",
       "value         260\n",
       "dtype: int64"
      ]
     },
     "execution_count": 30,
     "metadata": {},
     "output_type": "execute_result"
    }
   ],
   "source": [
    "encoder.fit(df3[cat_cols])\n",
    "df3[cat_cols]= encoder.transform(df3[cat_cols])\n",
    "df3.head()\n",
    "df3[df3.columns].nunique()"
   ]
  },
  {
   "cell_type": "code",
   "execution_count": 31,
   "metadata": {},
   "outputs": [
    {
     "name": "stderr",
     "output_type": "stream",
     "text": [
      "/tmp/ipykernel_9267/3605974996.py:2: SettingWithCopyWarning: \n",
      "A value is trying to be set on a copy of a slice from a DataFrame.\n",
      "Try using .loc[row_indexer,col_indexer] = value instead\n",
      "\n",
      "See the caveats in the documentation: https://pandas.pydata.org/pandas-docs/stable/user_guide/indexing.html#returning-a-view-versus-a-copy\n",
      "  df4[cat_cols]= encoder.transform(df4[cat_cols])\n"
     ]
    },
    {
     "data": {
      "text/plain": [
       "region          6\n",
       "category        3\n",
       "parameter       1\n",
       "mode            4\n",
       "powertrain      1\n",
       "year           15\n",
       "unit            1\n",
       "value         189\n",
       "dtype: int64"
      ]
     },
     "execution_count": 31,
     "metadata": {},
     "output_type": "execute_result"
    }
   ],
   "source": [
    "encoder.fit(df4[cat_cols])\n",
    "df4[cat_cols]= encoder.transform(df4[cat_cols])\n",
    "df4.head()\n",
    "df4[df4.columns].nunique()"
   ]
  },
  {
   "cell_type": "code",
   "execution_count": 32,
   "metadata": {},
   "outputs": [
    {
     "name": "stderr",
     "output_type": "stream",
     "text": [
      "/tmp/ipykernel_9267/1150526013.py:2: SettingWithCopyWarning: \n",
      "A value is trying to be set on a copy of a slice from a DataFrame.\n",
      "Try using .loc[row_indexer,col_indexer] = value instead\n",
      "\n",
      "See the caveats in the documentation: https://pandas.pydata.org/pandas-docs/stable/user_guide/indexing.html#returning-a-view-versus-a-copy\n",
      "  df5[cat_cols]= encoder.transform(df5[cat_cols])\n"
     ]
    },
    {
     "data": {
      "text/plain": [
       "region          6\n",
       "category        3\n",
       "parameter       1\n",
       "mode            4\n",
       "powertrain      1\n",
       "year           15\n",
       "unit            1\n",
       "value         213\n",
       "dtype: int64"
      ]
     },
     "execution_count": 32,
     "metadata": {},
     "output_type": "execute_result"
    }
   ],
   "source": [
    "encoder.fit(df5[cat_cols])\n",
    "df5[cat_cols]= encoder.transform(df5[cat_cols])\n",
    "df5.head()\n",
    "df5[df5.columns].nunique()"
   ]
  },
  {
   "cell_type": "code",
   "execution_count": 33,
   "metadata": {},
   "outputs": [
    {
     "name": "stderr",
     "output_type": "stream",
     "text": [
      "/tmp/ipykernel_9267/124426687.py:2: SettingWithCopyWarning: \n",
      "A value is trying to be set on a copy of a slice from a DataFrame.\n",
      "Try using .loc[row_indexer,col_indexer] = value instead\n",
      "\n",
      "See the caveats in the documentation: https://pandas.pydata.org/pandas-docs/stable/user_guide/indexing.html#returning-a-view-versus-a-copy\n",
      "  df6[cat_cols]= encoder.transform(df6[cat_cols])\n"
     ]
    },
    {
     "data": {
      "text/plain": [
       "region          6\n",
       "category        3\n",
       "parameter       1\n",
       "mode            4\n",
       "powertrain      1\n",
       "year           15\n",
       "unit            1\n",
       "value         220\n",
       "dtype: int64"
      ]
     },
     "execution_count": 33,
     "metadata": {},
     "output_type": "execute_result"
    }
   ],
   "source": [
    "encoder.fit(df6[cat_cols])\n",
    "df6[cat_cols]= encoder.transform(df6[cat_cols])\n",
    "df6.head()\n",
    "df6[df6.columns].nunique()"
   ]
  },
  {
   "cell_type": "code",
   "execution_count": 34,
   "metadata": {},
   "outputs": [
    {
     "name": "stdout",
     "output_type": "stream",
     "text": [
      "region: 0\n",
      "category: 4624\n",
      "parameter: 0\n",
      "mode: 0\n",
      "powertrain: 0\n",
      "year: 192\n",
      "unit: 4624\n",
      "value: 840\n"
     ]
    }
   ],
   "source": [
    "for cat in df1.columns:\n",
    "    IQR=df1[cat].quantile(0.75)-df1[cat].quantile(0.25)\n",
    "    UB= df1[cat].quantile(0.75)+ (1.5*IQR)\n",
    "    LB= df1[cat].quantile(0.25)-(1.5*IQR)\n",
    "    s=0\n",
    "    for row in df1[cat]:\n",
    "        if row>=UB or row<= LB:\n",
    "            s+=1\n",
    "    print(f\"{cat}: {s}\")"
   ]
  },
  {
   "cell_type": "code",
   "execution_count": 35,
   "metadata": {},
   "outputs": [],
   "source": [
    "# for cat in df1.columns:\n",
    "#     fig,ax = plt.subplots(nrows=1,ncols=2,figsize=(20,10))\n",
    "#     sns.histplot(df1[cat],ax=ax[0],kde=True)\n",
    "#     ax[0].set_title(\"Histplot\")\n",
    "#     sns.boxplot(df1[cat],ax=ax[1])\n",
    "#     ax[1].set_title(\"Box_Plot\")\n",
    "#     plt.tight_layout()\n",
    "#     plt.show()"
   ]
  },
  {
   "cell_type": "code",
   "execution_count": 36,
   "metadata": {},
   "outputs": [
    {
     "data": {
      "text/plain": [
       "ShapiroResult(statistic=0.09166896343231201, pvalue=0.0)"
      ]
     },
     "execution_count": 36,
     "metadata": {},
     "output_type": "execute_result"
    }
   ],
   "source": [
    "from scipy.stats import shapiro\n",
    "shapiro(df4)"
   ]
  },
  {
   "cell_type": "code",
   "execution_count": 37,
   "metadata": {},
   "outputs": [
    {
     "data": {
      "text/html": [
       "<div>\n",
       "<style scoped>\n",
       "    .dataframe tbody tr th:only-of-type {\n",
       "        vertical-align: middle;\n",
       "    }\n",
       "\n",
       "    .dataframe tbody tr th {\n",
       "        vertical-align: top;\n",
       "    }\n",
       "\n",
       "    .dataframe thead th {\n",
       "        text-align: right;\n",
       "    }\n",
       "</style>\n",
       "<table border=\"1\" class=\"dataframe\">\n",
       "  <thead>\n",
       "    <tr style=\"text-align: right;\">\n",
       "      <th></th>\n",
       "      <th>region</th>\n",
       "      <th>category</th>\n",
       "      <th>parameter</th>\n",
       "      <th>mode</th>\n",
       "      <th>powertrain</th>\n",
       "      <th>year</th>\n",
       "      <th>unit</th>\n",
       "      <th>value</th>\n",
       "    </tr>\n",
       "  </thead>\n",
       "  <tbody>\n",
       "    <tr>\n",
       "      <th>0</th>\n",
       "      <td>0.0</td>\n",
       "      <td>0.0</td>\n",
       "      <td>1.0</td>\n",
       "      <td>1.0</td>\n",
       "      <td>0.0</td>\n",
       "      <td>2011</td>\n",
       "      <td>0.0</td>\n",
       "      <td>49.0</td>\n",
       "    </tr>\n",
       "    <tr>\n",
       "      <th>3</th>\n",
       "      <td>0.0</td>\n",
       "      <td>0.0</td>\n",
       "      <td>0.0</td>\n",
       "      <td>1.0</td>\n",
       "      <td>0.0</td>\n",
       "      <td>2011</td>\n",
       "      <td>0.0</td>\n",
       "      <td>49.0</td>\n",
       "    </tr>\n",
       "    <tr>\n",
       "      <th>4</th>\n",
       "      <td>0.0</td>\n",
       "      <td>0.0</td>\n",
       "      <td>0.0</td>\n",
       "      <td>1.0</td>\n",
       "      <td>0.0</td>\n",
       "      <td>2012</td>\n",
       "      <td>0.0</td>\n",
       "      <td>170.0</td>\n",
       "    </tr>\n",
       "    <tr>\n",
       "      <th>7</th>\n",
       "      <td>0.0</td>\n",
       "      <td>0.0</td>\n",
       "      <td>1.0</td>\n",
       "      <td>1.0</td>\n",
       "      <td>0.0</td>\n",
       "      <td>2012</td>\n",
       "      <td>0.0</td>\n",
       "      <td>220.0</td>\n",
       "    </tr>\n",
       "    <tr>\n",
       "      <th>8</th>\n",
       "      <td>0.0</td>\n",
       "      <td>0.0</td>\n",
       "      <td>1.0</td>\n",
       "      <td>1.0</td>\n",
       "      <td>1.0</td>\n",
       "      <td>2012</td>\n",
       "      <td>0.0</td>\n",
       "      <td>80.0</td>\n",
       "    </tr>\n",
       "  </tbody>\n",
       "</table>\n",
       "</div>"
      ],
      "text/plain": [
       "   region  category  parameter  mode  powertrain  year  unit  value\n",
       "0     0.0       0.0        1.0   1.0         0.0  2011   0.0   49.0\n",
       "3     0.0       0.0        0.0   1.0         0.0  2011   0.0   49.0\n",
       "4     0.0       0.0        0.0   1.0         0.0  2012   0.0  170.0\n",
       "7     0.0       0.0        1.0   1.0         0.0  2012   0.0  220.0\n",
       "8     0.0       0.0        1.0   1.0         1.0  2012   0.0   80.0"
      ]
     },
     "execution_count": 37,
     "metadata": {},
     "output_type": "execute_result"
    }
   ],
   "source": [
    "df1.head()"
   ]
  },
  {
   "cell_type": "code",
   "execution_count": 38,
   "metadata": {},
   "outputs": [],
   "source": [
    "from sklearn.model_selection import train_test_split\n",
    "X=df1.iloc[:,:-1].values\n",
    "Y=df1[['value']]\n",
    "X_train , X_test, Y_train, Y_test =train_test_split(X,Y, test_size=0.2, random_state=32)"
   ]
  },
  {
   "cell_type": "code",
   "execution_count": 39,
   "metadata": {},
   "outputs": [
    {
     "data": {
      "text/html": [
       "<div>\n",
       "<style scoped>\n",
       "    .dataframe tbody tr th:only-of-type {\n",
       "        vertical-align: middle;\n",
       "    }\n",
       "\n",
       "    .dataframe tbody tr th {\n",
       "        vertical-align: top;\n",
       "    }\n",
       "\n",
       "    .dataframe thead th {\n",
       "        text-align: right;\n",
       "    }\n",
       "</style>\n",
       "<table border=\"1\" class=\"dataframe\">\n",
       "  <thead>\n",
       "    <tr style=\"text-align: right;\">\n",
       "      <th></th>\n",
       "      <th>value</th>\n",
       "    </tr>\n",
       "  </thead>\n",
       "  <tbody>\n",
       "    <tr>\n",
       "      <th>0</th>\n",
       "      <td>49.0</td>\n",
       "    </tr>\n",
       "    <tr>\n",
       "      <th>3</th>\n",
       "      <td>49.0</td>\n",
       "    </tr>\n",
       "    <tr>\n",
       "      <th>4</th>\n",
       "      <td>170.0</td>\n",
       "    </tr>\n",
       "    <tr>\n",
       "      <th>7</th>\n",
       "      <td>220.0</td>\n",
       "    </tr>\n",
       "    <tr>\n",
       "      <th>8</th>\n",
       "      <td>80.0</td>\n",
       "    </tr>\n",
       "    <tr>\n",
       "      <th>...</th>\n",
       "      <td>...</td>\n",
       "    </tr>\n",
       "    <tr>\n",
       "      <th>9537</th>\n",
       "      <td>910000.0</td>\n",
       "    </tr>\n",
       "    <tr>\n",
       "      <th>9538</th>\n",
       "      <td>12000000.0</td>\n",
       "    </tr>\n",
       "    <tr>\n",
       "      <th>9539</th>\n",
       "      <td>1300000.0</td>\n",
       "    </tr>\n",
       "    <tr>\n",
       "      <th>9540</th>\n",
       "      <td>180000000.0</td>\n",
       "    </tr>\n",
       "    <tr>\n",
       "      <th>9541</th>\n",
       "      <td>50000000.0</td>\n",
       "    </tr>\n",
       "  </tbody>\n",
       "</table>\n",
       "<p>4624 rows × 1 columns</p>\n",
       "</div>"
      ],
      "text/plain": [
       "            value\n",
       "0            49.0\n",
       "3            49.0\n",
       "4           170.0\n",
       "7           220.0\n",
       "8            80.0\n",
       "...           ...\n",
       "9537     910000.0\n",
       "9538   12000000.0\n",
       "9539    1300000.0\n",
       "9540  180000000.0\n",
       "9541   50000000.0\n",
       "\n",
       "[4624 rows x 1 columns]"
      ]
     },
     "execution_count": 39,
     "metadata": {},
     "output_type": "execute_result"
    }
   ],
   "source": [
    "Y"
   ]
  },
  {
   "cell_type": "code",
   "execution_count": 40,
   "metadata": {},
   "outputs": [],
   "source": [
    "from sklearn.preprocessing import StandardScaler\n",
    "scaler = StandardScaler()\n",
    "X_train_scaled = scaler.fit_transform(X_train)\n",
    "X_test_scaled = scaler.transform(X_test)\n",
    "# scaler = StandardScaler()\n",
    "Y_train_scaled= scaler.fit_transform(Y_train)\n",
    "Y_test_scaled = scaler.transform(Y_test)"
   ]
  },
  {
   "cell_type": "code",
   "execution_count": 41,
   "metadata": {},
   "outputs": [
    {
     "data": {
      "text/plain": [
       "array([[-1.5534551 , -0.44316373,  0.9688546 , ...,  1.29034321,\n",
       "         0.36844904,  0.        ],\n",
       "       [ 0.77472603, -0.44316373, -1.03214661, ..., -0.77498761,\n",
       "        -0.52730712,  0.        ],\n",
       "       [-1.5534551 , -0.44316373, -1.03214661, ..., -0.77498761,\n",
       "        -0.07942904,  0.        ],\n",
       "       ...,\n",
       "       [-0.80843714, -0.44316373,  0.9688546 , ..., -0.77498761,\n",
       "         0.36844904,  0.        ],\n",
       "       [-0.71530989, -0.44316373, -1.03214661, ...,  1.29034321,\n",
       "         0.14451   ,  0.        ],\n",
       "       [ 0.3090898 , -0.44316373, -1.03214661, ..., -0.77498761,\n",
       "         0.59238808,  0.        ]])"
      ]
     },
     "execution_count": 41,
     "metadata": {},
     "output_type": "execute_result"
    }
   ],
   "source": [
    "X_train_scaled"
   ]
  },
  {
   "cell_type": "code",
   "execution_count": 42,
   "metadata": {},
   "outputs": [
    {
     "data": {
      "text/plain": [
       "array([[-0.10197648],\n",
       "       [-0.1052677 ],\n",
       "       [-0.10545325],\n",
       "       ...,\n",
       "       [-0.1052561 ],\n",
       "       [-0.10406394],\n",
       "       [-0.09061147]])"
      ]
     },
     "execution_count": 42,
     "metadata": {},
     "output_type": "execute_result"
    }
   ],
   "source": [
    "Y_train_scaled"
   ]
  },
  {
   "cell_type": "code",
   "execution_count": 43,
   "metadata": {},
   "outputs": [
    {
     "name": "stderr",
     "output_type": "stream",
     "text": [
      "/home/ayush/Ayush/Sixth_Sem/ML/myenv/lib/python3.10/site-packages/sklearn/base.py:1351: DataConversionWarning: A column-vector y was passed when a 1d array was expected. Please change the shape of y to (n_samples,), for example using ravel().\n",
      "  return fit_method(estimator, *args, **kwargs)\n"
     ]
    },
    {
     "name": "stdout",
     "output_type": "stream",
     "text": [
      "mse= 0.3809364555850119\n",
      "r2_score 0.825994390007584\n"
     ]
    }
   ],
   "source": [
    "from sklearn.ensemble import RandomForestRegressor\n",
    "from sklearn.metrics import mean_squared_error, r2_score\n",
    "model1 = RandomForestRegressor()\n",
    "model1.fit(X_train_scaled, Y_train_scaled)\n",
    "Y_pred_scaled= model1.predict(X_test_scaled)\n",
    "# Y_pred= scaler.inverse_transform(Y_pred_scaled)\n",
    "eval = mean_squared_error(Y_test_scaled, Y_pred_scaled)\n",
    "print(\"mse=\",eval)\n",
    "score = r2_score(Y_test_scaled, Y_pred_scaled)\n",
    "print(\"r2_score\", score)\n"
   ]
  },
  {
   "cell_type": "code",
   "execution_count": 44,
   "metadata": {},
   "outputs": [
    {
     "name": "stderr",
     "output_type": "stream",
     "text": [
      "/home/ayush/Ayush/Sixth_Sem/ML/myenv/lib/python3.10/site-packages/sklearn/base.py:1351: DataConversionWarning: A column-vector y was passed when a 1d array was expected. Please change the shape of y to (n_samples,), for example using ravel().\n",
      "  return fit_method(estimator, *args, **kwargs)\n"
     ]
    },
    {
     "name": "stdout",
     "output_type": "stream",
     "text": [
      "mse= 0.3929495971892855\n",
      "r2_score 0.7400093297556597\n"
     ]
    }
   ],
   "source": [
    "X=df2.iloc[:,:-1].values\n",
    "Y=df2[['value']]\n",
    "X_train , X_test, Y_train, Y_test =train_test_split(X,Y, test_size=0.2, random_state=32)\n",
    "X_train_scaled = scaler.fit_transform(X_train)\n",
    "X_test_scaled = scaler.transform(X_test)\n",
    "# scaler = StandardScaler()\n",
    "Y_train_scaled= scaler.fit_transform(Y_train)\n",
    "Y_test_scaled = scaler.transform(Y_test)\n",
    "model2 = RandomForestRegressor()\n",
    "model2.fit(X_train_scaled, Y_train_scaled)\n",
    "Y_pred_scaled= model2.predict(X_test_scaled)\n",
    "# Y_pred= scaler.inverse_transform(Y_pred_scaled)\n",
    "eval = mean_squared_error(Y_test_scaled, Y_pred_scaled)\n",
    "print(\"mse=\",eval)\n",
    "score = r2_score(Y_test_scaled, Y_pred_scaled)\n",
    "print(\"r2_score\", score)\n"
   ]
  },
  {
   "cell_type": "code",
   "execution_count": 45,
   "metadata": {},
   "outputs": [
    {
     "name": "stderr",
     "output_type": "stream",
     "text": [
      "/home/ayush/Ayush/Sixth_Sem/ML/myenv/lib/python3.10/site-packages/sklearn/base.py:1351: DataConversionWarning: A column-vector y was passed when a 1d array was expected. Please change the shape of y to (n_samples,), for example using ravel().\n",
      "  return fit_method(estimator, *args, **kwargs)\n"
     ]
    },
    {
     "name": "stdout",
     "output_type": "stream",
     "text": [
      "mse= 0.007122818375798856\n",
      "r2_score 0.7553727168474925\n"
     ]
    }
   ],
   "source": [
    "X=df3.iloc[:,:-1].values\n",
    "Y=df3[['value']]\n",
    "X_train , X_test, Y_train, Y_test =train_test_split(X,Y, test_size=0.2, random_state=32)\n",
    "X_train_scaled = scaler.fit_transform(X_train)\n",
    "X_test_scaled = scaler.transform(X_test)\n",
    "# scaler = StandardScaler()\n",
    "Y_train_scaled= scaler.fit_transform(Y_train)\n",
    "Y_test_scaled = scaler.transform(Y_test)\n",
    "model3 = RandomForestRegressor()\n",
    "model3.fit(X_train_scaled, Y_train_scaled)\n",
    "Y_pred_scaled= model3.predict(X_test_scaled)\n",
    "# Y_pred= scaler.inverse_transform(Y_pred_scaled)\n",
    "eval = mean_squared_error(Y_test_scaled, Y_pred_scaled)\n",
    "print(\"mse=\",eval)\n",
    "score = r2_score(Y_test_scaled, Y_pred_scaled)\n",
    "print(\"r2_score\", score)\n"
   ]
  },
  {
   "cell_type": "code",
   "execution_count": 46,
   "metadata": {},
   "outputs": [
    {
     "data": {
      "text/plain": [
       "array(['Vehicles', 'percent', 'charging points', 'GWh',\n",
       "       'Milion barrels per day', 'Oil displacement, million lge'],\n",
       "      dtype=object)"
      ]
     },
     "execution_count": 46,
     "metadata": {},
     "output_type": "execute_result"
    }
   ],
   "source": [
    "df['unit'].unique()"
   ]
  },
  {
   "cell_type": "code",
   "execution_count": 47,
   "metadata": {},
   "outputs": [
    {
     "name": "stdout",
     "output_type": "stream",
     "text": [
      "mse= 4.150245318724124\n",
      "r2_score 0.48323628060408197\n"
     ]
    },
    {
     "name": "stderr",
     "output_type": "stream",
     "text": [
      "/home/ayush/Ayush/Sixth_Sem/ML/myenv/lib/python3.10/site-packages/sklearn/base.py:1351: DataConversionWarning: A column-vector y was passed when a 1d array was expected. Please change the shape of y to (n_samples,), for example using ravel().\n",
      "  return fit_method(estimator, *args, **kwargs)\n"
     ]
    }
   ],
   "source": [
    "X=df4.iloc[:,:-1].values\n",
    "Y=df4[['value']]\n",
    "X_train , X_test, Y_train, Y_test =train_test_split(X,Y, test_size=0.2, random_state=32)\n",
    "X_train_scaled = scaler.fit_transform(X_train)\n",
    "X_test_scaled = scaler.transform(X_test)\n",
    "# scaler = StandardScaler()\n",
    "Y_train_scaled= scaler.fit_transform(Y_train)\n",
    "Y_test_scaled = scaler.transform(Y_test)\n",
    "model4 = RandomForestRegressor()\n",
    "model4.fit(X_train_scaled, Y_train_scaled)\n",
    "Y_pred_scaled= model4.predict(X_test_scaled)\n",
    "# Y_pred= scaler.inverse_transform(Y_pred_scaled)\n",
    "eval = mean_squared_error(Y_test_scaled, Y_pred_scaled)\n",
    "print(\"mse=\",eval)\n",
    "score = r2_score(Y_test_scaled, Y_pred_scaled)\n",
    "print(\"r2_score\", score)\n"
   ]
  },
  {
   "cell_type": "code",
   "execution_count": 48,
   "metadata": {},
   "outputs": [
    {
     "name": "stderr",
     "output_type": "stream",
     "text": [
      "/home/ayush/Ayush/Sixth_Sem/ML/myenv/lib/python3.10/site-packages/sklearn/base.py:1351: DataConversionWarning: A column-vector y was passed when a 1d array was expected. Please change the shape of y to (n_samples,), for example using ravel().\n",
      "  return fit_method(estimator, *args, **kwargs)\n"
     ]
    },
    {
     "name": "stdout",
     "output_type": "stream",
     "text": [
      "mse= 0.3863113554195515\n",
      "r2_score 0.25281443203924914\n"
     ]
    }
   ],
   "source": [
    "X=df5.iloc[:,:-1].values\n",
    "Y=df5[['value']]\n",
    "X_train , X_test, Y_train, Y_test =train_test_split(X,Y, test_size=0.2, random_state=42)\n",
    "X_train_scaled = scaler.fit_transform(X_train)\n",
    "X_test_scaled = scaler.transform(X_test)\n",
    "# scaler = StandardScaler()\n",
    "Y_train_scaled= scaler.fit_transform(Y_train)\n",
    "Y_test_scaled = scaler.transform(Y_test)\n",
    "model5 = RandomForestRegressor(n_estimators=200, max_depth=50, random_state=42)\n",
    "model5.fit(X_train_scaled, Y_train_scaled)\n",
    "Y_pred_scaled= model5.predict(X_test_scaled)\n",
    "# Y_pred= scaler.inverse_transform(Y_pred_scaled)\n",
    "eval = mean_squared_error(Y_test_scaled, Y_pred_scaled)\n",
    "print(\"mse=\",eval)\n",
    "score = r2_score(Y_test_scaled, Y_pred_scaled)\n",
    "print(\"r2_score\", score)\n"
   ]
  },
  {
   "cell_type": "code",
   "execution_count": 49,
   "metadata": {},
   "outputs": [
    {
     "name": "stderr",
     "output_type": "stream",
     "text": [
      "/home/ayush/Ayush/Sixth_Sem/ML/myenv/lib/python3.10/site-packages/sklearn/base.py:1351: DataConversionWarning: A column-vector y was passed when a 1d array was expected. Please change the shape of y to (n_samples,), for example using ravel().\n",
      "  return fit_method(estimator, *args, **kwargs)\n",
      "/home/ayush/Ayush/Sixth_Sem/ML/myenv/lib/python3.10/site-packages/sklearn/base.py:1351: DataConversionWarning: A column-vector y was passed when a 1d array was expected. Please change the shape of y to (n_samples,), for example using ravel().\n",
      "  return fit_method(estimator, *args, **kwargs)\n",
      "/home/ayush/Ayush/Sixth_Sem/ML/myenv/lib/python3.10/site-packages/sklearn/base.py:1351: DataConversionWarning: A column-vector y was passed when a 1d array was expected. Please change the shape of y to (n_samples,), for example using ravel().\n",
      "  return fit_method(estimator, *args, **kwargs)\n",
      "/home/ayush/Ayush/Sixth_Sem/ML/myenv/lib/python3.10/site-packages/sklearn/base.py:1351: DataConversionWarning: A column-vector y was passed when a 1d array was expected. Please change the shape of y to (n_samples,), for example using ravel().\n",
      "  return fit_method(estimator, *args, **kwargs)\n",
      "/home/ayush/Ayush/Sixth_Sem/ML/myenv/lib/python3.10/site-packages/sklearn/base.py:1351: DataConversionWarning: A column-vector y was passed when a 1d array was expected. Please change the shape of y to (n_samples,), for example using ravel().\n",
      "  return fit_method(estimator, *args, **kwargs)\n",
      "/home/ayush/Ayush/Sixth_Sem/ML/myenv/lib/python3.10/site-packages/sklearn/base.py:1351: DataConversionWarning: A column-vector y was passed when a 1d array was expected. Please change the shape of y to (n_samples,), for example using ravel().\n",
      "  return fit_method(estimator, *args, **kwargs)\n",
      "/home/ayush/Ayush/Sixth_Sem/ML/myenv/lib/python3.10/site-packages/sklearn/base.py:1351: DataConversionWarning: A column-vector y was passed when a 1d array was expected. Please change the shape of y to (n_samples,), for example using ravel().\n",
      "  return fit_method(estimator, *args, **kwargs)\n",
      "/home/ayush/Ayush/Sixth_Sem/ML/myenv/lib/python3.10/site-packages/sklearn/base.py:1351: DataConversionWarning: A column-vector y was passed when a 1d array was expected. Please change the shape of y to (n_samples,), for example using ravel().\n",
      "  return fit_method(estimator, *args, **kwargs)\n",
      "/home/ayush/Ayush/Sixth_Sem/ML/myenv/lib/python3.10/site-packages/sklearn/base.py:1351: DataConversionWarning: A column-vector y was passed when a 1d array was expected. Please change the shape of y to (n_samples,), for example using ravel().\n",
      "  return fit_method(estimator, *args, **kwargs)\n",
      "/home/ayush/Ayush/Sixth_Sem/ML/myenv/lib/python3.10/site-packages/sklearn/base.py:1351: DataConversionWarning: A column-vector y was passed when a 1d array was expected. Please change the shape of y to (n_samples,), for example using ravel().\n",
      "  return fit_method(estimator, *args, **kwargs)\n",
      "/home/ayush/Ayush/Sixth_Sem/ML/myenv/lib/python3.10/site-packages/sklearn/base.py:1351: DataConversionWarning: A column-vector y was passed when a 1d array was expected. Please change the shape of y to (n_samples,), for example using ravel().\n",
      "  return fit_method(estimator, *args, **kwargs)\n",
      "/home/ayush/Ayush/Sixth_Sem/ML/myenv/lib/python3.10/site-packages/sklearn/base.py:1351: DataConversionWarning: A column-vector y was passed when a 1d array was expected. Please change the shape of y to (n_samples,), for example using ravel().\n",
      "  return fit_method(estimator, *args, **kwargs)\n",
      "/home/ayush/Ayush/Sixth_Sem/ML/myenv/lib/python3.10/site-packages/sklearn/base.py:1351: DataConversionWarning: A column-vector y was passed when a 1d array was expected. Please change the shape of y to (n_samples,), for example using ravel().\n",
      "  return fit_method(estimator, *args, **kwargs)\n",
      "/home/ayush/Ayush/Sixth_Sem/ML/myenv/lib/python3.10/site-packages/sklearn/base.py:1351: DataConversionWarning: A column-vector y was passed when a 1d array was expected. Please change the shape of y to (n_samples,), for example using ravel().\n",
      "  return fit_method(estimator, *args, **kwargs)\n",
      "/home/ayush/Ayush/Sixth_Sem/ML/myenv/lib/python3.10/site-packages/sklearn/base.py:1351: DataConversionWarning: A column-vector y was passed when a 1d array was expected. Please change the shape of y to (n_samples,), for example using ravel().\n",
      "  return fit_method(estimator, *args, **kwargs)\n",
      "/home/ayush/Ayush/Sixth_Sem/ML/myenv/lib/python3.10/site-packages/sklearn/base.py:1351: DataConversionWarning: A column-vector y was passed when a 1d array was expected. Please change the shape of y to (n_samples,), for example using ravel().\n",
      "  return fit_method(estimator, *args, **kwargs)\n",
      "/home/ayush/Ayush/Sixth_Sem/ML/myenv/lib/python3.10/site-packages/sklearn/base.py:1351: DataConversionWarning: A column-vector y was passed when a 1d array was expected. Please change the shape of y to (n_samples,), for example using ravel().\n",
      "  return fit_method(estimator, *args, **kwargs)\n",
      "/home/ayush/Ayush/Sixth_Sem/ML/myenv/lib/python3.10/site-packages/sklearn/base.py:1351: DataConversionWarning: A column-vector y was passed when a 1d array was expected. Please change the shape of y to (n_samples,), for example using ravel().\n",
      "  return fit_method(estimator, *args, **kwargs)\n",
      "/home/ayush/Ayush/Sixth_Sem/ML/myenv/lib/python3.10/site-packages/sklearn/base.py:1351: DataConversionWarning: A column-vector y was passed when a 1d array was expected. Please change the shape of y to (n_samples,), for example using ravel().\n",
      "  return fit_method(estimator, *args, **kwargs)\n",
      "/home/ayush/Ayush/Sixth_Sem/ML/myenv/lib/python3.10/site-packages/sklearn/base.py:1351: DataConversionWarning: A column-vector y was passed when a 1d array was expected. Please change the shape of y to (n_samples,), for example using ravel().\n",
      "  return fit_method(estimator, *args, **kwargs)\n",
      "/home/ayush/Ayush/Sixth_Sem/ML/myenv/lib/python3.10/site-packages/sklearn/base.py:1351: DataConversionWarning: A column-vector y was passed when a 1d array was expected. Please change the shape of y to (n_samples,), for example using ravel().\n",
      "  return fit_method(estimator, *args, **kwargs)\n",
      "/home/ayush/Ayush/Sixth_Sem/ML/myenv/lib/python3.10/site-packages/sklearn/base.py:1351: DataConversionWarning: A column-vector y was passed when a 1d array was expected. Please change the shape of y to (n_samples,), for example using ravel().\n",
      "  return fit_method(estimator, *args, **kwargs)\n"
     ]
    },
    {
     "name": "stdout",
     "output_type": "stream",
     "text": [
      "Mean Squared Error on Test Set: 0.1378393151518177\n",
      "{'n_estimators': 150}\n"
     ]
    },
    {
     "data": {
      "text/plain": [
       "-2.2918521213040424"
      ]
     },
     "execution_count": 49,
     "metadata": {},
     "output_type": "execute_result"
    }
   ],
   "source": [
    "from sklearn.model_selection import train_test_split, GridSearchCV\n",
    "from sklearn.ensemble import RandomForestRegressor\n",
    "from sklearn.metrics import mean_squared_error, r2_score\n",
    "\n",
    "# Split data into train and test sets\n",
    "X_trainval, X_test, y_trainval, y_test = train_test_split(X, Y, test_size=0.2, random_state=42)\n",
    "\n",
    "# Further split the trainval set into train and validation sets\n",
    "X_train, X_val, y_train, y_val = train_test_split(X_trainval, y_trainval, test_size=0.2, random_state=42)\n",
    "\n",
    "# Define the range of values for n_estimators to search through\n",
    "param_grid = {\n",
    "    'n_estimators': [50, 100, 150, 200]  # Adjust as needed\n",
    "}\n",
    "\n",
    "# Initialize the Random Forest Regressor\n",
    "rf_regressor = RandomForestRegressor(random_state=42)\n",
    "\n",
    "# Initialize GridSearchCV\n",
    "grid_search = GridSearchCV(rf_regressor, param_grid, cv=5, scoring='neg_mean_squared_error')\n",
    "\n",
    "# Perform the grid search on the training set\n",
    "grid_search.fit(X_train, y_train)\n",
    "\n",
    "# Get the best parameter values\n",
    "best_params = grid_search.best_params_\n",
    "\n",
    "# Train a new model using the best parameters on the entire training set (train + validation)\n",
    "best_rf_regressor = RandomForestRegressor(**best_params, random_state=42)\n",
    "best_rf_regressor.fit(X_trainval, y_trainval)\n",
    "\n",
    "# Evaluate the model on the test set\n",
    "y_pred_test = best_rf_regressor.predict(X_test)\n",
    "mse_test = mean_squared_error(y_test, y_pred_test)\n",
    "print(\"Mean Squared Error on Test Set:\", mse_test)\n",
    "print(best_params)\n",
    "score= r2_score(y_test, y_pred_test)\n",
    "score\n"
   ]
  },
  {
   "cell_type": "code",
   "execution_count": 50,
   "metadata": {},
   "outputs": [
    {
     "name": "stdout",
     "output_type": "stream",
     "text": [
      "mse= 0.2955994898902312\n",
      "r2_score 0.5545948456850169\n"
     ]
    },
    {
     "name": "stderr",
     "output_type": "stream",
     "text": [
      "/home/ayush/Ayush/Sixth_Sem/ML/myenv/lib/python3.10/site-packages/sklearn/base.py:1351: DataConversionWarning: A column-vector y was passed when a 1d array was expected. Please change the shape of y to (n_samples,), for example using ravel().\n",
      "  return fit_method(estimator, *args, **kwargs)\n"
     ]
    }
   ],
   "source": [
    "X=df6.iloc[:,:-1].values\n",
    "Y=df6[['value']]\n",
    "X_train , X_test, Y_train, Y_test =train_test_split(X,Y, test_size=0.2, random_state=32)\n",
    "X_train_scaled = scaler.fit_transform(X_train)\n",
    "X_test_scaled = scaler.transform(X_test)\n",
    "# scaler = StandardScaler()\n",
    "Y_train_scaled= scaler.fit_transform(Y_train)\n",
    "Y_test_scaled = scaler.transform(Y_test)\n",
    "model6 = RandomForestRegressor()\n",
    "model6.fit(X_train_scaled, Y_train_scaled)\n",
    "Y_pred_scaled= model6.predict(X_test_scaled)\n",
    "# Y_pred= scaler.inverse_transform(Y_pred_scaled)\n",
    "eval = mean_squared_error(Y_test_scaled, Y_pred_scaled)\n",
    "print(\"mse=\",eval)\n",
    "score = r2_score(Y_test_scaled, Y_pred_scaled)\n",
    "print(\"r2_score\", score)\n"
   ]
  }
 ],
 "metadata": {
  "kernelspec": {
   "display_name": "myenv",
   "language": "python",
   "name": "python3"
  },
  "language_info": {
   "codemirror_mode": {
    "name": "ipython",
    "version": 3
   },
   "file_extension": ".py",
   "mimetype": "text/x-python",
   "name": "python",
   "nbconvert_exporter": "python",
   "pygments_lexer": "ipython3",
   "version": "3.10.0"
  }
 },
 "nbformat": 4,
 "nbformat_minor": 2
}
