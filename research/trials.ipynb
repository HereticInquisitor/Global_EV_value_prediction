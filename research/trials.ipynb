{
 "cells": [
  {
   "cell_type": "code",
   "execution_count": 1,
   "metadata": {},
   "outputs": [],
   "source": [
    "import pandas as pd\n",
    "import numpy as np\n",
    "from sklearn.feature_extraction import FeatureHasher\n",
    "from matplotlib import pyplot as plt\n",
    "import seaborn as sns\n",
    "import joblib"
   ]
  },
  {
   "cell_type": "code",
   "execution_count": 2,
   "metadata": {},
   "outputs": [
    {
     "name": "stdout",
     "output_type": "stream",
     "text": [
      "data\t      encoder5.pkl  X_scaler1.pkl  X_scaler6.pkl  Y_scaler5.pkl\n",
      "encoder1.pkl  encoder6.pkl  X_scaler2.pkl  Y_scaler1.pkl  Y_scaler6.pkl\n",
      "encoder2.pkl  encoder.pkl   X_scaler3.pkl  Y_scaler2.pkl\n",
      "encoder3.pkl  Note1.ipynb   X_scaler4.pkl  Y_scaler3.pkl\n",
      "encoder4.pkl  trials.ipynb  X_scaler5.pkl  Y_scaler4.pkl\n"
     ]
    }
   ],
   "source": [
    "!ls\n"
   ]
  },
  {
   "cell_type": "code",
   "execution_count": 3,
   "metadata": {},
   "outputs": [],
   "source": [
    "df= pd.read_csv('data/Global_EV_2023.csv')"
   ]
  },
  {
   "cell_type": "code",
   "execution_count": 4,
   "metadata": {},
   "outputs": [
    {
     "data": {
      "text/html": [
       "<div>\n",
       "<style scoped>\n",
       "    .dataframe tbody tr th:only-of-type {\n",
       "        vertical-align: middle;\n",
       "    }\n",
       "\n",
       "    .dataframe tbody tr th {\n",
       "        vertical-align: top;\n",
       "    }\n",
       "\n",
       "    .dataframe thead th {\n",
       "        text-align: right;\n",
       "    }\n",
       "</style>\n",
       "<table border=\"1\" class=\"dataframe\">\n",
       "  <thead>\n",
       "    <tr style=\"text-align: right;\">\n",
       "      <th></th>\n",
       "      <th>region</th>\n",
       "      <th>category</th>\n",
       "      <th>parameter</th>\n",
       "      <th>mode</th>\n",
       "      <th>powertrain</th>\n",
       "      <th>year</th>\n",
       "      <th>unit</th>\n",
       "      <th>value</th>\n",
       "    </tr>\n",
       "  </thead>\n",
       "  <tbody>\n",
       "    <tr>\n",
       "      <th>0</th>\n",
       "      <td>Australia</td>\n",
       "      <td>Historical</td>\n",
       "      <td>EV stock</td>\n",
       "      <td>Cars</td>\n",
       "      <td>BEV</td>\n",
       "      <td>2011</td>\n",
       "      <td>Vehicles</td>\n",
       "      <td>49.00000</td>\n",
       "    </tr>\n",
       "    <tr>\n",
       "      <th>1</th>\n",
       "      <td>Australia</td>\n",
       "      <td>Historical</td>\n",
       "      <td>EV sales share</td>\n",
       "      <td>Cars</td>\n",
       "      <td>EV</td>\n",
       "      <td>2011</td>\n",
       "      <td>percent</td>\n",
       "      <td>0.00650</td>\n",
       "    </tr>\n",
       "    <tr>\n",
       "      <th>2</th>\n",
       "      <td>Australia</td>\n",
       "      <td>Historical</td>\n",
       "      <td>EV stock share</td>\n",
       "      <td>Cars</td>\n",
       "      <td>EV</td>\n",
       "      <td>2011</td>\n",
       "      <td>percent</td>\n",
       "      <td>0.00046</td>\n",
       "    </tr>\n",
       "    <tr>\n",
       "      <th>3</th>\n",
       "      <td>Australia</td>\n",
       "      <td>Historical</td>\n",
       "      <td>EV sales</td>\n",
       "      <td>Cars</td>\n",
       "      <td>BEV</td>\n",
       "      <td>2011</td>\n",
       "      <td>Vehicles</td>\n",
       "      <td>49.00000</td>\n",
       "    </tr>\n",
       "    <tr>\n",
       "      <th>4</th>\n",
       "      <td>Australia</td>\n",
       "      <td>Historical</td>\n",
       "      <td>EV sales</td>\n",
       "      <td>Cars</td>\n",
       "      <td>BEV</td>\n",
       "      <td>2012</td>\n",
       "      <td>Vehicles</td>\n",
       "      <td>170.00000</td>\n",
       "    </tr>\n",
       "  </tbody>\n",
       "</table>\n",
       "</div>"
      ],
      "text/plain": [
       "      region    category       parameter  mode powertrain  year      unit  \\\n",
       "0  Australia  Historical        EV stock  Cars        BEV  2011  Vehicles   \n",
       "1  Australia  Historical  EV sales share  Cars         EV  2011   percent   \n",
       "2  Australia  Historical  EV stock share  Cars         EV  2011   percent   \n",
       "3  Australia  Historical        EV sales  Cars        BEV  2011  Vehicles   \n",
       "4  Australia  Historical        EV sales  Cars        BEV  2012  Vehicles   \n",
       "\n",
       "       value  \n",
       "0   49.00000  \n",
       "1    0.00650  \n",
       "2    0.00046  \n",
       "3   49.00000  \n",
       "4  170.00000  "
      ]
     },
     "execution_count": 4,
     "metadata": {},
     "output_type": "execute_result"
    }
   ],
   "source": [
    "df.head()"
   ]
  },
  {
   "cell_type": "code",
   "execution_count": 5,
   "metadata": {},
   "outputs": [],
   "source": [
    "cat_cols=[]\n",
    "num_cols=[]\n",
    "for cols in df.columns:\n",
    "    if df[cols].dtype==\"object\":\n",
    "        cat_cols.append(cols)\n",
    "    else:\n",
    "        num_cols.append(cols)"
   ]
  },
  {
   "cell_type": "code",
   "execution_count": 6,
   "metadata": {},
   "outputs": [
    {
     "data": {
      "text/plain": [
       "['year', 'value']"
      ]
     },
     "execution_count": 6,
     "metadata": {},
     "output_type": "execute_result"
    }
   ],
   "source": [
    "num_cols"
   ]
  },
  {
   "cell_type": "code",
   "execution_count": 7,
   "metadata": {},
   "outputs": [
    {
     "data": {
      "text/plain": [
       "['region', 'category', 'parameter', 'mode', 'powertrain', 'unit']"
      ]
     },
     "execution_count": 7,
     "metadata": {},
     "output_type": "execute_result"
    }
   ],
   "source": [
    "cat_cols"
   ]
  },
  {
   "cell_type": "code",
   "execution_count": 8,
   "metadata": {},
   "outputs": [
    {
     "name": "stdout",
     "output_type": "stream",
     "text": [
      "0\n",
      "0\n",
      "0\n",
      "0\n",
      "0\n",
      "0\n"
     ]
    }
   ],
   "source": [
    "for cat in cat_cols:\n",
    "    print(df[cat].isnull().sum())"
   ]
  },
  {
   "cell_type": "code",
   "execution_count": 9,
   "metadata": {},
   "outputs": [
    {
     "name": "stdout",
     "output_type": "stream",
     "text": [
      "0\n",
      "0\n"
     ]
    }
   ],
   "source": [
    "for cat in num_cols:\n",
    "    print(df[cat].isnull().sum())"
   ]
  },
  {
   "cell_type": "code",
   "execution_count": 10,
   "metadata": {},
   "outputs": [
    {
     "data": {
      "text/plain": [
       "region        38\n",
       "category       3\n",
       "parameter      8\n",
       "mode           5\n",
       "powertrain     5\n",
       "unit           6\n",
       "dtype: int64"
      ]
     },
     "execution_count": 10,
     "metadata": {},
     "output_type": "execute_result"
    }
   ],
   "source": [
    "df[cat_cols].nunique()"
   ]
  },
  {
   "cell_type": "code",
   "execution_count": 11,
   "metadata": {},
   "outputs": [
    {
     "name": "stdout",
     "output_type": "stream",
     "text": [
      "region\n",
      "['Australia' 'Austria' 'Belgium' 'Brazil' 'Canada' 'Chile' 'China'\n",
      " 'Denmark' 'EU27' 'Europe' 'Finland' 'France' 'Germany' 'Greece' 'Iceland'\n",
      " 'India' 'Indonesia' 'Israel' 'Italy' 'Japan' 'Korea' 'Mexico'\n",
      " 'Netherlands' 'New Zealand' 'Norway' 'Other Europe' 'Poland' 'Portugal'\n",
      " 'Rest of the world' 'South Africa' 'Spain' 'Sweden' 'Switzerland'\n",
      " 'Thailand' 'Turkiye' 'United Kingdom' 'USA' 'World']\n",
      "\n",
      "category\n",
      "['Historical' 'Projection-STEPS' 'Projection-APS']\n",
      "\n",
      "parameter\n",
      "['EV stock' 'EV sales share' 'EV stock share' 'EV sales'\n",
      " 'EV charging points' 'Electricity demand' 'Oil displacement Mbd'\n",
      " 'Oil displacement, million lge']\n",
      "\n",
      "mode\n",
      "['Cars' 'EV' 'Buses' 'Vans' 'Trucks']\n",
      "\n",
      "powertrain\n",
      "['BEV' 'EV' 'PHEV' 'Publicly available fast' 'Publicly available slow']\n",
      "\n",
      "unit\n",
      "['Vehicles' 'percent' 'charging points' 'GWh' 'Milion barrels per day'\n",
      " 'Oil displacement, million lge']\n",
      "\n"
     ]
    }
   ],
   "source": [
    "for cols in cat_cols:\n",
    "    print(cols)\n",
    "    print(df[cols].unique())\n",
    "    print()"
   ]
  },
  {
   "cell_type": "code",
   "execution_count": 12,
   "metadata": {},
   "outputs": [],
   "source": [
    "# from sklearn.preprocessing import OrdinalEncoder\n",
    "# encoder = OrdinalEncoder()\n",
    "# df[cat_cols]=encoder.fit_transform(df[cat_cols])"
   ]
  },
  {
   "cell_type": "code",
   "execution_count": 13,
   "metadata": {},
   "outputs": [
    {
     "name": "stdout",
     "output_type": "stream",
     "text": [
      "year: 444\n",
      "value: 1826\n"
     ]
    }
   ],
   "source": [
    "for cat in num_cols:\n",
    "    IQR=df[cat].quantile(0.75)-df[cat].quantile(0.25)\n",
    "    UB= df[cat].quantile(0.75)+ (1.5*IQR)\n",
    "    LB= df[cat].quantile(0.25)-(1.5*IQR)\n",
    "    s=0\n",
    "    for row in df[cat]:\n",
    "        if row>=UB or row<= LB:\n",
    "            s+=1\n",
    "    print(f\"{cat}: {s}\")"
   ]
  },
  {
   "cell_type": "code",
   "execution_count": 14,
   "metadata": {},
   "outputs": [
    {
     "data": {
      "text/html": [
       "<div>\n",
       "<style scoped>\n",
       "    .dataframe tbody tr th:only-of-type {\n",
       "        vertical-align: middle;\n",
       "    }\n",
       "\n",
       "    .dataframe tbody tr th {\n",
       "        vertical-align: top;\n",
       "    }\n",
       "\n",
       "    .dataframe thead th {\n",
       "        text-align: right;\n",
       "    }\n",
       "</style>\n",
       "<table border=\"1\" class=\"dataframe\">\n",
       "  <thead>\n",
       "    <tr style=\"text-align: right;\">\n",
       "      <th></th>\n",
       "      <th>region</th>\n",
       "      <th>category</th>\n",
       "      <th>parameter</th>\n",
       "      <th>mode</th>\n",
       "      <th>powertrain</th>\n",
       "      <th>year</th>\n",
       "      <th>unit</th>\n",
       "      <th>value</th>\n",
       "    </tr>\n",
       "  </thead>\n",
       "  <tbody>\n",
       "    <tr>\n",
       "      <th>0</th>\n",
       "      <td>Australia</td>\n",
       "      <td>Historical</td>\n",
       "      <td>EV stock</td>\n",
       "      <td>Cars</td>\n",
       "      <td>BEV</td>\n",
       "      <td>2011</td>\n",
       "      <td>Vehicles</td>\n",
       "      <td>49.00000</td>\n",
       "    </tr>\n",
       "    <tr>\n",
       "      <th>1</th>\n",
       "      <td>Australia</td>\n",
       "      <td>Historical</td>\n",
       "      <td>EV sales share</td>\n",
       "      <td>Cars</td>\n",
       "      <td>EV</td>\n",
       "      <td>2011</td>\n",
       "      <td>percent</td>\n",
       "      <td>0.00650</td>\n",
       "    </tr>\n",
       "    <tr>\n",
       "      <th>2</th>\n",
       "      <td>Australia</td>\n",
       "      <td>Historical</td>\n",
       "      <td>EV stock share</td>\n",
       "      <td>Cars</td>\n",
       "      <td>EV</td>\n",
       "      <td>2011</td>\n",
       "      <td>percent</td>\n",
       "      <td>0.00046</td>\n",
       "    </tr>\n",
       "    <tr>\n",
       "      <th>3</th>\n",
       "      <td>Australia</td>\n",
       "      <td>Historical</td>\n",
       "      <td>EV sales</td>\n",
       "      <td>Cars</td>\n",
       "      <td>BEV</td>\n",
       "      <td>2011</td>\n",
       "      <td>Vehicles</td>\n",
       "      <td>49.00000</td>\n",
       "    </tr>\n",
       "    <tr>\n",
       "      <th>4</th>\n",
       "      <td>Australia</td>\n",
       "      <td>Historical</td>\n",
       "      <td>EV sales</td>\n",
       "      <td>Cars</td>\n",
       "      <td>BEV</td>\n",
       "      <td>2012</td>\n",
       "      <td>Vehicles</td>\n",
       "      <td>170.00000</td>\n",
       "    </tr>\n",
       "  </tbody>\n",
       "</table>\n",
       "</div>"
      ],
      "text/plain": [
       "      region    category       parameter  mode powertrain  year      unit  \\\n",
       "0  Australia  Historical        EV stock  Cars        BEV  2011  Vehicles   \n",
       "1  Australia  Historical  EV sales share  Cars         EV  2011   percent   \n",
       "2  Australia  Historical  EV stock share  Cars         EV  2011   percent   \n",
       "3  Australia  Historical        EV sales  Cars        BEV  2011  Vehicles   \n",
       "4  Australia  Historical        EV sales  Cars        BEV  2012  Vehicles   \n",
       "\n",
       "       value  \n",
       "0   49.00000  \n",
       "1    0.00650  \n",
       "2    0.00046  \n",
       "3   49.00000  \n",
       "4  170.00000  "
      ]
     },
     "execution_count": 14,
     "metadata": {},
     "output_type": "execute_result"
    }
   ],
   "source": [
    "df.head()"
   ]
  },
  {
   "cell_type": "code",
   "execution_count": 15,
   "metadata": {},
   "outputs": [],
   "source": [
    "df1 = df[df[\"unit\"]==\"Vehicles\"]"
   ]
  },
  {
   "cell_type": "code",
   "execution_count": 16,
   "metadata": {},
   "outputs": [],
   "source": [
    "df2 = df[df[\"unit\"]==\"percent\"]"
   ]
  },
  {
   "cell_type": "code",
   "execution_count": 17,
   "metadata": {},
   "outputs": [],
   "source": [
    "df3 = df[df[\"unit\"]==\"charging points\"]"
   ]
  },
  {
   "cell_type": "code",
   "execution_count": 18,
   "metadata": {},
   "outputs": [],
   "source": [
    "df4 = df[df[\"unit\"]==\"GWh\"]"
   ]
  },
  {
   "cell_type": "code",
   "execution_count": 19,
   "metadata": {},
   "outputs": [],
   "source": [
    "df5 = df[df[\"unit\"]==\"Milion barrels per day\"]"
   ]
  },
  {
   "cell_type": "code",
   "execution_count": 20,
   "metadata": {},
   "outputs": [],
   "source": [
    "df6 = df[df[\"unit\"]==\"Oil displacement, million lge\"]"
   ]
  },
  {
   "cell_type": "code",
   "execution_count": 21,
   "metadata": {},
   "outputs": [
    {
     "name": "stdout",
     "output_type": "stream",
     "text": [
      "['Australia' 'Austria' 'Belgium' 'Brazil' 'Canada' 'Chile' 'China'\n",
      " 'Denmark' 'EU27' 'Europe' 'Finland' 'France' 'Germany' 'Greece' 'Iceland'\n",
      " 'India' 'Israel' 'Italy' 'Japan' 'Korea' 'Mexico' 'Netherlands'\n",
      " 'New Zealand' 'Norway' 'Other Europe' 'Poland' 'Portugal'\n",
      " 'Rest of the world' 'South Africa' 'Spain' 'Sweden' 'Switzerland'\n",
      " 'Turkiye' 'United Kingdom' 'USA' 'World']\n",
      "['Historical' 'Projection-STEPS' 'Projection-APS']\n",
      "['EV stock' 'EV sales']\n",
      "['Cars' 'Buses' 'Vans' 'Trucks']\n",
      "['BEV' 'PHEV']\n",
      "['Vehicles']\n"
     ]
    }
   ],
   "source": [
    "for it in cat_cols:\n",
    "    \n",
    "    # if df1[it].dtype == 'object':\n",
    "        print(df1[it].unique())"
   ]
  },
  {
   "cell_type": "code",
   "execution_count": 22,
   "metadata": {},
   "outputs": [
    {
     "data": {
      "text/html": [
       "<div>\n",
       "<style scoped>\n",
       "    .dataframe tbody tr th:only-of-type {\n",
       "        vertical-align: middle;\n",
       "    }\n",
       "\n",
       "    .dataframe tbody tr th {\n",
       "        vertical-align: top;\n",
       "    }\n",
       "\n",
       "    .dataframe thead th {\n",
       "        text-align: right;\n",
       "    }\n",
       "</style>\n",
       "<table border=\"1\" class=\"dataframe\">\n",
       "  <thead>\n",
       "    <tr style=\"text-align: right;\">\n",
       "      <th></th>\n",
       "      <th>region</th>\n",
       "      <th>category</th>\n",
       "      <th>parameter</th>\n",
       "      <th>mode</th>\n",
       "      <th>powertrain</th>\n",
       "      <th>year</th>\n",
       "      <th>unit</th>\n",
       "      <th>value</th>\n",
       "    </tr>\n",
       "  </thead>\n",
       "  <tbody>\n",
       "    <tr>\n",
       "      <th>1</th>\n",
       "      <td>Australia</td>\n",
       "      <td>Historical</td>\n",
       "      <td>EV sales share</td>\n",
       "      <td>Cars</td>\n",
       "      <td>EV</td>\n",
       "      <td>2011</td>\n",
       "      <td>percent</td>\n",
       "      <td>0.00650</td>\n",
       "    </tr>\n",
       "    <tr>\n",
       "      <th>2</th>\n",
       "      <td>Australia</td>\n",
       "      <td>Historical</td>\n",
       "      <td>EV stock share</td>\n",
       "      <td>Cars</td>\n",
       "      <td>EV</td>\n",
       "      <td>2011</td>\n",
       "      <td>percent</td>\n",
       "      <td>0.00046</td>\n",
       "    </tr>\n",
       "    <tr>\n",
       "      <th>5</th>\n",
       "      <td>Australia</td>\n",
       "      <td>Historical</td>\n",
       "      <td>EV stock share</td>\n",
       "      <td>Cars</td>\n",
       "      <td>EV</td>\n",
       "      <td>2012</td>\n",
       "      <td>percent</td>\n",
       "      <td>0.00280</td>\n",
       "    </tr>\n",
       "    <tr>\n",
       "      <th>6</th>\n",
       "      <td>Australia</td>\n",
       "      <td>Historical</td>\n",
       "      <td>EV sales share</td>\n",
       "      <td>Cars</td>\n",
       "      <td>EV</td>\n",
       "      <td>2012</td>\n",
       "      <td>percent</td>\n",
       "      <td>0.03000</td>\n",
       "    </tr>\n",
       "    <tr>\n",
       "      <th>13</th>\n",
       "      <td>Australia</td>\n",
       "      <td>Historical</td>\n",
       "      <td>EV sales share</td>\n",
       "      <td>Cars</td>\n",
       "      <td>EV</td>\n",
       "      <td>2013</td>\n",
       "      <td>percent</td>\n",
       "      <td>0.03400</td>\n",
       "    </tr>\n",
       "  </tbody>\n",
       "</table>\n",
       "</div>"
      ],
      "text/plain": [
       "       region    category       parameter  mode powertrain  year     unit  \\\n",
       "1   Australia  Historical  EV sales share  Cars         EV  2011  percent   \n",
       "2   Australia  Historical  EV stock share  Cars         EV  2011  percent   \n",
       "5   Australia  Historical  EV stock share  Cars         EV  2012  percent   \n",
       "6   Australia  Historical  EV sales share  Cars         EV  2012  percent   \n",
       "13  Australia  Historical  EV sales share  Cars         EV  2013  percent   \n",
       "\n",
       "      value  \n",
       "1   0.00650  \n",
       "2   0.00046  \n",
       "5   0.00280  \n",
       "6   0.03000  \n",
       "13  0.03400  "
      ]
     },
     "execution_count": 22,
     "metadata": {},
     "output_type": "execute_result"
    }
   ],
   "source": [
    "df2.head()"
   ]
  },
  {
   "cell_type": "code",
   "execution_count": 23,
   "metadata": {},
   "outputs": [
    {
     "name": "stdout",
     "output_type": "stream",
     "text": [
      "['Australia' 'Austria' 'Belgium' 'Brazil' 'Canada' 'Chile' 'China'\n",
      " 'Denmark' 'EU27' 'Europe' 'Finland' 'France' 'Germany' 'Greece' 'Iceland'\n",
      " 'India' 'Israel' 'Italy' 'Japan' 'Korea' 'Mexico' 'Netherlands'\n",
      " 'New Zealand' 'Norway' 'Other Europe' 'Poland' 'Portugal'\n",
      " 'Rest of the world' 'South Africa' 'Spain' 'Sweden' 'Switzerland'\n",
      " 'Turkiye' 'United Kingdom' 'USA' 'World']\n",
      "['Historical' 'Projection-APS' 'Projection-STEPS']\n",
      "['EV sales share' 'EV stock share']\n",
      "['Cars' 'Buses' 'Vans' 'Trucks']\n",
      "['EV']\n",
      "[2011 2012 2013 2014 2015 2016 2017 2018 2019 2020 2021 2022 2010 2025\n",
      " 2030]\n",
      "['percent']\n",
      "[6.50000013e-03 4.60000010e-04 2.79999990e-03 2.99999993e-02\n",
      " 3.40000018e-02 5.40000014e-03 1.70000009e-02 1.59999996e-01\n",
      " 2.00000003e-01 3.20000015e-02 4.30000015e-02 1.50000006e-01\n",
      " 2.59999990e-01 6.10000007e-02 8.90000015e-02 4.19999987e-01\n",
      " 1.20000005e+00 2.19999999e-01 1.10000002e+00 2.79999995e+00\n",
      " 3.89999986e-01 5.89999974e-01 5.09999990e+00 2.19999999e-02\n",
      " 7.89999962e-03 1.30000000e-03 1.39999995e-03 3.99999991e-02\n",
      " 3.70000005e-02 8.29999983e-01 1.89999998e+00 1.29999995e+00\n",
      " 1.19999997e-01 3.29999998e-02 5.29999994e-02 1.70000002e-01\n",
      " 9.80000012e-03 1.50000000e+00 2.09999990e+00 1.09999999e-01\n",
      " 1.39999998e+00 3.50000001e-02 5.69999993e-01 1.50000001e-03\n",
      " 1.40000001e-01 8.99999976e-01 2.80000001e-01 1.00000001e-01\n",
      " 3.79999995e-01 2.39999995e-01 1.90000003e-03 2.00000000e+00\n",
      " 6.60000026e-01 1.70000005e+00 5.09999990e-01 2.59999990e+00\n",
      " 5.29999971e-01 2.09999997e-02 2.50000004e-02 7.50000000e-01\n",
      " 3.50000000e+00 1.60000002e+00 7.30000019e-01 9.50000000e+00\n",
      " 2.40000002e-02 8.10000002e-02 6.70000017e-01 2.00000000e+01\n",
      " 3.70000005e+00 1.79999995e+00 2.20000000e+01 3.00000000e+00\n",
      " 9.39999962e+00 1.89999994e-02 1.49999997e-02 9.99999978e-03\n",
      " 1.09999999e-02 6.39999984e-03 5.20000011e-02 1.30000003e-02\n",
      " 4.39999998e-02 4.00000019e-03 4.69999993e-03 1.89999998e-01\n",
      " 6.70000017e-02 4.80000023e-03 1.79999992e-02 7.60000013e-03\n",
      " 2.30000004e-01 7.90000036e-02 4.09999996e-01 1.20000001e-02\n",
      " 1.29999995e-01 7.69999981e-01 8.39999989e-02 8.39999970e-03\n",
      " 9.10000037e-03 7.20000029e-01 9.70000029e-02 2.89999992e-01\n",
      " 8.60000014e-01 9.70000029e-03 3.40000004e-01 1.00000000e+00\n",
      " 2.40000010e+00 8.89999978e-03 3.20000005e+00 4.90000010e-01\n",
      " 7.00000000e+00 6.99999988e-01 1.10000000e+01 3.59999985e-02\n",
      " 1.80000000e+01 3.00000012e-01 9.49999988e-01 1.40000004e-02\n",
      " 2.60000000e+01 3.40000010e+00 5.00000000e-01 4.50000000e+00\n",
      " 5.10000018e-03 4.30000015e-03 3.00000003e-03 5.49999997e-03\n",
      " 2.19999999e-03 1.80000003e-04 4.19999997e-04 4.10000002e-03\n",
      " 3.09999995e-02 4.69999984e-02 9.10000002e-04 6.30000001e-03\n",
      " 2.70000007e-03 1.09999999e-03 7.00000019e-05 2.30000005e-03\n",
      " 2.30000000e-02 3.59999994e-03 2.50000012e-04 2.89999996e-03\n",
      " 7.79999979e-03 3.80000006e-03 4.40000003e-04 2.49999994e-03\n",
      " 5.09999990e-02 7.40000010e-01 9.80000019e-01 9.79999974e-02\n",
      " 2.70000011e-01 2.60000001e-03 1.90000006e-04 4.10000011e-02\n",
      " 4.79999988e-04 2.70000007e-02 1.20000006e-03 2.09999993e-01\n",
      " 3.30000013e-01 1.79999997e-03 7.00000022e-03 8.50000009e-02\n",
      " 2.00000009e-03 4.30000007e-01 1.99999995e-04 9.90000010e-01\n",
      " 1.69999999e-04 2.70000005e+00 3.40000005e-03 8.79999995e-03\n",
      " 7.00000003e-02 7.90000021e-01 1.59999996e-04 4.09999990e+00\n",
      " 2.50000000e-01 3.59999990e+00 6.50000000e+00 8.39999974e-01\n",
      " 4.49999988e-01 9.09999982e-02 6.49999976e-01 2.69999990e-04\n",
      " 2.40000011e-03 4.69999999e-04 6.39999984e-04 7.10000005e-03\n",
      " 3.50000011e-03 7.19999969e-02 1.99999996e-02 2.60000005e-02\n",
      " 4.19999994e-02 8.20000023e-02 4.80000004e-02 3.10000003e-04\n",
      " 1.19999997e-04 7.60000024e-04 6.00000005e-03 8.99999961e-03\n",
      " 7.49999983e-03 5.40000021e-01 6.30000010e-02 7.29999989e-02\n",
      " 3.29999998e-03 9.49999988e-02 6.80000037e-02 2.50000000e+00\n",
      " 4.60000001e-02 4.00000006e-01 6.89999983e-02 1.60000000e+01\n",
      " 4.30000019e+00 6.39999986e-01 8.79999995e-01 5.69999981e+00\n",
      " 6.00000000e+00 1.50000000e+01 1.70000000e+01 8.60000038e+00\n",
      " 4.19999981e+00 4.90000010e+00 7.09999979e-01 8.00000012e-01\n",
      " 5.00000000e+00 1.00000000e+01 1.30000000e+01 5.80000019e+00\n",
      " 2.90000010e+00 9.59999979e-01 2.20000005e+00 1.20000000e+01\n",
      " 8.89999962e+00 9.89999962e+00 1.40000000e+01 2.90000000e+01\n",
      " 3.90000010e+00 4.50000000e+01 2.80000000e+01 3.10000000e+01\n",
      " 4.90000000e+01 2.40000000e+01 2.70000000e+01 5.40000000e+01\n",
      " 6.20000000e+01 8.00000000e+00 2.50000000e+01 3.70000000e-03\n",
      " 6.80000009e-03 5.60000002e-01 5.49999997e-02 5.60000017e-02\n",
      " 7.99999982e-02 4.39999998e-01 4.50000018e-02 9.20000002e-02\n",
      " 3.49999994e-01 2.29999995e+00 6.59999996e-02 8.50000024e-01\n",
      " 6.00000024e-01 1.80000007e-01 5.99999987e-02 3.10000002e-01\n",
      " 7.69999981e+00 9.10000026e-01 4.69999999e-01 5.19999981e+00\n",
      " 3.50000000e+01 9.20000017e-01 5.59999990e+00 6.10000014e-01\n",
      " 3.79999995e+00 8.19999981e+00 7.59999990e-01 8.50000000e+00\n",
      " 3.90000000e+01 7.80000019e+00 3.19999992e-03 7.40000010e-02\n",
      " 4.99999989e-03 5.50000012e-01 3.10000009e-03 9.20000020e-03\n",
      " 9.89999995e-02 6.89999992e-03 6.80000007e-01 8.89999986e-01\n",
      " 1.70000002e-03 3.19999993e-01 5.30000019e+00 8.10000002e-01\n",
      " 4.60000008e-01 8.50000046e-03 4.69999981e+00 2.10000000e+01\n",
      " 1.60000008e-02 6.59999996e-03 8.60000029e-03 7.40000000e-03\n",
      " 4.19999985e-03 9.00000036e-02 8.70000005e-01 7.19999988e-03\n",
      " 6.19999990e-02 9.30000003e-03 4.00000000e+00 6.69999981e+00\n",
      " 6.20000005e-01 3.20000000e+01 3.30000000e+01 7.79999971e-01\n",
      " 5.20000000e+01 5.70000000e+01 6.40000000e+01 4.60000000e+01\n",
      " 9.00000000e+00 5.80000000e+01 5.90000004e-02 3.60000014e-01\n",
      " 8.19999993e-01 6.90000010e+00 5.70000000e-02 5.79999993e-03\n",
      " 8.80000019e+00 5.00000000e+01 5.40000010e+00 3.80000000e+01\n",
      " 6.70000000e+01 6.40000010e+00 9.39999998e-04 3.90000008e-02\n",
      " 2.89999992e-02 6.89999998e-01 3.70000005e-01 2.80000009e-02\n",
      " 1.90000000e+01 9.10000038e+00 8.69999975e-02 4.90000006e-03\n",
      " 5.79999993e-04 4.39999998e-03 9.30000022e-02 9.39999998e-01\n",
      " 6.29999995e-01 7.50000000e+00 5.90000018e-05 8.20000016e-04\n",
      " 7.50000030e-02 7.90000010e+00 9.89999995e-03 4.89999987e-02\n",
      " 4.59999990e+00 3.29999995e+00 4.40000010e+00 3.09999990e+00\n",
      " 2.30000000e+01 6.30000019e+00 7.20000000e+01 9.30000007e-01\n",
      " 7.00000000e+01 5.20000001e-03 3.79999988e-02 5.70000010e-03\n",
      " 5.29999984e-03 5.19999981e-01 2.60000001e-04 3.19999999e-05\n",
      " 6.80000019e+00 9.60000046e-03 5.79999983e-02 5.90000022e-03\n",
      " 5.40000014e-02 9.39999968e-02 6.20000018e-03 6.09999988e-03\n",
      " 8.90000025e-04 5.00000007e-02 5.79999983e-01 6.40000030e-02\n",
      " 3.00000014e-04 3.99999990e-04 5.69999975e-04 7.30000029e-04\n",
      " 8.99999985e-04 9.39999986e-03 6.19999981e+00 1.00000005e-03\n",
      " 1.70000003e-05 4.90000006e-04 8.80000007e-04 5.39999979e-04\n",
      " 8.29999968e-02 6.79999997e-04 5.50000000e+00 7.30000019e+00\n",
      " 4.10000000e+01 7.10000000e+01 3.00000000e+01 4.40000000e+01\n",
      " 8.39999962e+00 6.09999988e-04 4.79999989e-01 6.49999976e-02\n",
      " 2.30000005e-04 5.60000000e+01 7.50000000e+01 8.60000000e+01\n",
      " 4.80000000e+01 8.80000000e+01 2.09999993e-03 2.80000007e-04\n",
      " 8.29999975e-04 9.69999994e-04 7.99999980e-04 3.89999989e-03\n",
      " 7.80000016e-02 5.90000011e-04 7.39999989e-04 9.79999968e-05\n",
      " 9.40000027e-05 1.59999996e-03 9.00000014e-05 8.70000003e-05\n",
      " 7.10000023e-02 8.39999993e-05 8.10000021e-03 9.80000012e-04\n",
      " 3.30000010e-04 3.70000016e-05 3.19999992e-04 4.29999985e-04\n",
      " 8.50000011e-04 7.09999993e-04 2.89999996e-04 5.29999998e-05\n",
      " 5.20000001e-04 4.89999984e-05 7.20000011e-04 1.40000004e-04\n",
      " 9.49999969e-03 4.60000010e-03 7.69999996e-03 3.39999999e-04\n",
      " 7.59999976e-02 4.49999981e-03 8.00000038e-03 8.39999993e-04\n",
      " 6.09999990e+00 8.69999981e+00 9.20000020e-05 7.69999996e-02\n",
      " 4.80000019e+00 7.59999990e+00 6.59999990e+00 4.30000000e+01\n",
      " 7.19999981e+00 7.09999990e+00 9.60000038e+00 8.29999987e-03\n",
      " 8.60000029e-02 4.00000000e+01 9.70000029e-01 3.60000000e+01]\n"
     ]
    }
   ],
   "source": [
    "for i in df2.columns:\n",
    "    print(df2[i].unique())"
   ]
  },
  {
   "cell_type": "code",
   "execution_count": 24,
   "metadata": {},
   "outputs": [
    {
     "data": {
      "text/html": [
       "<div>\n",
       "<style scoped>\n",
       "    .dataframe tbody tr th:only-of-type {\n",
       "        vertical-align: middle;\n",
       "    }\n",
       "\n",
       "    .dataframe tbody tr th {\n",
       "        vertical-align: top;\n",
       "    }\n",
       "\n",
       "    .dataframe thead th {\n",
       "        text-align: right;\n",
       "    }\n",
       "</style>\n",
       "<table border=\"1\" class=\"dataframe\">\n",
       "  <thead>\n",
       "    <tr style=\"text-align: right;\">\n",
       "      <th></th>\n",
       "      <th>region</th>\n",
       "      <th>category</th>\n",
       "      <th>parameter</th>\n",
       "      <th>mode</th>\n",
       "      <th>powertrain</th>\n",
       "      <th>year</th>\n",
       "      <th>unit</th>\n",
       "      <th>value</th>\n",
       "    </tr>\n",
       "  </thead>\n",
       "  <tbody>\n",
       "    <tr>\n",
       "      <th>40</th>\n",
       "      <td>Australia</td>\n",
       "      <td>Historical</td>\n",
       "      <td>EV charging points</td>\n",
       "      <td>EV</td>\n",
       "      <td>Publicly available fast</td>\n",
       "      <td>2017</td>\n",
       "      <td>charging points</td>\n",
       "      <td>40.0</td>\n",
       "    </tr>\n",
       "    <tr>\n",
       "      <th>41</th>\n",
       "      <td>Australia</td>\n",
       "      <td>Historical</td>\n",
       "      <td>EV charging points</td>\n",
       "      <td>EV</td>\n",
       "      <td>Publicly available slow</td>\n",
       "      <td>2017</td>\n",
       "      <td>charging points</td>\n",
       "      <td>440.0</td>\n",
       "    </tr>\n",
       "    <tr>\n",
       "      <th>42</th>\n",
       "      <td>Australia</td>\n",
       "      <td>Historical</td>\n",
       "      <td>EV charging points</td>\n",
       "      <td>EV</td>\n",
       "      <td>Publicly available fast</td>\n",
       "      <td>2018</td>\n",
       "      <td>charging points</td>\n",
       "      <td>61.0</td>\n",
       "    </tr>\n",
       "    <tr>\n",
       "      <th>43</th>\n",
       "      <td>Australia</td>\n",
       "      <td>Historical</td>\n",
       "      <td>EV charging points</td>\n",
       "      <td>EV</td>\n",
       "      <td>Publicly available slow</td>\n",
       "      <td>2018</td>\n",
       "      <td>charging points</td>\n",
       "      <td>670.0</td>\n",
       "    </tr>\n",
       "    <tr>\n",
       "      <th>56</th>\n",
       "      <td>Australia</td>\n",
       "      <td>Historical</td>\n",
       "      <td>EV charging points</td>\n",
       "      <td>EV</td>\n",
       "      <td>Publicly available fast</td>\n",
       "      <td>2019</td>\n",
       "      <td>charging points</td>\n",
       "      <td>250.0</td>\n",
       "    </tr>\n",
       "  </tbody>\n",
       "</table>\n",
       "</div>"
      ],
      "text/plain": [
       "       region    category           parameter mode               powertrain  \\\n",
       "40  Australia  Historical  EV charging points   EV  Publicly available fast   \n",
       "41  Australia  Historical  EV charging points   EV  Publicly available slow   \n",
       "42  Australia  Historical  EV charging points   EV  Publicly available fast   \n",
       "43  Australia  Historical  EV charging points   EV  Publicly available slow   \n",
       "56  Australia  Historical  EV charging points   EV  Publicly available fast   \n",
       "\n",
       "    year             unit  value  \n",
       "40  2017  charging points   40.0  \n",
       "41  2017  charging points  440.0  \n",
       "42  2018  charging points   61.0  \n",
       "43  2018  charging points  670.0  \n",
       "56  2019  charging points  250.0  "
      ]
     },
     "execution_count": 24,
     "metadata": {},
     "output_type": "execute_result"
    }
   ],
   "source": [
    "df3.head()"
   ]
  },
  {
   "cell_type": "code",
   "execution_count": 25,
   "metadata": {},
   "outputs": [
    {
     "data": {
      "text/html": [
       "<div>\n",
       "<style scoped>\n",
       "    .dataframe tbody tr th:only-of-type {\n",
       "        vertical-align: middle;\n",
       "    }\n",
       "\n",
       "    .dataframe tbody tr th {\n",
       "        vertical-align: top;\n",
       "    }\n",
       "\n",
       "    .dataframe thead th {\n",
       "        text-align: right;\n",
       "    }\n",
       "</style>\n",
       "<table border=\"1\" class=\"dataframe\">\n",
       "  <thead>\n",
       "    <tr style=\"text-align: right;\">\n",
       "      <th></th>\n",
       "      <th>region</th>\n",
       "      <th>category</th>\n",
       "      <th>parameter</th>\n",
       "      <th>mode</th>\n",
       "      <th>powertrain</th>\n",
       "      <th>year</th>\n",
       "      <th>unit</th>\n",
       "      <th>value</th>\n",
       "    </tr>\n",
       "  </thead>\n",
       "  <tbody>\n",
       "    <tr>\n",
       "      <th>1002</th>\n",
       "      <td>China</td>\n",
       "      <td>Historical</td>\n",
       "      <td>Electricity demand</td>\n",
       "      <td>Buses</td>\n",
       "      <td>EV</td>\n",
       "      <td>2010</td>\n",
       "      <td>GWh</td>\n",
       "      <td>24000.0</td>\n",
       "    </tr>\n",
       "    <tr>\n",
       "      <th>1003</th>\n",
       "      <td>China</td>\n",
       "      <td>Historical</td>\n",
       "      <td>Electricity demand</td>\n",
       "      <td>Trucks</td>\n",
       "      <td>EV</td>\n",
       "      <td>2010</td>\n",
       "      <td>GWh</td>\n",
       "      <td>36.0</td>\n",
       "    </tr>\n",
       "    <tr>\n",
       "      <th>1004</th>\n",
       "      <td>China</td>\n",
       "      <td>Historical</td>\n",
       "      <td>Electricity demand</td>\n",
       "      <td>Vans</td>\n",
       "      <td>EV</td>\n",
       "      <td>2010</td>\n",
       "      <td>GWh</td>\n",
       "      <td>110.0</td>\n",
       "    </tr>\n",
       "    <tr>\n",
       "      <th>1005</th>\n",
       "      <td>China</td>\n",
       "      <td>Historical</td>\n",
       "      <td>Electricity demand</td>\n",
       "      <td>Cars</td>\n",
       "      <td>EV</td>\n",
       "      <td>2010</td>\n",
       "      <td>GWh</td>\n",
       "      <td>330.0</td>\n",
       "    </tr>\n",
       "    <tr>\n",
       "      <th>1022</th>\n",
       "      <td>China</td>\n",
       "      <td>Historical</td>\n",
       "      <td>Electricity demand</td>\n",
       "      <td>Buses</td>\n",
       "      <td>EV</td>\n",
       "      <td>2011</td>\n",
       "      <td>GWh</td>\n",
       "      <td>24000.0</td>\n",
       "    </tr>\n",
       "  </tbody>\n",
       "</table>\n",
       "</div>"
      ],
      "text/plain": [
       "     region    category           parameter    mode powertrain  year unit  \\\n",
       "1002  China  Historical  Electricity demand   Buses         EV  2010  GWh   \n",
       "1003  China  Historical  Electricity demand  Trucks         EV  2010  GWh   \n",
       "1004  China  Historical  Electricity demand    Vans         EV  2010  GWh   \n",
       "1005  China  Historical  Electricity demand    Cars         EV  2010  GWh   \n",
       "1022  China  Historical  Electricity demand   Buses         EV  2011  GWh   \n",
       "\n",
       "        value  \n",
       "1002  24000.0  \n",
       "1003     36.0  \n",
       "1004    110.0  \n",
       "1005    330.0  \n",
       "1022  24000.0  "
      ]
     },
     "execution_count": 25,
     "metadata": {},
     "output_type": "execute_result"
    }
   ],
   "source": [
    "df4.head()"
   ]
  },
  {
   "cell_type": "code",
   "execution_count": 26,
   "metadata": {},
   "outputs": [
    {
     "data": {
      "text/html": [
       "<div>\n",
       "<style scoped>\n",
       "    .dataframe tbody tr th:only-of-type {\n",
       "        vertical-align: middle;\n",
       "    }\n",
       "\n",
       "    .dataframe tbody tr th {\n",
       "        vertical-align: top;\n",
       "    }\n",
       "\n",
       "    .dataframe thead th {\n",
       "        text-align: right;\n",
       "    }\n",
       "</style>\n",
       "<table border=\"1\" class=\"dataframe\">\n",
       "  <thead>\n",
       "    <tr style=\"text-align: right;\">\n",
       "      <th></th>\n",
       "      <th>region</th>\n",
       "      <th>category</th>\n",
       "      <th>parameter</th>\n",
       "      <th>mode</th>\n",
       "      <th>powertrain</th>\n",
       "      <th>year</th>\n",
       "      <th>unit</th>\n",
       "      <th>value</th>\n",
       "    </tr>\n",
       "  </thead>\n",
       "  <tbody>\n",
       "    <tr>\n",
       "      <th>1006</th>\n",
       "      <td>China</td>\n",
       "      <td>Historical</td>\n",
       "      <td>Oil displacement Mbd</td>\n",
       "      <td>Buses</td>\n",
       "      <td>EV</td>\n",
       "      <td>2010</td>\n",
       "      <td>Milion barrels per day</td>\n",
       "      <td>0.001100</td>\n",
       "    </tr>\n",
       "    <tr>\n",
       "      <th>1007</th>\n",
       "      <td>China</td>\n",
       "      <td>Historical</td>\n",
       "      <td>Oil displacement Mbd</td>\n",
       "      <td>Trucks</td>\n",
       "      <td>EV</td>\n",
       "      <td>2010</td>\n",
       "      <td>Milion barrels per day</td>\n",
       "      <td>0.000002</td>\n",
       "    </tr>\n",
       "    <tr>\n",
       "      <th>1008</th>\n",
       "      <td>China</td>\n",
       "      <td>Historical</td>\n",
       "      <td>Oil displacement Mbd</td>\n",
       "      <td>Vans</td>\n",
       "      <td>EV</td>\n",
       "      <td>2010</td>\n",
       "      <td>Milion barrels per day</td>\n",
       "      <td>0.000010</td>\n",
       "    </tr>\n",
       "    <tr>\n",
       "      <th>1009</th>\n",
       "      <td>China</td>\n",
       "      <td>Historical</td>\n",
       "      <td>Oil displacement Mbd</td>\n",
       "      <td>Cars</td>\n",
       "      <td>EV</td>\n",
       "      <td>2010</td>\n",
       "      <td>Milion barrels per day</td>\n",
       "      <td>0.000026</td>\n",
       "    </tr>\n",
       "    <tr>\n",
       "      <th>1014</th>\n",
       "      <td>China</td>\n",
       "      <td>Historical</td>\n",
       "      <td>Oil displacement Mbd</td>\n",
       "      <td>Buses</td>\n",
       "      <td>EV</td>\n",
       "      <td>2011</td>\n",
       "      <td>Milion barrels per day</td>\n",
       "      <td>0.001100</td>\n",
       "    </tr>\n",
       "  </tbody>\n",
       "</table>\n",
       "</div>"
      ],
      "text/plain": [
       "     region    category             parameter    mode powertrain  year  \\\n",
       "1006  China  Historical  Oil displacement Mbd   Buses         EV  2010   \n",
       "1007  China  Historical  Oil displacement Mbd  Trucks         EV  2010   \n",
       "1008  China  Historical  Oil displacement Mbd    Vans         EV  2010   \n",
       "1009  China  Historical  Oil displacement Mbd    Cars         EV  2010   \n",
       "1014  China  Historical  Oil displacement Mbd   Buses         EV  2011   \n",
       "\n",
       "                        unit     value  \n",
       "1006  Milion barrels per day  0.001100  \n",
       "1007  Milion barrels per day  0.000002  \n",
       "1008  Milion barrels per day  0.000010  \n",
       "1009  Milion barrels per day  0.000026  \n",
       "1014  Milion barrels per day  0.001100  "
      ]
     },
     "execution_count": 26,
     "metadata": {},
     "output_type": "execute_result"
    }
   ],
   "source": [
    "df5.head()"
   ]
  },
  {
   "cell_type": "code",
   "execution_count": 27,
   "metadata": {},
   "outputs": [
    {
     "data": {
      "text/html": [
       "<div>\n",
       "<style scoped>\n",
       "    .dataframe tbody tr th:only-of-type {\n",
       "        vertical-align: middle;\n",
       "    }\n",
       "\n",
       "    .dataframe tbody tr th {\n",
       "        vertical-align: top;\n",
       "    }\n",
       "\n",
       "    .dataframe thead th {\n",
       "        text-align: right;\n",
       "    }\n",
       "</style>\n",
       "<table border=\"1\" class=\"dataframe\">\n",
       "  <thead>\n",
       "    <tr style=\"text-align: right;\">\n",
       "      <th></th>\n",
       "      <th>region</th>\n",
       "      <th>category</th>\n",
       "      <th>parameter</th>\n",
       "      <th>mode</th>\n",
       "      <th>powertrain</th>\n",
       "      <th>year</th>\n",
       "      <th>unit</th>\n",
       "      <th>value</th>\n",
       "    </tr>\n",
       "  </thead>\n",
       "  <tbody>\n",
       "    <tr>\n",
       "      <th>1010</th>\n",
       "      <td>China</td>\n",
       "      <td>Historical</td>\n",
       "      <td>Oil displacement, million lge</td>\n",
       "      <td>Buses</td>\n",
       "      <td>EV</td>\n",
       "      <td>2010</td>\n",
       "      <td>Oil displacement, million lge</td>\n",
       "      <td>68.000</td>\n",
       "    </tr>\n",
       "    <tr>\n",
       "      <th>1011</th>\n",
       "      <td>China</td>\n",
       "      <td>Historical</td>\n",
       "      <td>Oil displacement, million lge</td>\n",
       "      <td>Trucks</td>\n",
       "      <td>EV</td>\n",
       "      <td>2010</td>\n",
       "      <td>Oil displacement, million lge</td>\n",
       "      <td>0.088</td>\n",
       "    </tr>\n",
       "    <tr>\n",
       "      <th>1012</th>\n",
       "      <td>China</td>\n",
       "      <td>Historical</td>\n",
       "      <td>Oil displacement, million lge</td>\n",
       "      <td>Vans</td>\n",
       "      <td>EV</td>\n",
       "      <td>2010</td>\n",
       "      <td>Oil displacement, million lge</td>\n",
       "      <td>0.590</td>\n",
       "    </tr>\n",
       "    <tr>\n",
       "      <th>1013</th>\n",
       "      <td>China</td>\n",
       "      <td>Historical</td>\n",
       "      <td>Oil displacement, million lge</td>\n",
       "      <td>Cars</td>\n",
       "      <td>EV</td>\n",
       "      <td>2010</td>\n",
       "      <td>Oil displacement, million lge</td>\n",
       "      <td>1.500</td>\n",
       "    </tr>\n",
       "    <tr>\n",
       "      <th>1018</th>\n",
       "      <td>China</td>\n",
       "      <td>Historical</td>\n",
       "      <td>Oil displacement, million lge</td>\n",
       "      <td>Buses</td>\n",
       "      <td>EV</td>\n",
       "      <td>2011</td>\n",
       "      <td>Oil displacement, million lge</td>\n",
       "      <td>67.000</td>\n",
       "    </tr>\n",
       "  </tbody>\n",
       "</table>\n",
       "</div>"
      ],
      "text/plain": [
       "     region    category                      parameter    mode powertrain  \\\n",
       "1010  China  Historical  Oil displacement, million lge   Buses         EV   \n",
       "1011  China  Historical  Oil displacement, million lge  Trucks         EV   \n",
       "1012  China  Historical  Oil displacement, million lge    Vans         EV   \n",
       "1013  China  Historical  Oil displacement, million lge    Cars         EV   \n",
       "1018  China  Historical  Oil displacement, million lge   Buses         EV   \n",
       "\n",
       "      year                           unit   value  \n",
       "1010  2010  Oil displacement, million lge  68.000  \n",
       "1011  2010  Oil displacement, million lge   0.088  \n",
       "1012  2010  Oil displacement, million lge   0.590  \n",
       "1013  2010  Oil displacement, million lge   1.500  \n",
       "1018  2011  Oil displacement, million lge  67.000  "
      ]
     },
     "execution_count": 27,
     "metadata": {},
     "output_type": "execute_result"
    }
   ],
   "source": [
    "df6.head()"
   ]
  },
  {
   "cell_type": "code",
   "execution_count": 28,
   "metadata": {},
   "outputs": [],
   "source": [
    "dn=[df1, df2,df3,df4,df5,df6]"
   ]
  },
  {
   "cell_type": "code",
   "execution_count": 29,
   "metadata": {},
   "outputs": [
    {
     "data": {
      "text/html": [
       "<div>\n",
       "<style scoped>\n",
       "    .dataframe tbody tr th:only-of-type {\n",
       "        vertical-align: middle;\n",
       "    }\n",
       "\n",
       "    .dataframe tbody tr th {\n",
       "        vertical-align: top;\n",
       "    }\n",
       "\n",
       "    .dataframe thead th {\n",
       "        text-align: right;\n",
       "    }\n",
       "</style>\n",
       "<table border=\"1\" class=\"dataframe\">\n",
       "  <thead>\n",
       "    <tr style=\"text-align: right;\">\n",
       "      <th></th>\n",
       "      <th>region</th>\n",
       "      <th>category</th>\n",
       "      <th>parameter</th>\n",
       "      <th>mode</th>\n",
       "      <th>powertrain</th>\n",
       "      <th>year</th>\n",
       "      <th>unit</th>\n",
       "      <th>value</th>\n",
       "    </tr>\n",
       "  </thead>\n",
       "  <tbody>\n",
       "    <tr>\n",
       "      <th>0</th>\n",
       "      <td>Australia</td>\n",
       "      <td>Historical</td>\n",
       "      <td>EV stock</td>\n",
       "      <td>Cars</td>\n",
       "      <td>BEV</td>\n",
       "      <td>2011</td>\n",
       "      <td>Vehicles</td>\n",
       "      <td>49.0</td>\n",
       "    </tr>\n",
       "    <tr>\n",
       "      <th>3</th>\n",
       "      <td>Australia</td>\n",
       "      <td>Historical</td>\n",
       "      <td>EV sales</td>\n",
       "      <td>Cars</td>\n",
       "      <td>BEV</td>\n",
       "      <td>2011</td>\n",
       "      <td>Vehicles</td>\n",
       "      <td>49.0</td>\n",
       "    </tr>\n",
       "    <tr>\n",
       "      <th>4</th>\n",
       "      <td>Australia</td>\n",
       "      <td>Historical</td>\n",
       "      <td>EV sales</td>\n",
       "      <td>Cars</td>\n",
       "      <td>BEV</td>\n",
       "      <td>2012</td>\n",
       "      <td>Vehicles</td>\n",
       "      <td>170.0</td>\n",
       "    </tr>\n",
       "    <tr>\n",
       "      <th>7</th>\n",
       "      <td>Australia</td>\n",
       "      <td>Historical</td>\n",
       "      <td>EV stock</td>\n",
       "      <td>Cars</td>\n",
       "      <td>BEV</td>\n",
       "      <td>2012</td>\n",
       "      <td>Vehicles</td>\n",
       "      <td>220.0</td>\n",
       "    </tr>\n",
       "    <tr>\n",
       "      <th>8</th>\n",
       "      <td>Australia</td>\n",
       "      <td>Historical</td>\n",
       "      <td>EV stock</td>\n",
       "      <td>Cars</td>\n",
       "      <td>PHEV</td>\n",
       "      <td>2012</td>\n",
       "      <td>Vehicles</td>\n",
       "      <td>80.0</td>\n",
       "    </tr>\n",
       "  </tbody>\n",
       "</table>\n",
       "</div>"
      ],
      "text/plain": [
       "      region    category parameter  mode powertrain  year      unit  value\n",
       "0  Australia  Historical  EV stock  Cars        BEV  2011  Vehicles   49.0\n",
       "3  Australia  Historical  EV sales  Cars        BEV  2011  Vehicles   49.0\n",
       "4  Australia  Historical  EV sales  Cars        BEV  2012  Vehicles  170.0\n",
       "7  Australia  Historical  EV stock  Cars        BEV  2012  Vehicles  220.0\n",
       "8  Australia  Historical  EV stock  Cars       PHEV  2012  Vehicles   80.0"
      ]
     },
     "execution_count": 29,
     "metadata": {},
     "output_type": "execute_result"
    }
   ],
   "source": [
    "df1.head()"
   ]
  },
  {
   "cell_type": "code",
   "execution_count": 30,
   "metadata": {},
   "outputs": [],
   "source": [
    "# from sklearn.preprocessing import OrdinalEncoder\n",
    "# encoder = OrdinalEncoder()\n",
    "# encoder.fit(df1[cat_cols])\n",
    "# df1[cat_cols]= encoder.transform(df1[cat_cols])\n",
    "# df1.head()\n",
    "# df1[df1.columns].nunique()\n"
   ]
  },
  {
   "cell_type": "code",
   "execution_count": 31,
   "metadata": {},
   "outputs": [
    {
     "data": {
      "text/html": [
       "<div>\n",
       "<style scoped>\n",
       "    .dataframe tbody tr th:only-of-type {\n",
       "        vertical-align: middle;\n",
       "    }\n",
       "\n",
       "    .dataframe tbody tr th {\n",
       "        vertical-align: top;\n",
       "    }\n",
       "\n",
       "    .dataframe thead th {\n",
       "        text-align: right;\n",
       "    }\n",
       "</style>\n",
       "<table border=\"1\" class=\"dataframe\">\n",
       "  <thead>\n",
       "    <tr style=\"text-align: right;\">\n",
       "      <th></th>\n",
       "      <th>region</th>\n",
       "      <th>category</th>\n",
       "      <th>parameter</th>\n",
       "      <th>mode</th>\n",
       "      <th>powertrain</th>\n",
       "      <th>year</th>\n",
       "      <th>unit</th>\n",
       "      <th>value</th>\n",
       "    </tr>\n",
       "  </thead>\n",
       "  <tbody>\n",
       "    <tr>\n",
       "      <th>0</th>\n",
       "      <td>Australia</td>\n",
       "      <td>Historical</td>\n",
       "      <td>EV stock</td>\n",
       "      <td>Cars</td>\n",
       "      <td>BEV</td>\n",
       "      <td>2011</td>\n",
       "      <td>Vehicles</td>\n",
       "      <td>49.0</td>\n",
       "    </tr>\n",
       "    <tr>\n",
       "      <th>3</th>\n",
       "      <td>Australia</td>\n",
       "      <td>Historical</td>\n",
       "      <td>EV sales</td>\n",
       "      <td>Cars</td>\n",
       "      <td>BEV</td>\n",
       "      <td>2011</td>\n",
       "      <td>Vehicles</td>\n",
       "      <td>49.0</td>\n",
       "    </tr>\n",
       "    <tr>\n",
       "      <th>4</th>\n",
       "      <td>Australia</td>\n",
       "      <td>Historical</td>\n",
       "      <td>EV sales</td>\n",
       "      <td>Cars</td>\n",
       "      <td>BEV</td>\n",
       "      <td>2012</td>\n",
       "      <td>Vehicles</td>\n",
       "      <td>170.0</td>\n",
       "    </tr>\n",
       "    <tr>\n",
       "      <th>7</th>\n",
       "      <td>Australia</td>\n",
       "      <td>Historical</td>\n",
       "      <td>EV stock</td>\n",
       "      <td>Cars</td>\n",
       "      <td>BEV</td>\n",
       "      <td>2012</td>\n",
       "      <td>Vehicles</td>\n",
       "      <td>220.0</td>\n",
       "    </tr>\n",
       "    <tr>\n",
       "      <th>8</th>\n",
       "      <td>Australia</td>\n",
       "      <td>Historical</td>\n",
       "      <td>EV stock</td>\n",
       "      <td>Cars</td>\n",
       "      <td>PHEV</td>\n",
       "      <td>2012</td>\n",
       "      <td>Vehicles</td>\n",
       "      <td>80.0</td>\n",
       "    </tr>\n",
       "    <tr>\n",
       "      <th>...</th>\n",
       "      <td>...</td>\n",
       "      <td>...</td>\n",
       "      <td>...</td>\n",
       "      <td>...</td>\n",
       "      <td>...</td>\n",
       "      <td>...</td>\n",
       "      <td>...</td>\n",
       "      <td>...</td>\n",
       "    </tr>\n",
       "    <tr>\n",
       "      <th>9537</th>\n",
       "      <td>World</td>\n",
       "      <td>Projection-APS</td>\n",
       "      <td>EV stock</td>\n",
       "      <td>Trucks</td>\n",
       "      <td>PHEV</td>\n",
       "      <td>2030</td>\n",
       "      <td>Vehicles</td>\n",
       "      <td>910000.0</td>\n",
       "    </tr>\n",
       "    <tr>\n",
       "      <th>9538</th>\n",
       "      <td>World</td>\n",
       "      <td>Projection-APS</td>\n",
       "      <td>EV stock</td>\n",
       "      <td>Vans</td>\n",
       "      <td>BEV</td>\n",
       "      <td>2030</td>\n",
       "      <td>Vehicles</td>\n",
       "      <td>12000000.0</td>\n",
       "    </tr>\n",
       "    <tr>\n",
       "      <th>9539</th>\n",
       "      <td>World</td>\n",
       "      <td>Projection-APS</td>\n",
       "      <td>EV stock</td>\n",
       "      <td>Vans</td>\n",
       "      <td>PHEV</td>\n",
       "      <td>2030</td>\n",
       "      <td>Vehicles</td>\n",
       "      <td>1300000.0</td>\n",
       "    </tr>\n",
       "    <tr>\n",
       "      <th>9540</th>\n",
       "      <td>World</td>\n",
       "      <td>Projection-APS</td>\n",
       "      <td>EV stock</td>\n",
       "      <td>Cars</td>\n",
       "      <td>BEV</td>\n",
       "      <td>2030</td>\n",
       "      <td>Vehicles</td>\n",
       "      <td>180000000.0</td>\n",
       "    </tr>\n",
       "    <tr>\n",
       "      <th>9541</th>\n",
       "      <td>World</td>\n",
       "      <td>Projection-APS</td>\n",
       "      <td>EV stock</td>\n",
       "      <td>Cars</td>\n",
       "      <td>PHEV</td>\n",
       "      <td>2030</td>\n",
       "      <td>Vehicles</td>\n",
       "      <td>50000000.0</td>\n",
       "    </tr>\n",
       "  </tbody>\n",
       "</table>\n",
       "<p>4624 rows × 8 columns</p>\n",
       "</div>"
      ],
      "text/plain": [
       "         region        category parameter    mode powertrain  year      unit  \\\n",
       "0     Australia      Historical  EV stock    Cars        BEV  2011  Vehicles   \n",
       "3     Australia      Historical  EV sales    Cars        BEV  2011  Vehicles   \n",
       "4     Australia      Historical  EV sales    Cars        BEV  2012  Vehicles   \n",
       "7     Australia      Historical  EV stock    Cars        BEV  2012  Vehicles   \n",
       "8     Australia      Historical  EV stock    Cars       PHEV  2012  Vehicles   \n",
       "...         ...             ...       ...     ...        ...   ...       ...   \n",
       "9537      World  Projection-APS  EV stock  Trucks       PHEV  2030  Vehicles   \n",
       "9538      World  Projection-APS  EV stock    Vans        BEV  2030  Vehicles   \n",
       "9539      World  Projection-APS  EV stock    Vans       PHEV  2030  Vehicles   \n",
       "9540      World  Projection-APS  EV stock    Cars        BEV  2030  Vehicles   \n",
       "9541      World  Projection-APS  EV stock    Cars       PHEV  2030  Vehicles   \n",
       "\n",
       "            value  \n",
       "0            49.0  \n",
       "3            49.0  \n",
       "4           170.0  \n",
       "7           220.0  \n",
       "8            80.0  \n",
       "...           ...  \n",
       "9537     910000.0  \n",
       "9538   12000000.0  \n",
       "9539    1300000.0  \n",
       "9540  180000000.0  \n",
       "9541   50000000.0  \n",
       "\n",
       "[4624 rows x 8 columns]"
      ]
     },
     "execution_count": 31,
     "metadata": {},
     "output_type": "execute_result"
    }
   ],
   "source": [
    "df1"
   ]
  },
  {
   "cell_type": "code",
   "execution_count": null,
   "metadata": {},
   "outputs": [],
   "source": []
  },
  {
   "cell_type": "code",
   "execution_count": 32,
   "metadata": {},
   "outputs": [],
   "source": [
    "# encoder.fit(df2[cat_cols])\n",
    "# df2[cat_cols]= encoder.transform(df2[cat_cols])\n",
    "# df2.head()\n",
    "# df2[df2.columns].nunique()"
   ]
  },
  {
   "cell_type": "code",
   "execution_count": 33,
   "metadata": {},
   "outputs": [],
   "source": [
    "# encoder.fit(df3[cat_cols])\n",
    "# df3[cat_cols]= encoder.transform(df3[cat_cols])\n",
    "# df3.head()\n",
    "# df3[df3.columns].nunique()"
   ]
  },
  {
   "cell_type": "code",
   "execution_count": 34,
   "metadata": {},
   "outputs": [],
   "source": [
    "# encoder.fit(df4[cat_cols])\n",
    "# df4[cat_cols]= encoder.transform(df4[cat_cols])\n",
    "# df4.head()\n",
    "# df4[df4.columns].nunique()"
   ]
  },
  {
   "cell_type": "code",
   "execution_count": 35,
   "metadata": {},
   "outputs": [],
   "source": [
    "# encoder.fit(df5[cat_cols])\n",
    "# df5[cat_cols]= encoder.transform(df5[cat_cols])\n",
    "# df5.head()\n",
    "# df5[df5.columns].nunique()"
   ]
  },
  {
   "cell_type": "code",
   "execution_count": 36,
   "metadata": {},
   "outputs": [],
   "source": [
    "# encoder.fit(df6[cat_cols])\n",
    "# df6[cat_cols]= encoder.transform(df6[cat_cols])\n",
    "# df6.head()\n",
    "# df6[df6.columns].nunique()"
   ]
  },
  {
   "cell_type": "code",
   "execution_count": 37,
   "metadata": {},
   "outputs": [],
   "source": [
    "# for cat in df1.columns:\n",
    "#     IQR=df1[cat].quantile(0.75)-df1[cat].quantile(0.25)\n",
    "#     UB= df1[cat].quantile(0.75)+ (1.5*IQR)\n",
    "#     LB= df1[cat].quantile(0.25)-(1.5*IQR)\n",
    "#     s=0\n",
    "#     for row in df1[cat]:\n",
    "#         if row>=UB or row<= LB:\n",
    "#             s+=1\n",
    "#     print(f\"{cat}: {s}\")"
   ]
  },
  {
   "cell_type": "code",
   "execution_count": 38,
   "metadata": {},
   "outputs": [],
   "source": [
    "# for cat in df1.columns:\n",
    "#     fig,ax = plt.subplots(nrows=1,ncols=2,figsize=(20,10))\n",
    "#     sns.histplot(df1[cat],ax=ax[0],kde=True)\n",
    "#     ax[0].set_title(\"Histplot\")\n",
    "#     sns.boxplot(df1[cat],ax=ax[1])\n",
    "#     ax[1].set_title(\"Box_Plot\")\n",
    "#     plt.tight_layout()\n",
    "#     plt.show()"
   ]
  },
  {
   "cell_type": "code",
   "execution_count": 39,
   "metadata": {},
   "outputs": [],
   "source": [
    "# from scipy.stats import shapiro\n",
    "# shapiro(df4)"
   ]
  },
  {
   "cell_type": "code",
   "execution_count": 40,
   "metadata": {},
   "outputs": [
    {
     "data": {
      "text/html": [
       "<div>\n",
       "<style scoped>\n",
       "    .dataframe tbody tr th:only-of-type {\n",
       "        vertical-align: middle;\n",
       "    }\n",
       "\n",
       "    .dataframe tbody tr th {\n",
       "        vertical-align: top;\n",
       "    }\n",
       "\n",
       "    .dataframe thead th {\n",
       "        text-align: right;\n",
       "    }\n",
       "</style>\n",
       "<table border=\"1\" class=\"dataframe\">\n",
       "  <thead>\n",
       "    <tr style=\"text-align: right;\">\n",
       "      <th></th>\n",
       "      <th>region</th>\n",
       "      <th>category</th>\n",
       "      <th>parameter</th>\n",
       "      <th>mode</th>\n",
       "      <th>powertrain</th>\n",
       "      <th>year</th>\n",
       "      <th>unit</th>\n",
       "      <th>value</th>\n",
       "    </tr>\n",
       "  </thead>\n",
       "  <tbody>\n",
       "    <tr>\n",
       "      <th>0</th>\n",
       "      <td>Australia</td>\n",
       "      <td>Historical</td>\n",
       "      <td>EV stock</td>\n",
       "      <td>Cars</td>\n",
       "      <td>BEV</td>\n",
       "      <td>2011</td>\n",
       "      <td>Vehicles</td>\n",
       "      <td>49.0</td>\n",
       "    </tr>\n",
       "    <tr>\n",
       "      <th>3</th>\n",
       "      <td>Australia</td>\n",
       "      <td>Historical</td>\n",
       "      <td>EV sales</td>\n",
       "      <td>Cars</td>\n",
       "      <td>BEV</td>\n",
       "      <td>2011</td>\n",
       "      <td>Vehicles</td>\n",
       "      <td>49.0</td>\n",
       "    </tr>\n",
       "    <tr>\n",
       "      <th>4</th>\n",
       "      <td>Australia</td>\n",
       "      <td>Historical</td>\n",
       "      <td>EV sales</td>\n",
       "      <td>Cars</td>\n",
       "      <td>BEV</td>\n",
       "      <td>2012</td>\n",
       "      <td>Vehicles</td>\n",
       "      <td>170.0</td>\n",
       "    </tr>\n",
       "    <tr>\n",
       "      <th>7</th>\n",
       "      <td>Australia</td>\n",
       "      <td>Historical</td>\n",
       "      <td>EV stock</td>\n",
       "      <td>Cars</td>\n",
       "      <td>BEV</td>\n",
       "      <td>2012</td>\n",
       "      <td>Vehicles</td>\n",
       "      <td>220.0</td>\n",
       "    </tr>\n",
       "    <tr>\n",
       "      <th>8</th>\n",
       "      <td>Australia</td>\n",
       "      <td>Historical</td>\n",
       "      <td>EV stock</td>\n",
       "      <td>Cars</td>\n",
       "      <td>PHEV</td>\n",
       "      <td>2012</td>\n",
       "      <td>Vehicles</td>\n",
       "      <td>80.0</td>\n",
       "    </tr>\n",
       "  </tbody>\n",
       "</table>\n",
       "</div>"
      ],
      "text/plain": [
       "      region    category parameter  mode powertrain  year      unit  value\n",
       "0  Australia  Historical  EV stock  Cars        BEV  2011  Vehicles   49.0\n",
       "3  Australia  Historical  EV sales  Cars        BEV  2011  Vehicles   49.0\n",
       "4  Australia  Historical  EV sales  Cars        BEV  2012  Vehicles  170.0\n",
       "7  Australia  Historical  EV stock  Cars        BEV  2012  Vehicles  220.0\n",
       "8  Australia  Historical  EV stock  Cars       PHEV  2012  Vehicles   80.0"
      ]
     },
     "execution_count": 40,
     "metadata": {},
     "output_type": "execute_result"
    }
   ],
   "source": [
    "df1.head()"
   ]
  },
  {
   "cell_type": "code",
   "execution_count": 41,
   "metadata": {},
   "outputs": [],
   "source": [
    "cat_cols=[]\n",
    "num_cols=[]\n",
    "for cols in df.columns:\n",
    "    if df[cols].dtype==\"object\":\n",
    "        cat_cols.append(cols)\n",
    "    else:\n",
    "        num_cols.append(cols)"
   ]
  },
  {
   "cell_type": "code",
   "execution_count": 42,
   "metadata": {},
   "outputs": [
    {
     "data": {
      "text/plain": [
       "['region', 'category', 'parameter', 'mode', 'powertrain', 'unit']"
      ]
     },
     "execution_count": 42,
     "metadata": {},
     "output_type": "execute_result"
    }
   ],
   "source": [
    "cat_cols"
   ]
  },
  {
   "cell_type": "code",
   "execution_count": 43,
   "metadata": {},
   "outputs": [],
   "source": [
    "from sklearn.model_selection import train_test_split\n",
    "X=df1.iloc[:,:-1].values\n",
    "Y=df1[['value']]\n",
    "X_train , X_test, Y_train, Y_test =train_test_split(X,Y, test_size=0.2, random_state=32)"
   ]
  },
  {
   "cell_type": "code",
   "execution_count": 44,
   "metadata": {},
   "outputs": [
    {
     "data": {
      "text/html": [
       "<div>\n",
       "<style scoped>\n",
       "    .dataframe tbody tr th:only-of-type {\n",
       "        vertical-align: middle;\n",
       "    }\n",
       "\n",
       "    .dataframe tbody tr th {\n",
       "        vertical-align: top;\n",
       "    }\n",
       "\n",
       "    .dataframe thead th {\n",
       "        text-align: right;\n",
       "    }\n",
       "</style>\n",
       "<table border=\"1\" class=\"dataframe\">\n",
       "  <thead>\n",
       "    <tr style=\"text-align: right;\">\n",
       "      <th></th>\n",
       "      <th>value</th>\n",
       "    </tr>\n",
       "  </thead>\n",
       "  <tbody>\n",
       "    <tr>\n",
       "      <th>0</th>\n",
       "      <td>49.0</td>\n",
       "    </tr>\n",
       "    <tr>\n",
       "      <th>3</th>\n",
       "      <td>49.0</td>\n",
       "    </tr>\n",
       "    <tr>\n",
       "      <th>4</th>\n",
       "      <td>170.0</td>\n",
       "    </tr>\n",
       "    <tr>\n",
       "      <th>7</th>\n",
       "      <td>220.0</td>\n",
       "    </tr>\n",
       "    <tr>\n",
       "      <th>8</th>\n",
       "      <td>80.0</td>\n",
       "    </tr>\n",
       "    <tr>\n",
       "      <th>...</th>\n",
       "      <td>...</td>\n",
       "    </tr>\n",
       "    <tr>\n",
       "      <th>9537</th>\n",
       "      <td>910000.0</td>\n",
       "    </tr>\n",
       "    <tr>\n",
       "      <th>9538</th>\n",
       "      <td>12000000.0</td>\n",
       "    </tr>\n",
       "    <tr>\n",
       "      <th>9539</th>\n",
       "      <td>1300000.0</td>\n",
       "    </tr>\n",
       "    <tr>\n",
       "      <th>9540</th>\n",
       "      <td>180000000.0</td>\n",
       "    </tr>\n",
       "    <tr>\n",
       "      <th>9541</th>\n",
       "      <td>50000000.0</td>\n",
       "    </tr>\n",
       "  </tbody>\n",
       "</table>\n",
       "<p>4624 rows × 1 columns</p>\n",
       "</div>"
      ],
      "text/plain": [
       "            value\n",
       "0            49.0\n",
       "3            49.0\n",
       "4           170.0\n",
       "7           220.0\n",
       "8            80.0\n",
       "...           ...\n",
       "9537     910000.0\n",
       "9538   12000000.0\n",
       "9539    1300000.0\n",
       "9540  180000000.0\n",
       "9541   50000000.0\n",
       "\n",
       "[4624 rows x 1 columns]"
      ]
     },
     "execution_count": 44,
     "metadata": {},
     "output_type": "execute_result"
    }
   ],
   "source": [
    "Y"
   ]
  },
  {
   "cell_type": "code",
   "execution_count": 45,
   "metadata": {},
   "outputs": [
    {
     "name": "stdout",
     "output_type": "stream",
     "text": [
      "<class 'pandas.core.frame.DataFrame'>\n",
      "Index: 4624 entries, 0 to 9541\n",
      "Data columns (total 8 columns):\n",
      " #   Column      Non-Null Count  Dtype  \n",
      "---  ------      --------------  -----  \n",
      " 0   region      4624 non-null   object \n",
      " 1   category    4624 non-null   object \n",
      " 2   parameter   4624 non-null   object \n",
      " 3   mode        4624 non-null   object \n",
      " 4   powertrain  4624 non-null   object \n",
      " 5   year        4624 non-null   int64  \n",
      " 6   unit        4624 non-null   object \n",
      " 7   value       4624 non-null   float64\n",
      "dtypes: float64(1), int64(1), object(6)\n",
      "memory usage: 325.1+ KB\n"
     ]
    }
   ],
   "source": [
    "df1.info()"
   ]
  },
  {
   "cell_type": "code",
   "execution_count": 46,
   "metadata": {},
   "outputs": [
    {
     "data": {
      "text/plain": [
       "array([2020, 2016, 2018, ..., 2020, 2019, 2021], dtype=object)"
      ]
     },
     "execution_count": 46,
     "metadata": {},
     "output_type": "execute_result"
    }
   ],
   "source": [
    "X_train_sp=X_train[:,-2]\n",
    "X_train_sp"
   ]
  },
  {
   "cell_type": "code",
   "execution_count": 47,
   "metadata": {},
   "outputs": [
    {
     "data": {
      "text/plain": [
       "array([['Switzerland', 'Historical', 'EV sales', 'Trucks', 'BEV',\n",
       "        'Vehicles'],\n",
       "       ['USA', 'Historical', 'EV sales', 'Cars', 'PHEV', 'Vehicles'],\n",
       "       ['India', 'Historical', 'EV stock', 'Cars', 'PHEV', 'Vehicles'],\n",
       "       ...,\n",
       "       ['China', 'Projection-STEPS', 'EV stock', 'Buses', 'BEV',\n",
       "        'Vehicles'],\n",
       "       ['Sweden', 'Historical', 'EV sales', 'Cars', 'PHEV', 'Vehicles'],\n",
       "       ['Denmark', 'Historical', 'EV stock', 'Vans', 'BEV', 'Vehicles']],\n",
       "      dtype=object)"
      ]
     },
     "execution_count": 47,
     "metadata": {},
     "output_type": "execute_result"
    }
   ],
   "source": [
    "X_train_f=X_train[:,:-2]\n",
    "X_train_s=X_train[:,-1]\n",
    "X_train_sp=X_train[:,-2]\n",
    "X_train_sp=np.reshape(X_train_sp,(-1,1))\n",
    "X_train_s=np.reshape(X_train_s,(-1,1))\n",
    "X_train_merged = np.concatenate((X_train_f, X_train_s), axis=1)\n",
    "X_train_merged\n",
    "\n",
    "\n",
    "X_test_f=X_test[:,:-2]\n",
    "X_test_s=X_test[:,-1]\n",
    "X_test_sp=X_test[:,-2]\n",
    "X_test_sp=np.reshape(X_test_sp,(-1,1))\n",
    "X_test_s=np.reshape(X_test_s,(-1,1))\n",
    "X_test_merged = np.concatenate((X_test_f, X_test_s), axis=1)\n",
    "X_test_merged\n"
   ]
  },
  {
   "cell_type": "code",
   "execution_count": 48,
   "metadata": {},
   "outputs": [],
   "source": [
    "from sklearn.preprocessing import OrdinalEncoder\n",
    "encoder =OrdinalEncoder()\n",
    "X_train_enc= encoder.fit_transform(X_train_merged)\n",
    "X_train_enc_merge= np.concatenate((X_train_enc, X_train_sp), axis=1)\n",
    "X_test_enc= encoder.transform(X_test_merged)\n",
    "X_test_enc_merge= np.concatenate((X_test_enc, X_test_sp), axis=1)\n"
   ]
  },
  {
   "cell_type": "code",
   "execution_count": 49,
   "metadata": {},
   "outputs": [
    {
     "data": {
      "text/plain": [
       "array([1.0, 0.0, 1.0, 1.0, 1.0, 0.0, 2020], dtype=object)"
      ]
     },
     "execution_count": 49,
     "metadata": {},
     "output_type": "execute_result"
    }
   ],
   "source": [
    "X_train_enc_merge[0]"
   ]
  },
  {
   "cell_type": "code",
   "execution_count": 50,
   "metadata": {},
   "outputs": [],
   "source": [
    "from sklearn.preprocessing import StandardScaler\n",
    "scaler1 = StandardScaler()\n",
    "scaler2 = StandardScaler()\n",
    "X_train_scaled = scaler1.fit_transform(X_train_enc_merge)\n",
    "X_test_scaled = scaler1.transform(X_test_enc_merge)\n",
    "# scaler = StandardScaler()\n",
    "Y_train_scaled= scaler2.fit_transform(Y_train)\n",
    "Y_test_scaled = scaler2.transform(Y_test)"
   ]
  },
  {
   "cell_type": "code",
   "execution_count": 51,
   "metadata": {},
   "outputs": [
    {
     "data": {
      "text/plain": [
       "array([-1.5534551 , -0.44316373,  0.9688546 , -0.35914741,  1.29034321,\n",
       "        0.        ,  0.36844904])"
      ]
     },
     "execution_count": 51,
     "metadata": {},
     "output_type": "execute_result"
    }
   ],
   "source": [
    "X_train_scaled[0]"
   ]
  },
  {
   "cell_type": "code",
   "execution_count": null,
   "metadata": {},
   "outputs": [],
   "source": []
  },
  {
   "cell_type": "code",
   "execution_count": 52,
   "metadata": {},
   "outputs": [
    {
     "data": {
      "text/plain": [
       "array([['Australia', 'Historical', 'EV stock', 'Cars', 'BEV', 2011,\n",
       "        'Vehicles']], dtype=object)"
      ]
     },
     "execution_count": 52,
     "metadata": {},
     "output_type": "execute_result"
    }
   ],
   "source": [
    "df1.iloc[0:1,:-1].values"
   ]
  },
  {
   "cell_type": "code",
   "execution_count": 53,
   "metadata": {},
   "outputs": [
    {
     "data": {
      "text/plain": [
       "array([-1.5534551 , -0.44316373,  0.9688546 , -0.35914741,  1.29034321,\n",
       "        0.        ,  0.36844904])"
      ]
     },
     "execution_count": 53,
     "metadata": {},
     "output_type": "execute_result"
    }
   ],
   "source": [
    "X_train_scaled[0]"
   ]
  },
  {
   "cell_type": "code",
   "execution_count": 54,
   "metadata": {},
   "outputs": [
    {
     "data": {
      "text/plain": [
       "array([[-0.10197648],\n",
       "       [-0.1052677 ],\n",
       "       [-0.10545325],\n",
       "       ...,\n",
       "       [-0.1052561 ],\n",
       "       [-0.10406394],\n",
       "       [-0.09061147]])"
      ]
     },
     "execution_count": 54,
     "metadata": {},
     "output_type": "execute_result"
    }
   ],
   "source": [
    "Y_train_scaled"
   ]
  },
  {
   "cell_type": "code",
   "execution_count": 55,
   "metadata": {},
   "outputs": [
    {
     "name": "stderr",
     "output_type": "stream",
     "text": [
      "/home/ayush/Ayush/Sixth_Sem/ML/myenv/lib/python3.10/site-packages/sklearn/base.py:1351: DataConversionWarning: A column-vector y was passed when a 1d array was expected. Please change the shape of y to (n_samples,), for example using ravel().\n",
      "  return fit_method(estimator, *args, **kwargs)\n"
     ]
    },
    {
     "name": "stdout",
     "output_type": "stream",
     "text": [
      "mse= 0.41618222119349013\n",
      "r2_score 0.8098946944955479\n"
     ]
    }
   ],
   "source": [
    "from sklearn.ensemble import RandomForestRegressor\n",
    "from sklearn.metrics import mean_squared_error, r2_score\n",
    "model1 = RandomForestRegressor()\n",
    "model1.fit(X_train_scaled, Y_train_scaled)\n",
    "Y_pred_scaled= model1.predict(X_test_scaled)\n",
    "# Y_pred= scaler.inverse_transform(Y_pred_scaled)\n",
    "eval = mean_squared_error(Y_test_scaled, Y_pred_scaled)\n",
    "print(\"mse=\",eval)\n",
    "score = r2_score(Y_test_scaled, Y_pred_scaled)\n",
    "print(\"r2_score\", score)\n"
   ]
  },
  {
   "cell_type": "code",
   "execution_count": 56,
   "metadata": {},
   "outputs": [
    {
     "data": {
      "text/plain": [
       "['encoder1.pkl']"
      ]
     },
     "execution_count": 56,
     "metadata": {},
     "output_type": "execute_result"
    }
   ],
   "source": [
    "import joblib \n",
    "joblib.dump(scaler1, 'X_scaler1.pkl')\n",
    "joblib.dump(scaler2, 'Y_scaler1.pkl')\n",
    "joblib.dump(encoder,'encoder1.pkl')"
   ]
  },
  {
   "cell_type": "code",
   "execution_count": 57,
   "metadata": {},
   "outputs": [
    {
     "name": "stderr",
     "output_type": "stream",
     "text": [
      "/home/ayush/Ayush/Sixth_Sem/ML/myenv/lib/python3.10/site-packages/sklearn/base.py:1351: DataConversionWarning: A column-vector y was passed when a 1d array was expected. Please change the shape of y to (n_samples,), for example using ravel().\n",
      "  return fit_method(estimator, *args, **kwargs)\n"
     ]
    },
    {
     "name": "stdout",
     "output_type": "stream",
     "text": [
      "mse= 0.30260027735562567\n",
      "r2_score 0.7997879384823109\n"
     ]
    }
   ],
   "source": [
    "X=df2.iloc[:,:-1].values\n",
    "Y=df2[['value']]\n",
    "X_train , X_test, Y_train, Y_test =train_test_split(X,Y, test_size=0.2, random_state=32)\n",
    "\n",
    "X_train_f=X_train[:,:-2]\n",
    "X_train_s=X_train[:,-1]\n",
    "X_train_sp=X_train[:,-2]\n",
    "X_train_sp=np.reshape(X_train_sp,(-1,1))\n",
    "X_train_s=np.reshape(X_train_s,(-1,1))\n",
    "X_train_merged = np.concatenate((X_train_f, X_train_s), axis=1)\n",
    "X_train_merged\n",
    "\n",
    "\n",
    "X_test_f=X_test[:,:-2]\n",
    "X_test_s=X_test[:,-1]\n",
    "X_test_sp=X_test[:,-2]\n",
    "X_test_sp=np.reshape(X_test_sp,(-1,1))\n",
    "X_test_s=np.reshape(X_test_s,(-1,1))\n",
    "X_test_merged = np.concatenate((X_test_f, X_test_s), axis=1)\n",
    "X_test_merged\n",
    "\n",
    "\n",
    "from sklearn.preprocessing import OrdinalEncoder\n",
    "encoder =OrdinalEncoder()\n",
    "X_train_enc= encoder.fit_transform(X_train_merged)\n",
    "X_train_enc_merge= np.concatenate((X_train_enc, X_train_sp), axis=1)\n",
    "X_test_enc= encoder.transform(X_test_merged)\n",
    "X_test_enc_merge= np.concatenate((X_test_enc, X_test_sp), axis=1)\n",
    "\n",
    "\n",
    "from sklearn.preprocessing import StandardScaler\n",
    "scaler1 = StandardScaler()\n",
    "scaler2 = StandardScaler()\n",
    "X_train_scaled = scaler1.fit_transform(X_train_enc_merge)\n",
    "X_test_scaled = scaler1.transform(X_test_enc_merge)\n",
    "# scaler = StandardScaler()\n",
    "Y_train_scaled= scaler2.fit_transform(Y_train)\n",
    "Y_test_scaled = scaler2.transform(Y_test)\n",
    "\n",
    "model2 = RandomForestRegressor()\n",
    "model2.fit(X_train_scaled, Y_train_scaled)\n",
    "Y_pred_scaled= model2.predict(X_test_scaled)\n",
    "# Y_pred= scaler.inverse_transform(Y_pred_scaled)\n",
    "eval = mean_squared_error(Y_test_scaled, Y_pred_scaled)\n",
    "print(\"mse=\",eval)\n",
    "score = r2_score(Y_test_scaled, Y_pred_scaled)\n",
    "print(\"r2_score\", score)\n"
   ]
  },
  {
   "cell_type": "code",
   "execution_count": 58,
   "metadata": {},
   "outputs": [
    {
     "data": {
      "text/plain": [
       "['encoder2.pkl']"
      ]
     },
     "execution_count": 58,
     "metadata": {},
     "output_type": "execute_result"
    }
   ],
   "source": [
    "joblib.dump(scaler1, 'X_scaler2.pkl')\n",
    "joblib.dump(scaler2, 'Y_scaler2.pkl')\n",
    "joblib.dump(encoder, 'encoder2.pkl')"
   ]
  },
  {
   "cell_type": "code",
   "execution_count": 59,
   "metadata": {},
   "outputs": [
    {
     "name": "stdout",
     "output_type": "stream",
     "text": [
      "mse= 0.009329209840692711\n",
      "r2_score 0.6795960339179168\n"
     ]
    },
    {
     "name": "stderr",
     "output_type": "stream",
     "text": [
      "/home/ayush/Ayush/Sixth_Sem/ML/myenv/lib/python3.10/site-packages/sklearn/base.py:1351: DataConversionWarning: A column-vector y was passed when a 1d array was expected. Please change the shape of y to (n_samples,), for example using ravel().\n",
      "  return fit_method(estimator, *args, **kwargs)\n"
     ]
    }
   ],
   "source": [
    "X=df3.iloc[:,:-1].values\n",
    "Y=df3[['value']]\n",
    "X_train , X_test, Y_train, Y_test =train_test_split(X,Y, test_size=0.2, random_state=32)\n",
    "X_train_f=X_train[:,:-2]\n",
    "X_train_s=X_train[:,-1]\n",
    "X_train_sp=X_train[:,-2]\n",
    "X_train_sp=np.reshape(X_train_sp,(-1,1))\n",
    "X_train_s=np.reshape(X_train_s,(-1,1))\n",
    "X_train_merged = np.concatenate((X_train_f, X_train_s), axis=1)\n",
    "X_train_merged\n",
    "\n",
    "\n",
    "X_test_f=X_test[:,:-2]\n",
    "X_test_s=X_test[:,-1]\n",
    "X_test_sp=X_test[:,-2]\n",
    "X_test_sp=np.reshape(X_test_sp,(-1,1))\n",
    "X_test_s=np.reshape(X_test_s,(-1,1))\n",
    "X_test_merged = np.concatenate((X_test_f, X_test_s), axis=1)\n",
    "X_test_merged\n",
    "\n",
    "\n",
    "from sklearn.preprocessing import OrdinalEncoder\n",
    "encoder =OrdinalEncoder()\n",
    "X_train_enc= encoder.fit_transform(X_train_merged)\n",
    "X_train_enc_merge= np.concatenate((X_train_enc, X_train_sp), axis=1)\n",
    "X_test_enc= encoder.transform(X_test_merged)\n",
    "X_test_enc_merge= np.concatenate((X_test_enc, X_test_sp), axis=1)\n",
    "\n",
    "\n",
    "from sklearn.preprocessing import StandardScaler\n",
    "scaler1 = StandardScaler()\n",
    "scaler2 = StandardScaler()\n",
    "X_train_scaled = scaler1.fit_transform(X_train_enc_merge)\n",
    "X_test_scaled = scaler1.transform(X_test_enc_merge)\n",
    "# scaler = StandardScaler()\n",
    "Y_train_scaled= scaler2.fit_transform(Y_train)\n",
    "Y_test_scaled = scaler2.transform(Y_test)\n",
    "\n",
    "model3 = RandomForestRegressor()\n",
    "model3.fit(X_train_scaled, Y_train_scaled)\n",
    "Y_pred_scaled= model3.predict(X_test_scaled)\n",
    "# Y_pred= scaler.inverse_transform(Y_pred_scaled)\n",
    "eval = mean_squared_error(Y_test_scaled, Y_pred_scaled)\n",
    "print(\"mse=\",eval)\n",
    "score = r2_score(Y_test_scaled, Y_pred_scaled)\n",
    "print(\"r2_score\", score)\n"
   ]
  },
  {
   "cell_type": "code",
   "execution_count": 60,
   "metadata": {},
   "outputs": [
    {
     "data": {
      "text/plain": [
       "['encoder3.pkl']"
      ]
     },
     "execution_count": 60,
     "metadata": {},
     "output_type": "execute_result"
    }
   ],
   "source": [
    "joblib.dump(scaler1, 'X_scaler3.pkl')\n",
    "joblib.dump(scaler2, 'Y_scaler3.pkl')\n",
    "joblib.dump(encoder, 'encoder3.pkl')"
   ]
  },
  {
   "cell_type": "code",
   "execution_count": 61,
   "metadata": {},
   "outputs": [
    {
     "data": {
      "text/plain": [
       "array(['Vehicles', 'percent', 'charging points', 'GWh',\n",
       "       'Milion barrels per day', 'Oil displacement, million lge'],\n",
       "      dtype=object)"
      ]
     },
     "execution_count": 61,
     "metadata": {},
     "output_type": "execute_result"
    }
   ],
   "source": [
    "df['unit'].unique()"
   ]
  },
  {
   "cell_type": "code",
   "execution_count": 62,
   "metadata": {},
   "outputs": [
    {
     "name": "stdout",
     "output_type": "stream",
     "text": [
      "mse= 4.181292946124825\n",
      "r2_score 0.479370415773967\n"
     ]
    },
    {
     "name": "stderr",
     "output_type": "stream",
     "text": [
      "/home/ayush/Ayush/Sixth_Sem/ML/myenv/lib/python3.10/site-packages/sklearn/base.py:1351: DataConversionWarning: A column-vector y was passed when a 1d array was expected. Please change the shape of y to (n_samples,), for example using ravel().\n",
      "  return fit_method(estimator, *args, **kwargs)\n"
     ]
    }
   ],
   "source": [
    "X=df4.iloc[:,:-1].values\n",
    "Y=df4[['value']]\n",
    "X_train , X_test, Y_train, Y_test =train_test_split(X,Y, test_size=0.2, random_state=32)\n",
    "X_train_f=X_train[:,:-2]\n",
    "X_train_s=X_train[:,-1]\n",
    "X_train_sp=X_train[:,-2]\n",
    "X_train_sp=np.reshape(X_train_sp,(-1,1))\n",
    "X_train_s=np.reshape(X_train_s,(-1,1))\n",
    "X_train_merged = np.concatenate((X_train_f, X_train_s), axis=1)\n",
    "X_train_merged\n",
    "\n",
    "\n",
    "X_test_f=X_test[:,:-2]\n",
    "X_test_s=X_test[:,-1]\n",
    "X_test_sp=X_test[:,-2]\n",
    "X_test_sp=np.reshape(X_test_sp,(-1,1))\n",
    "X_test_s=np.reshape(X_test_s,(-1,1))\n",
    "X_test_merged = np.concatenate((X_test_f, X_test_s), axis=1)\n",
    "X_test_merged\n",
    "\n",
    "\n",
    "from sklearn.preprocessing import OrdinalEncoder\n",
    "encoder =OrdinalEncoder()\n",
    "X_train_enc= encoder.fit_transform(X_train_merged)\n",
    "X_train_enc_merge= np.concatenate((X_train_enc, X_train_sp), axis=1)\n",
    "X_test_enc= encoder.transform(X_test_merged)\n",
    "X_test_enc_merge= np.concatenate((X_test_enc, X_test_sp), axis=1)\n",
    "\n",
    "\n",
    "from sklearn.preprocessing import StandardScaler\n",
    "scaler1 = StandardScaler()\n",
    "scaler2 = StandardScaler()\n",
    "X_train_scaled = scaler1.fit_transform(X_train_enc_merge)\n",
    "X_test_scaled = scaler1.transform(X_test_enc_merge)\n",
    "# scaler = StandardScaler()\n",
    "Y_train_scaled= scaler2.fit_transform(Y_train)\n",
    "Y_test_scaled = scaler2.transform(Y_test)\n",
    "\n",
    "model4 = RandomForestRegressor()\n",
    "model4.fit(X_train_scaled, Y_train_scaled)\n",
    "Y_pred_scaled= model4.predict(X_test_scaled)\n",
    "# Y_pred= scaler.inverse_transform(Y_pred_scaled)\n",
    "eval = mean_squared_error(Y_test_scaled, Y_pred_scaled)\n",
    "print(\"mse=\",eval)\n",
    "score = r2_score(Y_test_scaled, Y_pred_scaled)\n",
    "print(\"r2_score\", score)\n"
   ]
  },
  {
   "cell_type": "code",
   "execution_count": 63,
   "metadata": {},
   "outputs": [
    {
     "data": {
      "text/plain": [
       "['encoder4.pkl']"
      ]
     },
     "execution_count": 63,
     "metadata": {},
     "output_type": "execute_result"
    }
   ],
   "source": [
    "joblib.dump(scaler1, 'X_scaler4.pkl')\n",
    "joblib.dump(scaler2, 'Y_scaler4.pkl')\n",
    "joblib.dump(encoder, 'encoder4.pkl')"
   ]
  },
  {
   "cell_type": "code",
   "execution_count": 64,
   "metadata": {},
   "outputs": [
    {
     "name": "stdout",
     "output_type": "stream",
     "text": [
      "mse= 0.4737038828533715\n",
      "r2_score 0.08378384484554047\n"
     ]
    },
    {
     "name": "stderr",
     "output_type": "stream",
     "text": [
      "/home/ayush/Ayush/Sixth_Sem/ML/myenv/lib/python3.10/site-packages/sklearn/base.py:1351: DataConversionWarning: A column-vector y was passed when a 1d array was expected. Please change the shape of y to (n_samples,), for example using ravel().\n",
      "  return fit_method(estimator, *args, **kwargs)\n"
     ]
    }
   ],
   "source": [
    "X=df5.iloc[:,:-1].values\n",
    "Y=df5[['value']]\n",
    "X_train , X_test, Y_train, Y_test =train_test_split(X,Y, test_size=0.2, random_state=42)\n",
    "X_train_f=X_train[:,:-2]\n",
    "X_train_s=X_train[:,-1]\n",
    "X_train_sp=X_train[:,-2]\n",
    "X_train_sp=np.reshape(X_train_sp,(-1,1))\n",
    "X_train_s=np.reshape(X_train_s,(-1,1))\n",
    "X_train_merged = np.concatenate((X_train_f, X_train_s), axis=1)\n",
    "X_train_merged\n",
    "\n",
    "\n",
    "X_test_f=X_test[:,:-2]\n",
    "X_test_s=X_test[:,-1]\n",
    "X_test_sp=X_test[:,-2]\n",
    "X_test_sp=np.reshape(X_test_sp,(-1,1))\n",
    "X_test_s=np.reshape(X_test_s,(-1,1))\n",
    "X_test_merged = np.concatenate((X_test_f, X_test_s), axis=1)\n",
    "X_test_merged\n",
    "\n",
    "\n",
    "from sklearn.preprocessing import OrdinalEncoder\n",
    "encoder =OrdinalEncoder()\n",
    "X_train_enc= encoder.fit_transform(X_train_merged)\n",
    "X_train_enc_merge= np.concatenate((X_train_enc, X_train_sp), axis=1)\n",
    "X_test_enc= encoder.transform(X_test_merged)\n",
    "X_test_enc_merge= np.concatenate((X_test_enc, X_test_sp), axis=1)\n",
    "\n",
    "\n",
    "from sklearn.preprocessing import StandardScaler\n",
    "scaler1 = StandardScaler()\n",
    "scaler2 = StandardScaler()\n",
    "X_train_scaled = scaler1.fit_transform(X_train_enc_merge)\n",
    "X_test_scaled = scaler1.transform(X_test_enc_merge)\n",
    "# scaler = StandardScaler()\n",
    "Y_train_scaled= scaler2.fit_transform(Y_train)\n",
    "Y_test_scaled = scaler2.transform(Y_test)\n",
    "\n",
    "model5 = RandomForestRegressor()\n",
    "model5.fit(X_train_scaled, Y_train_scaled)\n",
    "Y_pred_scaled= model5.predict(X_test_scaled)\n",
    "# Y_pred= scaler.inverse_transform(Y_pred_scaled)\n",
    "eval = mean_squared_error(Y_test_scaled, Y_pred_scaled)\n",
    "print(\"mse=\",eval)\n",
    "score = r2_score(Y_test_scaled, Y_pred_scaled)\n",
    "print(\"r2_score\", score)\n"
   ]
  },
  {
   "cell_type": "code",
   "execution_count": 65,
   "metadata": {},
   "outputs": [
    {
     "data": {
      "text/plain": [
       "['encoder5.pkl']"
      ]
     },
     "execution_count": 65,
     "metadata": {},
     "output_type": "execute_result"
    }
   ],
   "source": [
    "joblib.dump(scaler1, 'X_scaler5.pkl')\n",
    "joblib.dump(scaler2, 'Y_scaler5.pkl')\n",
    "joblib.dump(encoder, 'encoder5.pkl')"
   ]
  },
  {
   "cell_type": "code",
   "execution_count": 66,
   "metadata": {},
   "outputs": [
    {
     "name": "stdout",
     "output_type": "stream",
     "text": [
      "mse= 0.43014353606462524\n",
      "r2_score 0.3518657690187428\n"
     ]
    },
    {
     "name": "stderr",
     "output_type": "stream",
     "text": [
      "/home/ayush/Ayush/Sixth_Sem/ML/myenv/lib/python3.10/site-packages/sklearn/base.py:1351: DataConversionWarning: A column-vector y was passed when a 1d array was expected. Please change the shape of y to (n_samples,), for example using ravel().\n",
      "  return fit_method(estimator, *args, **kwargs)\n"
     ]
    }
   ],
   "source": [
    "X=df6.iloc[:,:-1].values\n",
    "Y=df6[['value']]\n",
    "X_train , X_test, Y_train, Y_test =train_test_split(X,Y, test_size=0.2, random_state=32)\n",
    "\n",
    "X_train_f=X_train[:,:-2]\n",
    "X_train_s=X_train[:,-1]\n",
    "X_train_sp=X_train[:,-2]\n",
    "X_train_sp=np.reshape(X_train_sp,(-1,1))\n",
    "X_train_s=np.reshape(X_train_s,(-1,1))\n",
    "X_train_merged = np.concatenate((X_train_f, X_train_s), axis=1)\n",
    "X_train_merged\n",
    "\n",
    "\n",
    "X_test_f=X_test[:,:-2]\n",
    "X_test_s=X_test[:,-1]\n",
    "X_test_sp=X_test[:,-2]\n",
    "X_test_sp=np.reshape(X_test_sp,(-1,1))\n",
    "X_test_s=np.reshape(X_test_s,(-1,1))\n",
    "X_test_merged = np.concatenate((X_test_f, X_test_s), axis=1)\n",
    "X_test_merged\n",
    "\n",
    "\n",
    "from sklearn.preprocessing import OrdinalEncoder\n",
    "encoder =OrdinalEncoder()\n",
    "X_train_enc= encoder.fit_transform(X_train_merged)\n",
    "X_train_enc_merge= np.concatenate((X_train_enc, X_train_sp), axis=1)\n",
    "X_test_enc= encoder.transform(X_test_merged)\n",
    "X_test_enc_merge= np.concatenate((X_test_enc, X_test_sp), axis=1)\n",
    "\n",
    "\n",
    "from sklearn.preprocessing import StandardScaler\n",
    "scaler1 = StandardScaler()\n",
    "scaler2 = StandardScaler()\n",
    "X_train_scaled = scaler1.fit_transform(X_train_enc_merge)\n",
    "X_test_scaled = scaler1.transform(X_test_enc_merge)\n",
    "# scaler = StandardScaler()\n",
    "Y_train_scaled= scaler2.fit_transform(Y_train)\n",
    "Y_test_scaled = scaler2.transform(Y_test)\n",
    "\n",
    "model6 = RandomForestRegressor()\n",
    "model6.fit(X_train_scaled, Y_train_scaled)\n",
    "Y_pred_scaled= model6.predict(X_test_scaled)\n",
    "# Y_pred= scaler.inverse_transform(Y_pred_scaled)\n",
    "eval = mean_squared_error(Y_test_scaled, Y_pred_scaled)\n",
    "print(\"mse=\",eval)\n",
    "score = r2_score(Y_test_scaled, Y_pred_scaled)\n",
    "print(\"r2_score\", score)\n"
   ]
  },
  {
   "cell_type": "code",
   "execution_count": 67,
   "metadata": {},
   "outputs": [
    {
     "data": {
      "text/plain": [
       "['encoder6.pkl']"
      ]
     },
     "execution_count": 67,
     "metadata": {},
     "output_type": "execute_result"
    }
   ],
   "source": [
    "joblib.dump(scaler1, 'X_scaler6.pkl')\n",
    "joblib.dump(scaler2, 'Y_scaler6.pkl')\n",
    "joblib.dump(encoder, 'encoder6.pkl')"
   ]
  },
  {
   "cell_type": "code",
   "execution_count": 68,
   "metadata": {},
   "outputs": [
    {
     "name": "stdout",
     "output_type": "stream",
     "text": [
      "/home/ayush/Ayush/Sixth_Sem/ML/ML_project/research\n"
     ]
    }
   ],
   "source": [
    "!pwd\n"
   ]
  },
  {
   "cell_type": "code",
   "execution_count": 69,
   "metadata": {},
   "outputs": [],
   "source": [
    "import os\n",
    "os.chdir(\"../\")"
   ]
  },
  {
   "cell_type": "code",
   "execution_count": 70,
   "metadata": {},
   "outputs": [
    {
     "name": "stdout",
     "output_type": "stream",
     "text": [
      "/home/ayush/Ayush/Sixth_Sem/ML/ML_project\n"
     ]
    }
   ],
   "source": [
    "!pwd\n"
   ]
  },
  {
   "cell_type": "code",
   "execution_count": 71,
   "metadata": {},
   "outputs": [
    {
     "data": {
      "text/plain": [
       "['model6.pkl']"
      ]
     },
     "execution_count": 71,
     "metadata": {},
     "output_type": "execute_result"
    }
   ],
   "source": [
    "joblib.dump(model1, 'model1.pkl')\n",
    "joblib.dump(model2, 'model2.pkl')\n",
    "joblib.dump(model3, 'model3.pkl')\n",
    "joblib.dump(model4, 'model4.pkl')\n",
    "joblib.dump(model5, 'model5.pkl')\n",
    "joblib.dump(model6, 'model6.pkl')"
   ]
  },
  {
   "cell_type": "code",
   "execution_count": null,
   "metadata": {},
   "outputs": [],
   "source": []
  },
  {
   "cell_type": "code",
   "execution_count": 72,
   "metadata": {},
   "outputs": [
    {
     "data": {
      "text/plain": [
       "<bound method DataFrame.info of          region        category parameter    mode powertrain  year      unit  \\\n",
       "0     Australia      Historical  EV stock    Cars        BEV  2011  Vehicles   \n",
       "3     Australia      Historical  EV sales    Cars        BEV  2011  Vehicles   \n",
       "4     Australia      Historical  EV sales    Cars        BEV  2012  Vehicles   \n",
       "7     Australia      Historical  EV stock    Cars        BEV  2012  Vehicles   \n",
       "8     Australia      Historical  EV stock    Cars       PHEV  2012  Vehicles   \n",
       "...         ...             ...       ...     ...        ...   ...       ...   \n",
       "9537      World  Projection-APS  EV stock  Trucks       PHEV  2030  Vehicles   \n",
       "9538      World  Projection-APS  EV stock    Vans        BEV  2030  Vehicles   \n",
       "9539      World  Projection-APS  EV stock    Vans       PHEV  2030  Vehicles   \n",
       "9540      World  Projection-APS  EV stock    Cars        BEV  2030  Vehicles   \n",
       "9541      World  Projection-APS  EV stock    Cars       PHEV  2030  Vehicles   \n",
       "\n",
       "            value  \n",
       "0            49.0  \n",
       "3            49.0  \n",
       "4           170.0  \n",
       "7           220.0  \n",
       "8            80.0  \n",
       "...           ...  \n",
       "9537     910000.0  \n",
       "9538   12000000.0  \n",
       "9539    1300000.0  \n",
       "9540  180000000.0  \n",
       "9541   50000000.0  \n",
       "\n",
       "[4624 rows x 8 columns]>"
      ]
     },
     "execution_count": 72,
     "metadata": {},
     "output_type": "execute_result"
    }
   ],
   "source": [
    "df1.info"
   ]
  },
  {
   "cell_type": "code",
   "execution_count": null,
   "metadata": {},
   "outputs": [],
   "source": []
  }
 ],
 "metadata": {
  "kernelspec": {
   "display_name": "myenv",
   "language": "python",
   "name": "python3"
  },
  "language_info": {
   "codemirror_mode": {
    "name": "ipython",
    "version": 3
   },
   "file_extension": ".py",
   "mimetype": "text/x-python",
   "name": "python",
   "nbconvert_exporter": "python",
   "pygments_lexer": "ipython3",
   "version": "3.10.0"
  }
 },
 "nbformat": 4,
 "nbformat_minor": 2
}
