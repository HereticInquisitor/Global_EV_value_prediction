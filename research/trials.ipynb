{
 "cells": [
  {
   "cell_type": "code",
   "execution_count": 1,
   "metadata": {},
   "outputs": [],
   "source": [
    "import pandas as pd\n",
    "import numpy as np\n",
    "from sklearn.feature_extraction import FeatureHasher\n",
    "from matplotlib import pyplot as plt\n",
    "import seaborn as sns"
   ]
  },
  {
   "cell_type": "code",
   "execution_count": 2,
   "metadata": {},
   "outputs": [
    {
     "name": "stdout",
     "output_type": "stream",
     "text": [
      "data  Note1.ipynb  trials.ipynb\n"
     ]
    }
   ],
   "source": [
    "!ls\n"
   ]
  },
  {
   "cell_type": "code",
   "execution_count": 3,
   "metadata": {},
   "outputs": [],
   "source": [
    "df= pd.read_csv('data/Global_EV_2023.csv')"
   ]
  },
  {
   "cell_type": "code",
   "execution_count": 4,
   "metadata": {},
   "outputs": [
    {
     "data": {
      "text/html": [
       "<div>\n",
       "<style scoped>\n",
       "    .dataframe tbody tr th:only-of-type {\n",
       "        vertical-align: middle;\n",
       "    }\n",
       "\n",
       "    .dataframe tbody tr th {\n",
       "        vertical-align: top;\n",
       "    }\n",
       "\n",
       "    .dataframe thead th {\n",
       "        text-align: right;\n",
       "    }\n",
       "</style>\n",
       "<table border=\"1\" class=\"dataframe\">\n",
       "  <thead>\n",
       "    <tr style=\"text-align: right;\">\n",
       "      <th></th>\n",
       "      <th>region</th>\n",
       "      <th>category</th>\n",
       "      <th>parameter</th>\n",
       "      <th>mode</th>\n",
       "      <th>powertrain</th>\n",
       "      <th>year</th>\n",
       "      <th>unit</th>\n",
       "      <th>value</th>\n",
       "    </tr>\n",
       "  </thead>\n",
       "  <tbody>\n",
       "    <tr>\n",
       "      <th>0</th>\n",
       "      <td>Australia</td>\n",
       "      <td>Historical</td>\n",
       "      <td>EV stock</td>\n",
       "      <td>Cars</td>\n",
       "      <td>BEV</td>\n",
       "      <td>2011</td>\n",
       "      <td>Vehicles</td>\n",
       "      <td>49.00000</td>\n",
       "    </tr>\n",
       "    <tr>\n",
       "      <th>1</th>\n",
       "      <td>Australia</td>\n",
       "      <td>Historical</td>\n",
       "      <td>EV sales share</td>\n",
       "      <td>Cars</td>\n",
       "      <td>EV</td>\n",
       "      <td>2011</td>\n",
       "      <td>percent</td>\n",
       "      <td>0.00650</td>\n",
       "    </tr>\n",
       "    <tr>\n",
       "      <th>2</th>\n",
       "      <td>Australia</td>\n",
       "      <td>Historical</td>\n",
       "      <td>EV stock share</td>\n",
       "      <td>Cars</td>\n",
       "      <td>EV</td>\n",
       "      <td>2011</td>\n",
       "      <td>percent</td>\n",
       "      <td>0.00046</td>\n",
       "    </tr>\n",
       "    <tr>\n",
       "      <th>3</th>\n",
       "      <td>Australia</td>\n",
       "      <td>Historical</td>\n",
       "      <td>EV sales</td>\n",
       "      <td>Cars</td>\n",
       "      <td>BEV</td>\n",
       "      <td>2011</td>\n",
       "      <td>Vehicles</td>\n",
       "      <td>49.00000</td>\n",
       "    </tr>\n",
       "    <tr>\n",
       "      <th>4</th>\n",
       "      <td>Australia</td>\n",
       "      <td>Historical</td>\n",
       "      <td>EV sales</td>\n",
       "      <td>Cars</td>\n",
       "      <td>BEV</td>\n",
       "      <td>2012</td>\n",
       "      <td>Vehicles</td>\n",
       "      <td>170.00000</td>\n",
       "    </tr>\n",
       "  </tbody>\n",
       "</table>\n",
       "</div>"
      ],
      "text/plain": [
       "      region    category       parameter  mode powertrain  year      unit  \\\n",
       "0  Australia  Historical        EV stock  Cars        BEV  2011  Vehicles   \n",
       "1  Australia  Historical  EV sales share  Cars         EV  2011   percent   \n",
       "2  Australia  Historical  EV stock share  Cars         EV  2011   percent   \n",
       "3  Australia  Historical        EV sales  Cars        BEV  2011  Vehicles   \n",
       "4  Australia  Historical        EV sales  Cars        BEV  2012  Vehicles   \n",
       "\n",
       "       value  \n",
       "0   49.00000  \n",
       "1    0.00650  \n",
       "2    0.00046  \n",
       "3   49.00000  \n",
       "4  170.00000  "
      ]
     },
     "execution_count": 4,
     "metadata": {},
     "output_type": "execute_result"
    }
   ],
   "source": [
    "df.head()"
   ]
  },
  {
   "cell_type": "code",
   "execution_count": 5,
   "metadata": {},
   "outputs": [],
   "source": [
    "cat_cols=[]\n",
    "num_cols=[]\n",
    "for cols in df.columns:\n",
    "    if df[cols].dtype==\"object\":\n",
    "        cat_cols.append(cols)\n",
    "    else:\n",
    "        num_cols.append(cols)"
   ]
  },
  {
   "cell_type": "code",
   "execution_count": 6,
   "metadata": {},
   "outputs": [
    {
     "data": {
      "text/plain": [
       "['year', 'value']"
      ]
     },
     "execution_count": 6,
     "metadata": {},
     "output_type": "execute_result"
    }
   ],
   "source": [
    "num_cols"
   ]
  },
  {
   "cell_type": "code",
   "execution_count": 7,
   "metadata": {},
   "outputs": [
    {
     "data": {
      "text/plain": [
       "['region', 'category', 'parameter', 'mode', 'powertrain', 'unit']"
      ]
     },
     "execution_count": 7,
     "metadata": {},
     "output_type": "execute_result"
    }
   ],
   "source": [
    "cat_cols"
   ]
  },
  {
   "cell_type": "code",
   "execution_count": 8,
   "metadata": {},
   "outputs": [
    {
     "name": "stdout",
     "output_type": "stream",
     "text": [
      "0\n",
      "0\n",
      "0\n",
      "0\n",
      "0\n",
      "0\n"
     ]
    }
   ],
   "source": [
    "for cat in cat_cols:\n",
    "    print(df[cat].isnull().sum())"
   ]
  },
  {
   "cell_type": "code",
   "execution_count": 9,
   "metadata": {},
   "outputs": [
    {
     "name": "stdout",
     "output_type": "stream",
     "text": [
      "0\n",
      "0\n"
     ]
    }
   ],
   "source": [
    "for cat in num_cols:\n",
    "    print(df[cat].isnull().sum())"
   ]
  },
  {
   "cell_type": "code",
   "execution_count": 10,
   "metadata": {},
   "outputs": [
    {
     "data": {
      "text/plain": [
       "region        38\n",
       "category       3\n",
       "parameter      8\n",
       "mode           5\n",
       "powertrain     5\n",
       "unit           6\n",
       "dtype: int64"
      ]
     },
     "execution_count": 10,
     "metadata": {},
     "output_type": "execute_result"
    }
   ],
   "source": [
    "df[cat_cols].nunique()"
   ]
  },
  {
   "cell_type": "code",
   "execution_count": 11,
   "metadata": {},
   "outputs": [
    {
     "name": "stdout",
     "output_type": "stream",
     "text": [
      "region\n",
      "['Australia' 'Austria' 'Belgium' 'Brazil' 'Canada' 'Chile' 'China'\n",
      " 'Denmark' 'EU27' 'Europe' 'Finland' 'France' 'Germany' 'Greece' 'Iceland'\n",
      " 'India' 'Indonesia' 'Israel' 'Italy' 'Japan' 'Korea' 'Mexico'\n",
      " 'Netherlands' 'New Zealand' 'Norway' 'Other Europe' 'Poland' 'Portugal'\n",
      " 'Rest of the world' 'South Africa' 'Spain' 'Sweden' 'Switzerland'\n",
      " 'Thailand' 'Turkiye' 'United Kingdom' 'USA' 'World']\n",
      "\n",
      "category\n",
      "['Historical' 'Projection-STEPS' 'Projection-APS']\n",
      "\n",
      "parameter\n",
      "['EV stock' 'EV sales share' 'EV stock share' 'EV sales'\n",
      " 'EV charging points' 'Electricity demand' 'Oil displacement Mbd'\n",
      " 'Oil displacement, million lge']\n",
      "\n",
      "mode\n",
      "['Cars' 'EV' 'Buses' 'Vans' 'Trucks']\n",
      "\n",
      "powertrain\n",
      "['BEV' 'EV' 'PHEV' 'Publicly available fast' 'Publicly available slow']\n",
      "\n",
      "unit\n",
      "['Vehicles' 'percent' 'charging points' 'GWh' 'Milion barrels per day'\n",
      " 'Oil displacement, million lge']\n",
      "\n"
     ]
    }
   ],
   "source": [
    "for cols in cat_cols:\n",
    "    print(cols)\n",
    "    print(df[cols].unique())\n",
    "    print()"
   ]
  },
  {
   "cell_type": "code",
   "execution_count": 12,
   "metadata": {},
   "outputs": [
    {
     "name": "stdout",
     "output_type": "stream",
     "text": [
      "year: 444\n",
      "value: 1826\n"
     ]
    }
   ],
   "source": [
    "for cat in num_cols:\n",
    "    IQR=df[cat].quantile(0.75)-df[cat].quantile(0.25)\n",
    "    UB= df[cat].quantile(0.75)+ (1.5*IQR)\n",
    "    LB= df[cat].quantile(0.25)-(1.5*IQR)\n",
    "    s=0\n",
    "    for row in df[cat]:\n",
    "        if row>=UB or row<= LB:\n",
    "            s+=1\n",
    "    print(f\"{cat}: {s}\")"
   ]
  },
  {
   "cell_type": "code",
   "execution_count": 13,
   "metadata": {},
   "outputs": [
    {
     "data": {
      "text/html": [
       "<div>\n",
       "<style scoped>\n",
       "    .dataframe tbody tr th:only-of-type {\n",
       "        vertical-align: middle;\n",
       "    }\n",
       "\n",
       "    .dataframe tbody tr th {\n",
       "        vertical-align: top;\n",
       "    }\n",
       "\n",
       "    .dataframe thead th {\n",
       "        text-align: right;\n",
       "    }\n",
       "</style>\n",
       "<table border=\"1\" class=\"dataframe\">\n",
       "  <thead>\n",
       "    <tr style=\"text-align: right;\">\n",
       "      <th></th>\n",
       "      <th>region</th>\n",
       "      <th>category</th>\n",
       "      <th>parameter</th>\n",
       "      <th>mode</th>\n",
       "      <th>powertrain</th>\n",
       "      <th>year</th>\n",
       "      <th>unit</th>\n",
       "      <th>value</th>\n",
       "    </tr>\n",
       "  </thead>\n",
       "  <tbody>\n",
       "    <tr>\n",
       "      <th>0</th>\n",
       "      <td>Australia</td>\n",
       "      <td>Historical</td>\n",
       "      <td>EV stock</td>\n",
       "      <td>Cars</td>\n",
       "      <td>BEV</td>\n",
       "      <td>2011</td>\n",
       "      <td>Vehicles</td>\n",
       "      <td>49.00000</td>\n",
       "    </tr>\n",
       "    <tr>\n",
       "      <th>1</th>\n",
       "      <td>Australia</td>\n",
       "      <td>Historical</td>\n",
       "      <td>EV sales share</td>\n",
       "      <td>Cars</td>\n",
       "      <td>EV</td>\n",
       "      <td>2011</td>\n",
       "      <td>percent</td>\n",
       "      <td>0.00650</td>\n",
       "    </tr>\n",
       "    <tr>\n",
       "      <th>2</th>\n",
       "      <td>Australia</td>\n",
       "      <td>Historical</td>\n",
       "      <td>EV stock share</td>\n",
       "      <td>Cars</td>\n",
       "      <td>EV</td>\n",
       "      <td>2011</td>\n",
       "      <td>percent</td>\n",
       "      <td>0.00046</td>\n",
       "    </tr>\n",
       "    <tr>\n",
       "      <th>3</th>\n",
       "      <td>Australia</td>\n",
       "      <td>Historical</td>\n",
       "      <td>EV sales</td>\n",
       "      <td>Cars</td>\n",
       "      <td>BEV</td>\n",
       "      <td>2011</td>\n",
       "      <td>Vehicles</td>\n",
       "      <td>49.00000</td>\n",
       "    </tr>\n",
       "    <tr>\n",
       "      <th>4</th>\n",
       "      <td>Australia</td>\n",
       "      <td>Historical</td>\n",
       "      <td>EV sales</td>\n",
       "      <td>Cars</td>\n",
       "      <td>BEV</td>\n",
       "      <td>2012</td>\n",
       "      <td>Vehicles</td>\n",
       "      <td>170.00000</td>\n",
       "    </tr>\n",
       "  </tbody>\n",
       "</table>\n",
       "</div>"
      ],
      "text/plain": [
       "      region    category       parameter  mode powertrain  year      unit  \\\n",
       "0  Australia  Historical        EV stock  Cars        BEV  2011  Vehicles   \n",
       "1  Australia  Historical  EV sales share  Cars         EV  2011   percent   \n",
       "2  Australia  Historical  EV stock share  Cars         EV  2011   percent   \n",
       "3  Australia  Historical        EV sales  Cars        BEV  2011  Vehicles   \n",
       "4  Australia  Historical        EV sales  Cars        BEV  2012  Vehicles   \n",
       "\n",
       "       value  \n",
       "0   49.00000  \n",
       "1    0.00650  \n",
       "2    0.00046  \n",
       "3   49.00000  \n",
       "4  170.00000  "
      ]
     },
     "execution_count": 13,
     "metadata": {},
     "output_type": "execute_result"
    }
   ],
   "source": [
    "df.head()"
   ]
  },
  {
   "cell_type": "code",
   "execution_count": 14,
   "metadata": {},
   "outputs": [],
   "source": [
    "df1 = df[df[\"unit\"]==\"Vehicles\"]"
   ]
  },
  {
   "cell_type": "code",
   "execution_count": 15,
   "metadata": {},
   "outputs": [],
   "source": [
    "df2 = df[df[\"unit\"]==\"percent\"]"
   ]
  },
  {
   "cell_type": "code",
   "execution_count": 16,
   "metadata": {},
   "outputs": [],
   "source": [
    "df3 = df[df[\"unit\"]==\"charging points\"]"
   ]
  },
  {
   "cell_type": "code",
   "execution_count": 17,
   "metadata": {},
   "outputs": [],
   "source": [
    "df4 = df[df[\"unit\"]==\"GWh\"]"
   ]
  },
  {
   "cell_type": "code",
   "execution_count": 18,
   "metadata": {},
   "outputs": [],
   "source": [
    "df5 = df[df[\"unit\"]==\"Milion barrels per day\"]"
   ]
  },
  {
   "cell_type": "code",
   "execution_count": 19,
   "metadata": {},
   "outputs": [],
   "source": [
    "df6 = df[df[\"unit\"]==\"Oil displacement, million lge\"]"
   ]
  },
  {
   "cell_type": "code",
   "execution_count": 20,
   "metadata": {},
   "outputs": [
    {
     "data": {
      "text/html": [
       "<div>\n",
       "<style scoped>\n",
       "    .dataframe tbody tr th:only-of-type {\n",
       "        vertical-align: middle;\n",
       "    }\n",
       "\n",
       "    .dataframe tbody tr th {\n",
       "        vertical-align: top;\n",
       "    }\n",
       "\n",
       "    .dataframe thead th {\n",
       "        text-align: right;\n",
       "    }\n",
       "</style>\n",
       "<table border=\"1\" class=\"dataframe\">\n",
       "  <thead>\n",
       "    <tr style=\"text-align: right;\">\n",
       "      <th></th>\n",
       "      <th>region</th>\n",
       "      <th>category</th>\n",
       "      <th>parameter</th>\n",
       "      <th>mode</th>\n",
       "      <th>powertrain</th>\n",
       "      <th>year</th>\n",
       "      <th>unit</th>\n",
       "      <th>value</th>\n",
       "    </tr>\n",
       "  </thead>\n",
       "  <tbody>\n",
       "    <tr>\n",
       "      <th>0</th>\n",
       "      <td>Australia</td>\n",
       "      <td>Historical</td>\n",
       "      <td>EV stock</td>\n",
       "      <td>Cars</td>\n",
       "      <td>BEV</td>\n",
       "      <td>2011</td>\n",
       "      <td>Vehicles</td>\n",
       "      <td>49.0</td>\n",
       "    </tr>\n",
       "    <tr>\n",
       "      <th>3</th>\n",
       "      <td>Australia</td>\n",
       "      <td>Historical</td>\n",
       "      <td>EV sales</td>\n",
       "      <td>Cars</td>\n",
       "      <td>BEV</td>\n",
       "      <td>2011</td>\n",
       "      <td>Vehicles</td>\n",
       "      <td>49.0</td>\n",
       "    </tr>\n",
       "    <tr>\n",
       "      <th>4</th>\n",
       "      <td>Australia</td>\n",
       "      <td>Historical</td>\n",
       "      <td>EV sales</td>\n",
       "      <td>Cars</td>\n",
       "      <td>BEV</td>\n",
       "      <td>2012</td>\n",
       "      <td>Vehicles</td>\n",
       "      <td>170.0</td>\n",
       "    </tr>\n",
       "    <tr>\n",
       "      <th>7</th>\n",
       "      <td>Australia</td>\n",
       "      <td>Historical</td>\n",
       "      <td>EV stock</td>\n",
       "      <td>Cars</td>\n",
       "      <td>BEV</td>\n",
       "      <td>2012</td>\n",
       "      <td>Vehicles</td>\n",
       "      <td>220.0</td>\n",
       "    </tr>\n",
       "    <tr>\n",
       "      <th>8</th>\n",
       "      <td>Australia</td>\n",
       "      <td>Historical</td>\n",
       "      <td>EV stock</td>\n",
       "      <td>Cars</td>\n",
       "      <td>PHEV</td>\n",
       "      <td>2012</td>\n",
       "      <td>Vehicles</td>\n",
       "      <td>80.0</td>\n",
       "    </tr>\n",
       "  </tbody>\n",
       "</table>\n",
       "</div>"
      ],
      "text/plain": [
       "      region    category parameter  mode powertrain  year      unit  value\n",
       "0  Australia  Historical  EV stock  Cars        BEV  2011  Vehicles   49.0\n",
       "3  Australia  Historical  EV sales  Cars        BEV  2011  Vehicles   49.0\n",
       "4  Australia  Historical  EV sales  Cars        BEV  2012  Vehicles  170.0\n",
       "7  Australia  Historical  EV stock  Cars        BEV  2012  Vehicles  220.0\n",
       "8  Australia  Historical  EV stock  Cars       PHEV  2012  Vehicles   80.0"
      ]
     },
     "execution_count": 20,
     "metadata": {},
     "output_type": "execute_result"
    }
   ],
   "source": [
    "df1.head()"
   ]
  },
  {
   "cell_type": "code",
   "execution_count": 21,
   "metadata": {},
   "outputs": [
    {
     "data": {
      "text/html": [
       "<div>\n",
       "<style scoped>\n",
       "    .dataframe tbody tr th:only-of-type {\n",
       "        vertical-align: middle;\n",
       "    }\n",
       "\n",
       "    .dataframe tbody tr th {\n",
       "        vertical-align: top;\n",
       "    }\n",
       "\n",
       "    .dataframe thead th {\n",
       "        text-align: right;\n",
       "    }\n",
       "</style>\n",
       "<table border=\"1\" class=\"dataframe\">\n",
       "  <thead>\n",
       "    <tr style=\"text-align: right;\">\n",
       "      <th></th>\n",
       "      <th>region</th>\n",
       "      <th>category</th>\n",
       "      <th>parameter</th>\n",
       "      <th>mode</th>\n",
       "      <th>powertrain</th>\n",
       "      <th>year</th>\n",
       "      <th>unit</th>\n",
       "      <th>value</th>\n",
       "    </tr>\n",
       "  </thead>\n",
       "  <tbody>\n",
       "    <tr>\n",
       "      <th>1</th>\n",
       "      <td>Australia</td>\n",
       "      <td>Historical</td>\n",
       "      <td>EV sales share</td>\n",
       "      <td>Cars</td>\n",
       "      <td>EV</td>\n",
       "      <td>2011</td>\n",
       "      <td>percent</td>\n",
       "      <td>0.00650</td>\n",
       "    </tr>\n",
       "    <tr>\n",
       "      <th>2</th>\n",
       "      <td>Australia</td>\n",
       "      <td>Historical</td>\n",
       "      <td>EV stock share</td>\n",
       "      <td>Cars</td>\n",
       "      <td>EV</td>\n",
       "      <td>2011</td>\n",
       "      <td>percent</td>\n",
       "      <td>0.00046</td>\n",
       "    </tr>\n",
       "    <tr>\n",
       "      <th>5</th>\n",
       "      <td>Australia</td>\n",
       "      <td>Historical</td>\n",
       "      <td>EV stock share</td>\n",
       "      <td>Cars</td>\n",
       "      <td>EV</td>\n",
       "      <td>2012</td>\n",
       "      <td>percent</td>\n",
       "      <td>0.00280</td>\n",
       "    </tr>\n",
       "    <tr>\n",
       "      <th>6</th>\n",
       "      <td>Australia</td>\n",
       "      <td>Historical</td>\n",
       "      <td>EV sales share</td>\n",
       "      <td>Cars</td>\n",
       "      <td>EV</td>\n",
       "      <td>2012</td>\n",
       "      <td>percent</td>\n",
       "      <td>0.03000</td>\n",
       "    </tr>\n",
       "    <tr>\n",
       "      <th>13</th>\n",
       "      <td>Australia</td>\n",
       "      <td>Historical</td>\n",
       "      <td>EV sales share</td>\n",
       "      <td>Cars</td>\n",
       "      <td>EV</td>\n",
       "      <td>2013</td>\n",
       "      <td>percent</td>\n",
       "      <td>0.03400</td>\n",
       "    </tr>\n",
       "  </tbody>\n",
       "</table>\n",
       "</div>"
      ],
      "text/plain": [
       "       region    category       parameter  mode powertrain  year     unit  \\\n",
       "1   Australia  Historical  EV sales share  Cars         EV  2011  percent   \n",
       "2   Australia  Historical  EV stock share  Cars         EV  2011  percent   \n",
       "5   Australia  Historical  EV stock share  Cars         EV  2012  percent   \n",
       "6   Australia  Historical  EV sales share  Cars         EV  2012  percent   \n",
       "13  Australia  Historical  EV sales share  Cars         EV  2013  percent   \n",
       "\n",
       "      value  \n",
       "1   0.00650  \n",
       "2   0.00046  \n",
       "5   0.00280  \n",
       "6   0.03000  \n",
       "13  0.03400  "
      ]
     },
     "execution_count": 21,
     "metadata": {},
     "output_type": "execute_result"
    }
   ],
   "source": [
    "df2.head()"
   ]
  },
  {
   "cell_type": "code",
   "execution_count": 22,
   "metadata": {},
   "outputs": [
    {
     "data": {
      "text/html": [
       "<div>\n",
       "<style scoped>\n",
       "    .dataframe tbody tr th:only-of-type {\n",
       "        vertical-align: middle;\n",
       "    }\n",
       "\n",
       "    .dataframe tbody tr th {\n",
       "        vertical-align: top;\n",
       "    }\n",
       "\n",
       "    .dataframe thead th {\n",
       "        text-align: right;\n",
       "    }\n",
       "</style>\n",
       "<table border=\"1\" class=\"dataframe\">\n",
       "  <thead>\n",
       "    <tr style=\"text-align: right;\">\n",
       "      <th></th>\n",
       "      <th>region</th>\n",
       "      <th>category</th>\n",
       "      <th>parameter</th>\n",
       "      <th>mode</th>\n",
       "      <th>powertrain</th>\n",
       "      <th>year</th>\n",
       "      <th>unit</th>\n",
       "      <th>value</th>\n",
       "    </tr>\n",
       "  </thead>\n",
       "  <tbody>\n",
       "    <tr>\n",
       "      <th>40</th>\n",
       "      <td>Australia</td>\n",
       "      <td>Historical</td>\n",
       "      <td>EV charging points</td>\n",
       "      <td>EV</td>\n",
       "      <td>Publicly available fast</td>\n",
       "      <td>2017</td>\n",
       "      <td>charging points</td>\n",
       "      <td>40.0</td>\n",
       "    </tr>\n",
       "    <tr>\n",
       "      <th>41</th>\n",
       "      <td>Australia</td>\n",
       "      <td>Historical</td>\n",
       "      <td>EV charging points</td>\n",
       "      <td>EV</td>\n",
       "      <td>Publicly available slow</td>\n",
       "      <td>2017</td>\n",
       "      <td>charging points</td>\n",
       "      <td>440.0</td>\n",
       "    </tr>\n",
       "    <tr>\n",
       "      <th>42</th>\n",
       "      <td>Australia</td>\n",
       "      <td>Historical</td>\n",
       "      <td>EV charging points</td>\n",
       "      <td>EV</td>\n",
       "      <td>Publicly available fast</td>\n",
       "      <td>2018</td>\n",
       "      <td>charging points</td>\n",
       "      <td>61.0</td>\n",
       "    </tr>\n",
       "    <tr>\n",
       "      <th>43</th>\n",
       "      <td>Australia</td>\n",
       "      <td>Historical</td>\n",
       "      <td>EV charging points</td>\n",
       "      <td>EV</td>\n",
       "      <td>Publicly available slow</td>\n",
       "      <td>2018</td>\n",
       "      <td>charging points</td>\n",
       "      <td>670.0</td>\n",
       "    </tr>\n",
       "    <tr>\n",
       "      <th>56</th>\n",
       "      <td>Australia</td>\n",
       "      <td>Historical</td>\n",
       "      <td>EV charging points</td>\n",
       "      <td>EV</td>\n",
       "      <td>Publicly available fast</td>\n",
       "      <td>2019</td>\n",
       "      <td>charging points</td>\n",
       "      <td>250.0</td>\n",
       "    </tr>\n",
       "  </tbody>\n",
       "</table>\n",
       "</div>"
      ],
      "text/plain": [
       "       region    category           parameter mode               powertrain  \\\n",
       "40  Australia  Historical  EV charging points   EV  Publicly available fast   \n",
       "41  Australia  Historical  EV charging points   EV  Publicly available slow   \n",
       "42  Australia  Historical  EV charging points   EV  Publicly available fast   \n",
       "43  Australia  Historical  EV charging points   EV  Publicly available slow   \n",
       "56  Australia  Historical  EV charging points   EV  Publicly available fast   \n",
       "\n",
       "    year             unit  value  \n",
       "40  2017  charging points   40.0  \n",
       "41  2017  charging points  440.0  \n",
       "42  2018  charging points   61.0  \n",
       "43  2018  charging points  670.0  \n",
       "56  2019  charging points  250.0  "
      ]
     },
     "execution_count": 22,
     "metadata": {},
     "output_type": "execute_result"
    }
   ],
   "source": [
    "df3.head()"
   ]
  },
  {
   "cell_type": "code",
   "execution_count": 23,
   "metadata": {},
   "outputs": [
    {
     "data": {
      "text/html": [
       "<div>\n",
       "<style scoped>\n",
       "    .dataframe tbody tr th:only-of-type {\n",
       "        vertical-align: middle;\n",
       "    }\n",
       "\n",
       "    .dataframe tbody tr th {\n",
       "        vertical-align: top;\n",
       "    }\n",
       "\n",
       "    .dataframe thead th {\n",
       "        text-align: right;\n",
       "    }\n",
       "</style>\n",
       "<table border=\"1\" class=\"dataframe\">\n",
       "  <thead>\n",
       "    <tr style=\"text-align: right;\">\n",
       "      <th></th>\n",
       "      <th>region</th>\n",
       "      <th>category</th>\n",
       "      <th>parameter</th>\n",
       "      <th>mode</th>\n",
       "      <th>powertrain</th>\n",
       "      <th>year</th>\n",
       "      <th>unit</th>\n",
       "      <th>value</th>\n",
       "    </tr>\n",
       "  </thead>\n",
       "  <tbody>\n",
       "    <tr>\n",
       "      <th>1002</th>\n",
       "      <td>China</td>\n",
       "      <td>Historical</td>\n",
       "      <td>Electricity demand</td>\n",
       "      <td>Buses</td>\n",
       "      <td>EV</td>\n",
       "      <td>2010</td>\n",
       "      <td>GWh</td>\n",
       "      <td>24000.0</td>\n",
       "    </tr>\n",
       "    <tr>\n",
       "      <th>1003</th>\n",
       "      <td>China</td>\n",
       "      <td>Historical</td>\n",
       "      <td>Electricity demand</td>\n",
       "      <td>Trucks</td>\n",
       "      <td>EV</td>\n",
       "      <td>2010</td>\n",
       "      <td>GWh</td>\n",
       "      <td>36.0</td>\n",
       "    </tr>\n",
       "    <tr>\n",
       "      <th>1004</th>\n",
       "      <td>China</td>\n",
       "      <td>Historical</td>\n",
       "      <td>Electricity demand</td>\n",
       "      <td>Vans</td>\n",
       "      <td>EV</td>\n",
       "      <td>2010</td>\n",
       "      <td>GWh</td>\n",
       "      <td>110.0</td>\n",
       "    </tr>\n",
       "    <tr>\n",
       "      <th>1005</th>\n",
       "      <td>China</td>\n",
       "      <td>Historical</td>\n",
       "      <td>Electricity demand</td>\n",
       "      <td>Cars</td>\n",
       "      <td>EV</td>\n",
       "      <td>2010</td>\n",
       "      <td>GWh</td>\n",
       "      <td>330.0</td>\n",
       "    </tr>\n",
       "    <tr>\n",
       "      <th>1022</th>\n",
       "      <td>China</td>\n",
       "      <td>Historical</td>\n",
       "      <td>Electricity demand</td>\n",
       "      <td>Buses</td>\n",
       "      <td>EV</td>\n",
       "      <td>2011</td>\n",
       "      <td>GWh</td>\n",
       "      <td>24000.0</td>\n",
       "    </tr>\n",
       "  </tbody>\n",
       "</table>\n",
       "</div>"
      ],
      "text/plain": [
       "     region    category           parameter    mode powertrain  year unit  \\\n",
       "1002  China  Historical  Electricity demand   Buses         EV  2010  GWh   \n",
       "1003  China  Historical  Electricity demand  Trucks         EV  2010  GWh   \n",
       "1004  China  Historical  Electricity demand    Vans         EV  2010  GWh   \n",
       "1005  China  Historical  Electricity demand    Cars         EV  2010  GWh   \n",
       "1022  China  Historical  Electricity demand   Buses         EV  2011  GWh   \n",
       "\n",
       "        value  \n",
       "1002  24000.0  \n",
       "1003     36.0  \n",
       "1004    110.0  \n",
       "1005    330.0  \n",
       "1022  24000.0  "
      ]
     },
     "execution_count": 23,
     "metadata": {},
     "output_type": "execute_result"
    }
   ],
   "source": [
    "df4.head()"
   ]
  },
  {
   "cell_type": "code",
   "execution_count": 24,
   "metadata": {},
   "outputs": [
    {
     "data": {
      "text/html": [
       "<div>\n",
       "<style scoped>\n",
       "    .dataframe tbody tr th:only-of-type {\n",
       "        vertical-align: middle;\n",
       "    }\n",
       "\n",
       "    .dataframe tbody tr th {\n",
       "        vertical-align: top;\n",
       "    }\n",
       "\n",
       "    .dataframe thead th {\n",
       "        text-align: right;\n",
       "    }\n",
       "</style>\n",
       "<table border=\"1\" class=\"dataframe\">\n",
       "  <thead>\n",
       "    <tr style=\"text-align: right;\">\n",
       "      <th></th>\n",
       "      <th>region</th>\n",
       "      <th>category</th>\n",
       "      <th>parameter</th>\n",
       "      <th>mode</th>\n",
       "      <th>powertrain</th>\n",
       "      <th>year</th>\n",
       "      <th>unit</th>\n",
       "      <th>value</th>\n",
       "    </tr>\n",
       "  </thead>\n",
       "  <tbody>\n",
       "    <tr>\n",
       "      <th>1006</th>\n",
       "      <td>China</td>\n",
       "      <td>Historical</td>\n",
       "      <td>Oil displacement Mbd</td>\n",
       "      <td>Buses</td>\n",
       "      <td>EV</td>\n",
       "      <td>2010</td>\n",
       "      <td>Milion barrels per day</td>\n",
       "      <td>0.001100</td>\n",
       "    </tr>\n",
       "    <tr>\n",
       "      <th>1007</th>\n",
       "      <td>China</td>\n",
       "      <td>Historical</td>\n",
       "      <td>Oil displacement Mbd</td>\n",
       "      <td>Trucks</td>\n",
       "      <td>EV</td>\n",
       "      <td>2010</td>\n",
       "      <td>Milion barrels per day</td>\n",
       "      <td>0.000002</td>\n",
       "    </tr>\n",
       "    <tr>\n",
       "      <th>1008</th>\n",
       "      <td>China</td>\n",
       "      <td>Historical</td>\n",
       "      <td>Oil displacement Mbd</td>\n",
       "      <td>Vans</td>\n",
       "      <td>EV</td>\n",
       "      <td>2010</td>\n",
       "      <td>Milion barrels per day</td>\n",
       "      <td>0.000010</td>\n",
       "    </tr>\n",
       "    <tr>\n",
       "      <th>1009</th>\n",
       "      <td>China</td>\n",
       "      <td>Historical</td>\n",
       "      <td>Oil displacement Mbd</td>\n",
       "      <td>Cars</td>\n",
       "      <td>EV</td>\n",
       "      <td>2010</td>\n",
       "      <td>Milion barrels per day</td>\n",
       "      <td>0.000026</td>\n",
       "    </tr>\n",
       "    <tr>\n",
       "      <th>1014</th>\n",
       "      <td>China</td>\n",
       "      <td>Historical</td>\n",
       "      <td>Oil displacement Mbd</td>\n",
       "      <td>Buses</td>\n",
       "      <td>EV</td>\n",
       "      <td>2011</td>\n",
       "      <td>Milion barrels per day</td>\n",
       "      <td>0.001100</td>\n",
       "    </tr>\n",
       "  </tbody>\n",
       "</table>\n",
       "</div>"
      ],
      "text/plain": [
       "     region    category             parameter    mode powertrain  year  \\\n",
       "1006  China  Historical  Oil displacement Mbd   Buses         EV  2010   \n",
       "1007  China  Historical  Oil displacement Mbd  Trucks         EV  2010   \n",
       "1008  China  Historical  Oil displacement Mbd    Vans         EV  2010   \n",
       "1009  China  Historical  Oil displacement Mbd    Cars         EV  2010   \n",
       "1014  China  Historical  Oil displacement Mbd   Buses         EV  2011   \n",
       "\n",
       "                        unit     value  \n",
       "1006  Milion barrels per day  0.001100  \n",
       "1007  Milion barrels per day  0.000002  \n",
       "1008  Milion barrels per day  0.000010  \n",
       "1009  Milion barrels per day  0.000026  \n",
       "1014  Milion barrels per day  0.001100  "
      ]
     },
     "execution_count": 24,
     "metadata": {},
     "output_type": "execute_result"
    }
   ],
   "source": [
    "df5.head()"
   ]
  },
  {
   "cell_type": "code",
   "execution_count": 25,
   "metadata": {},
   "outputs": [
    {
     "data": {
      "text/html": [
       "<div>\n",
       "<style scoped>\n",
       "    .dataframe tbody tr th:only-of-type {\n",
       "        vertical-align: middle;\n",
       "    }\n",
       "\n",
       "    .dataframe tbody tr th {\n",
       "        vertical-align: top;\n",
       "    }\n",
       "\n",
       "    .dataframe thead th {\n",
       "        text-align: right;\n",
       "    }\n",
       "</style>\n",
       "<table border=\"1\" class=\"dataframe\">\n",
       "  <thead>\n",
       "    <tr style=\"text-align: right;\">\n",
       "      <th></th>\n",
       "      <th>region</th>\n",
       "      <th>category</th>\n",
       "      <th>parameter</th>\n",
       "      <th>mode</th>\n",
       "      <th>powertrain</th>\n",
       "      <th>year</th>\n",
       "      <th>unit</th>\n",
       "      <th>value</th>\n",
       "    </tr>\n",
       "  </thead>\n",
       "  <tbody>\n",
       "    <tr>\n",
       "      <th>1010</th>\n",
       "      <td>China</td>\n",
       "      <td>Historical</td>\n",
       "      <td>Oil displacement, million lge</td>\n",
       "      <td>Buses</td>\n",
       "      <td>EV</td>\n",
       "      <td>2010</td>\n",
       "      <td>Oil displacement, million lge</td>\n",
       "      <td>68.000</td>\n",
       "    </tr>\n",
       "    <tr>\n",
       "      <th>1011</th>\n",
       "      <td>China</td>\n",
       "      <td>Historical</td>\n",
       "      <td>Oil displacement, million lge</td>\n",
       "      <td>Trucks</td>\n",
       "      <td>EV</td>\n",
       "      <td>2010</td>\n",
       "      <td>Oil displacement, million lge</td>\n",
       "      <td>0.088</td>\n",
       "    </tr>\n",
       "    <tr>\n",
       "      <th>1012</th>\n",
       "      <td>China</td>\n",
       "      <td>Historical</td>\n",
       "      <td>Oil displacement, million lge</td>\n",
       "      <td>Vans</td>\n",
       "      <td>EV</td>\n",
       "      <td>2010</td>\n",
       "      <td>Oil displacement, million lge</td>\n",
       "      <td>0.590</td>\n",
       "    </tr>\n",
       "    <tr>\n",
       "      <th>1013</th>\n",
       "      <td>China</td>\n",
       "      <td>Historical</td>\n",
       "      <td>Oil displacement, million lge</td>\n",
       "      <td>Cars</td>\n",
       "      <td>EV</td>\n",
       "      <td>2010</td>\n",
       "      <td>Oil displacement, million lge</td>\n",
       "      <td>1.500</td>\n",
       "    </tr>\n",
       "    <tr>\n",
       "      <th>1018</th>\n",
       "      <td>China</td>\n",
       "      <td>Historical</td>\n",
       "      <td>Oil displacement, million lge</td>\n",
       "      <td>Buses</td>\n",
       "      <td>EV</td>\n",
       "      <td>2011</td>\n",
       "      <td>Oil displacement, million lge</td>\n",
       "      <td>67.000</td>\n",
       "    </tr>\n",
       "  </tbody>\n",
       "</table>\n",
       "</div>"
      ],
      "text/plain": [
       "     region    category                      parameter    mode powertrain  \\\n",
       "1010  China  Historical  Oil displacement, million lge   Buses         EV   \n",
       "1011  China  Historical  Oil displacement, million lge  Trucks         EV   \n",
       "1012  China  Historical  Oil displacement, million lge    Vans         EV   \n",
       "1013  China  Historical  Oil displacement, million lge    Cars         EV   \n",
       "1018  China  Historical  Oil displacement, million lge   Buses         EV   \n",
       "\n",
       "      year                           unit   value  \n",
       "1010  2010  Oil displacement, million lge  68.000  \n",
       "1011  2010  Oil displacement, million lge   0.088  \n",
       "1012  2010  Oil displacement, million lge   0.590  \n",
       "1013  2010  Oil displacement, million lge   1.500  \n",
       "1018  2011  Oil displacement, million lge  67.000  "
      ]
     },
     "execution_count": 25,
     "metadata": {},
     "output_type": "execute_result"
    }
   ],
   "source": [
    "df6.head()"
   ]
  },
  {
   "cell_type": "code",
   "execution_count": 26,
   "metadata": {},
   "outputs": [],
   "source": [
    "dn=[df1, df2,df3,df4,df5,df6]"
   ]
  },
  {
   "cell_type": "code",
   "execution_count": 27,
   "metadata": {},
   "outputs": [
    {
     "data": {
      "text/html": [
       "<div>\n",
       "<style scoped>\n",
       "    .dataframe tbody tr th:only-of-type {\n",
       "        vertical-align: middle;\n",
       "    }\n",
       "\n",
       "    .dataframe tbody tr th {\n",
       "        vertical-align: top;\n",
       "    }\n",
       "\n",
       "    .dataframe thead th {\n",
       "        text-align: right;\n",
       "    }\n",
       "</style>\n",
       "<table border=\"1\" class=\"dataframe\">\n",
       "  <thead>\n",
       "    <tr style=\"text-align: right;\">\n",
       "      <th></th>\n",
       "      <th>region</th>\n",
       "      <th>category</th>\n",
       "      <th>parameter</th>\n",
       "      <th>mode</th>\n",
       "      <th>powertrain</th>\n",
       "      <th>year</th>\n",
       "      <th>unit</th>\n",
       "      <th>value</th>\n",
       "    </tr>\n",
       "  </thead>\n",
       "  <tbody>\n",
       "    <tr>\n",
       "      <th>0</th>\n",
       "      <td>Australia</td>\n",
       "      <td>Historical</td>\n",
       "      <td>EV stock</td>\n",
       "      <td>Cars</td>\n",
       "      <td>BEV</td>\n",
       "      <td>2011</td>\n",
       "      <td>Vehicles</td>\n",
       "      <td>49.0</td>\n",
       "    </tr>\n",
       "    <tr>\n",
       "      <th>3</th>\n",
       "      <td>Australia</td>\n",
       "      <td>Historical</td>\n",
       "      <td>EV sales</td>\n",
       "      <td>Cars</td>\n",
       "      <td>BEV</td>\n",
       "      <td>2011</td>\n",
       "      <td>Vehicles</td>\n",
       "      <td>49.0</td>\n",
       "    </tr>\n",
       "    <tr>\n",
       "      <th>4</th>\n",
       "      <td>Australia</td>\n",
       "      <td>Historical</td>\n",
       "      <td>EV sales</td>\n",
       "      <td>Cars</td>\n",
       "      <td>BEV</td>\n",
       "      <td>2012</td>\n",
       "      <td>Vehicles</td>\n",
       "      <td>170.0</td>\n",
       "    </tr>\n",
       "    <tr>\n",
       "      <th>7</th>\n",
       "      <td>Australia</td>\n",
       "      <td>Historical</td>\n",
       "      <td>EV stock</td>\n",
       "      <td>Cars</td>\n",
       "      <td>BEV</td>\n",
       "      <td>2012</td>\n",
       "      <td>Vehicles</td>\n",
       "      <td>220.0</td>\n",
       "    </tr>\n",
       "    <tr>\n",
       "      <th>8</th>\n",
       "      <td>Australia</td>\n",
       "      <td>Historical</td>\n",
       "      <td>EV stock</td>\n",
       "      <td>Cars</td>\n",
       "      <td>PHEV</td>\n",
       "      <td>2012</td>\n",
       "      <td>Vehicles</td>\n",
       "      <td>80.0</td>\n",
       "    </tr>\n",
       "  </tbody>\n",
       "</table>\n",
       "</div>"
      ],
      "text/plain": [
       "      region    category parameter  mode powertrain  year      unit  value\n",
       "0  Australia  Historical  EV stock  Cars        BEV  2011  Vehicles   49.0\n",
       "3  Australia  Historical  EV sales  Cars        BEV  2011  Vehicles   49.0\n",
       "4  Australia  Historical  EV sales  Cars        BEV  2012  Vehicles  170.0\n",
       "7  Australia  Historical  EV stock  Cars        BEV  2012  Vehicles  220.0\n",
       "8  Australia  Historical  EV stock  Cars       PHEV  2012  Vehicles   80.0"
      ]
     },
     "execution_count": 27,
     "metadata": {},
     "output_type": "execute_result"
    }
   ],
   "source": [
    "df1.head()"
   ]
  },
  {
   "cell_type": "code",
   "execution_count": 28,
   "metadata": {},
   "outputs": [
    {
     "name": "stderr",
     "output_type": "stream",
     "text": [
      "/tmp/ipykernel_6188/3614962638.py:4: SettingWithCopyWarning: \n",
      "A value is trying to be set on a copy of a slice from a DataFrame.\n",
      "Try using .loc[row_indexer,col_indexer] = value instead\n",
      "\n",
      "See the caveats in the documentation: https://pandas.pydata.org/pandas-docs/stable/user_guide/indexing.html#returning-a-view-versus-a-copy\n",
      "  df1[cat_cols]= encoder.transform(df1[cat_cols])\n"
     ]
    },
    {
     "data": {
      "text/plain": [
       "region         36\n",
       "category        3\n",
       "parameter       2\n",
       "mode            4\n",
       "powertrain      2\n",
       "year           15\n",
       "unit            1\n",
       "value         526\n",
       "dtype: int64"
      ]
     },
     "execution_count": 28,
     "metadata": {},
     "output_type": "execute_result"
    }
   ],
   "source": [
    "from sklearn.preprocessing import OrdinalEncoder\n",
    "encoder = OrdinalEncoder()\n",
    "encoder.fit(df1[cat_cols])\n",
    "df1[cat_cols]= encoder.transform(df1[cat_cols])\n",
    "df1.head()\n",
    "df1[df1.columns].nunique()"
   ]
  },
  {
   "cell_type": "code",
   "execution_count": 29,
   "metadata": {},
   "outputs": [
    {
     "name": "stderr",
     "output_type": "stream",
     "text": [
      "/tmp/ipykernel_6188/704807145.py:2: SettingWithCopyWarning: \n",
      "A value is trying to be set on a copy of a slice from a DataFrame.\n",
      "Try using .loc[row_indexer,col_indexer] = value instead\n",
      "\n",
      "See the caveats in the documentation: https://pandas.pydata.org/pandas-docs/stable/user_guide/indexing.html#returning-a-view-versus-a-copy\n",
      "  df2[cat_cols]= encoder.transform(df2[cat_cols])\n"
     ]
    },
    {
     "data": {
      "text/plain": [
       "region         36\n",
       "category        3\n",
       "parameter       2\n",
       "mode            4\n",
       "powertrain      1\n",
       "year           15\n",
       "unit            1\n",
       "value         460\n",
       "dtype: int64"
      ]
     },
     "execution_count": 29,
     "metadata": {},
     "output_type": "execute_result"
    }
   ],
   "source": [
    "encoder.fit(df2[cat_cols])\n",
    "df2[cat_cols]= encoder.transform(df2[cat_cols])\n",
    "df2.head()\n",
    "df2[df2.columns].nunique()"
   ]
  },
  {
   "cell_type": "code",
   "execution_count": 30,
   "metadata": {},
   "outputs": [
    {
     "name": "stderr",
     "output_type": "stream",
     "text": [
      "/tmp/ipykernel_6188/3428284681.py:2: SettingWithCopyWarning: \n",
      "A value is trying to be set on a copy of a slice from a DataFrame.\n",
      "Try using .loc[row_indexer,col_indexer] = value instead\n",
      "\n",
      "See the caveats in the documentation: https://pandas.pydata.org/pandas-docs/stable/user_guide/indexing.html#returning-a-view-versus-a-copy\n",
      "  df3[cat_cols]= encoder.transform(df3[cat_cols])\n"
     ]
    },
    {
     "data": {
      "text/plain": [
       "region         36\n",
       "category        2\n",
       "parameter       1\n",
       "mode            1\n",
       "powertrain      2\n",
       "year           15\n",
       "unit            1\n",
       "value         260\n",
       "dtype: int64"
      ]
     },
     "execution_count": 30,
     "metadata": {},
     "output_type": "execute_result"
    }
   ],
   "source": [
    "encoder.fit(df3[cat_cols])\n",
    "df3[cat_cols]= encoder.transform(df3[cat_cols])\n",
    "df3.head()\n",
    "df3[df3.columns].nunique()"
   ]
  },
  {
   "cell_type": "code",
   "execution_count": 31,
   "metadata": {},
   "outputs": [
    {
     "name": "stderr",
     "output_type": "stream",
     "text": [
      "/tmp/ipykernel_6188/3605974996.py:2: SettingWithCopyWarning: \n",
      "A value is trying to be set on a copy of a slice from a DataFrame.\n",
      "Try using .loc[row_indexer,col_indexer] = value instead\n",
      "\n",
      "See the caveats in the documentation: https://pandas.pydata.org/pandas-docs/stable/user_guide/indexing.html#returning-a-view-versus-a-copy\n",
      "  df4[cat_cols]= encoder.transform(df4[cat_cols])\n"
     ]
    },
    {
     "data": {
      "text/plain": [
       "region          6\n",
       "category        3\n",
       "parameter       1\n",
       "mode            4\n",
       "powertrain      1\n",
       "year           15\n",
       "unit            1\n",
       "value         189\n",
       "dtype: int64"
      ]
     },
     "execution_count": 31,
     "metadata": {},
     "output_type": "execute_result"
    }
   ],
   "source": [
    "encoder.fit(df4[cat_cols])\n",
    "df4[cat_cols]= encoder.transform(df4[cat_cols])\n",
    "df4.head()\n",
    "df4[df4.columns].nunique()"
   ]
  },
  {
   "cell_type": "code",
   "execution_count": 32,
   "metadata": {},
   "outputs": [
    {
     "name": "stderr",
     "output_type": "stream",
     "text": [
      "/tmp/ipykernel_6188/1150526013.py:2: SettingWithCopyWarning: \n",
      "A value is trying to be set on a copy of a slice from a DataFrame.\n",
      "Try using .loc[row_indexer,col_indexer] = value instead\n",
      "\n",
      "See the caveats in the documentation: https://pandas.pydata.org/pandas-docs/stable/user_guide/indexing.html#returning-a-view-versus-a-copy\n",
      "  df5[cat_cols]= encoder.transform(df5[cat_cols])\n"
     ]
    },
    {
     "data": {
      "text/plain": [
       "region          6\n",
       "category        3\n",
       "parameter       1\n",
       "mode            4\n",
       "powertrain      1\n",
       "year           15\n",
       "unit            1\n",
       "value         213\n",
       "dtype: int64"
      ]
     },
     "execution_count": 32,
     "metadata": {},
     "output_type": "execute_result"
    }
   ],
   "source": [
    "encoder.fit(df5[cat_cols])\n",
    "df5[cat_cols]= encoder.transform(df5[cat_cols])\n",
    "df5.head()\n",
    "df5[df5.columns].nunique()"
   ]
  },
  {
   "cell_type": "code",
   "execution_count": 33,
   "metadata": {},
   "outputs": [
    {
     "name": "stderr",
     "output_type": "stream",
     "text": [
      "/tmp/ipykernel_6188/124426687.py:2: SettingWithCopyWarning: \n",
      "A value is trying to be set on a copy of a slice from a DataFrame.\n",
      "Try using .loc[row_indexer,col_indexer] = value instead\n",
      "\n",
      "See the caveats in the documentation: https://pandas.pydata.org/pandas-docs/stable/user_guide/indexing.html#returning-a-view-versus-a-copy\n",
      "  df6[cat_cols]= encoder.transform(df6[cat_cols])\n"
     ]
    },
    {
     "data": {
      "text/plain": [
       "region          6\n",
       "category        3\n",
       "parameter       1\n",
       "mode            4\n",
       "powertrain      1\n",
       "year           15\n",
       "unit            1\n",
       "value         220\n",
       "dtype: int64"
      ]
     },
     "execution_count": 33,
     "metadata": {},
     "output_type": "execute_result"
    }
   ],
   "source": [
    "encoder.fit(df6[cat_cols])\n",
    "df6[cat_cols]= encoder.transform(df6[cat_cols])\n",
    "df6.head()\n",
    "df6[df6.columns].nunique()"
   ]
  },
  {
   "cell_type": "code",
   "execution_count": 34,
   "metadata": {},
   "outputs": [
    {
     "name": "stdout",
     "output_type": "stream",
     "text": [
      "region: 0\n",
      "category: 4624\n",
      "parameter: 0\n",
      "mode: 0\n",
      "powertrain: 0\n",
      "year: 192\n",
      "unit: 4624\n",
      "value: 840\n"
     ]
    }
   ],
   "source": [
    "for cat in df1.columns:\n",
    "    IQR=df1[cat].quantile(0.75)-df1[cat].quantile(0.25)\n",
    "    UB= df1[cat].quantile(0.75)+ (1.5*IQR)\n",
    "    LB= df1[cat].quantile(0.25)-(1.5*IQR)\n",
    "    s=0\n",
    "    for row in df1[cat]:\n",
    "        if row>=UB or row<= LB:\n",
    "            s+=1\n",
    "    print(f\"{cat}: {s}\")"
   ]
  },
  {
   "cell_type": "code",
   "execution_count": 35,
   "metadata": {},
   "outputs": [],
   "source": [
    "# for cat in df1.columns:\n",
    "#     fig,ax = plt.subplots(nrows=1,ncols=2,figsize=(20,10))\n",
    "#     sns.histplot(df1[cat],ax=ax[0],kde=True)\n",
    "#     ax[0].set_title(\"Histplot\")\n",
    "#     sns.boxplot(df1[cat],ax=ax[1])\n",
    "#     ax[1].set_title(\"Box_Plot\")\n",
    "#     plt.tight_layout()\n",
    "#     plt.show()"
   ]
  },
  {
   "cell_type": "code",
   "execution_count": 36,
   "metadata": {},
   "outputs": [
    {
     "data": {
      "text/plain": [
       "ShapiroResult(statistic=0.09166896343231201, pvalue=0.0)"
      ]
     },
     "execution_count": 36,
     "metadata": {},
     "output_type": "execute_result"
    }
   ],
   "source": [
    "from scipy.stats import shapiro\n",
    "shapiro(df4)"
   ]
  },
  {
   "cell_type": "code",
   "execution_count": 37,
   "metadata": {},
   "outputs": [
    {
     "data": {
      "text/html": [
       "<div>\n",
       "<style scoped>\n",
       "    .dataframe tbody tr th:only-of-type {\n",
       "        vertical-align: middle;\n",
       "    }\n",
       "\n",
       "    .dataframe tbody tr th {\n",
       "        vertical-align: top;\n",
       "    }\n",
       "\n",
       "    .dataframe thead th {\n",
       "        text-align: right;\n",
       "    }\n",
       "</style>\n",
       "<table border=\"1\" class=\"dataframe\">\n",
       "  <thead>\n",
       "    <tr style=\"text-align: right;\">\n",
       "      <th></th>\n",
       "      <th>region</th>\n",
       "      <th>category</th>\n",
       "      <th>parameter</th>\n",
       "      <th>mode</th>\n",
       "      <th>powertrain</th>\n",
       "      <th>year</th>\n",
       "      <th>unit</th>\n",
       "      <th>value</th>\n",
       "    </tr>\n",
       "  </thead>\n",
       "  <tbody>\n",
       "    <tr>\n",
       "      <th>0</th>\n",
       "      <td>0.0</td>\n",
       "      <td>0.0</td>\n",
       "      <td>1.0</td>\n",
       "      <td>1.0</td>\n",
       "      <td>0.0</td>\n",
       "      <td>2011</td>\n",
       "      <td>0.0</td>\n",
       "      <td>49.0</td>\n",
       "    </tr>\n",
       "    <tr>\n",
       "      <th>3</th>\n",
       "      <td>0.0</td>\n",
       "      <td>0.0</td>\n",
       "      <td>0.0</td>\n",
       "      <td>1.0</td>\n",
       "      <td>0.0</td>\n",
       "      <td>2011</td>\n",
       "      <td>0.0</td>\n",
       "      <td>49.0</td>\n",
       "    </tr>\n",
       "    <tr>\n",
       "      <th>4</th>\n",
       "      <td>0.0</td>\n",
       "      <td>0.0</td>\n",
       "      <td>0.0</td>\n",
       "      <td>1.0</td>\n",
       "      <td>0.0</td>\n",
       "      <td>2012</td>\n",
       "      <td>0.0</td>\n",
       "      <td>170.0</td>\n",
       "    </tr>\n",
       "    <tr>\n",
       "      <th>7</th>\n",
       "      <td>0.0</td>\n",
       "      <td>0.0</td>\n",
       "      <td>1.0</td>\n",
       "      <td>1.0</td>\n",
       "      <td>0.0</td>\n",
       "      <td>2012</td>\n",
       "      <td>0.0</td>\n",
       "      <td>220.0</td>\n",
       "    </tr>\n",
       "    <tr>\n",
       "      <th>8</th>\n",
       "      <td>0.0</td>\n",
       "      <td>0.0</td>\n",
       "      <td>1.0</td>\n",
       "      <td>1.0</td>\n",
       "      <td>1.0</td>\n",
       "      <td>2012</td>\n",
       "      <td>0.0</td>\n",
       "      <td>80.0</td>\n",
       "    </tr>\n",
       "  </tbody>\n",
       "</table>\n",
       "</div>"
      ],
      "text/plain": [
       "   region  category  parameter  mode  powertrain  year  unit  value\n",
       "0     0.0       0.0        1.0   1.0         0.0  2011   0.0   49.0\n",
       "3     0.0       0.0        0.0   1.0         0.0  2011   0.0   49.0\n",
       "4     0.0       0.0        0.0   1.0         0.0  2012   0.0  170.0\n",
       "7     0.0       0.0        1.0   1.0         0.0  2012   0.0  220.0\n",
       "8     0.0       0.0        1.0   1.0         1.0  2012   0.0   80.0"
      ]
     },
     "execution_count": 37,
     "metadata": {},
     "output_type": "execute_result"
    }
   ],
   "source": [
    "df1.head()"
   ]
  },
  {
   "cell_type": "code",
   "execution_count": 38,
   "metadata": {},
   "outputs": [],
   "source": [
    "from sklearn.model_selection import train_test_split\n",
    "X=df1.iloc[:,:-1].values\n",
    "Y=df1[['value']]\n",
    "X_train , X_test, Y_train, Y_test =train_test_split(X,Y, test_size=0.2, random_state=32)"
   ]
  },
  {
   "cell_type": "code",
   "execution_count": 39,
   "metadata": {},
   "outputs": [
    {
     "data": {
      "text/html": [
       "<div>\n",
       "<style scoped>\n",
       "    .dataframe tbody tr th:only-of-type {\n",
       "        vertical-align: middle;\n",
       "    }\n",
       "\n",
       "    .dataframe tbody tr th {\n",
       "        vertical-align: top;\n",
       "    }\n",
       "\n",
       "    .dataframe thead th {\n",
       "        text-align: right;\n",
       "    }\n",
       "</style>\n",
       "<table border=\"1\" class=\"dataframe\">\n",
       "  <thead>\n",
       "    <tr style=\"text-align: right;\">\n",
       "      <th></th>\n",
       "      <th>value</th>\n",
       "    </tr>\n",
       "  </thead>\n",
       "  <tbody>\n",
       "    <tr>\n",
       "      <th>0</th>\n",
       "      <td>49.0</td>\n",
       "    </tr>\n",
       "    <tr>\n",
       "      <th>3</th>\n",
       "      <td>49.0</td>\n",
       "    </tr>\n",
       "    <tr>\n",
       "      <th>4</th>\n",
       "      <td>170.0</td>\n",
       "    </tr>\n",
       "    <tr>\n",
       "      <th>7</th>\n",
       "      <td>220.0</td>\n",
       "    </tr>\n",
       "    <tr>\n",
       "      <th>8</th>\n",
       "      <td>80.0</td>\n",
       "    </tr>\n",
       "    <tr>\n",
       "      <th>...</th>\n",
       "      <td>...</td>\n",
       "    </tr>\n",
       "    <tr>\n",
       "      <th>9537</th>\n",
       "      <td>910000.0</td>\n",
       "    </tr>\n",
       "    <tr>\n",
       "      <th>9538</th>\n",
       "      <td>12000000.0</td>\n",
       "    </tr>\n",
       "    <tr>\n",
       "      <th>9539</th>\n",
       "      <td>1300000.0</td>\n",
       "    </tr>\n",
       "    <tr>\n",
       "      <th>9540</th>\n",
       "      <td>180000000.0</td>\n",
       "    </tr>\n",
       "    <tr>\n",
       "      <th>9541</th>\n",
       "      <td>50000000.0</td>\n",
       "    </tr>\n",
       "  </tbody>\n",
       "</table>\n",
       "<p>4624 rows × 1 columns</p>\n",
       "</div>"
      ],
      "text/plain": [
       "            value\n",
       "0            49.0\n",
       "3            49.0\n",
       "4           170.0\n",
       "7           220.0\n",
       "8            80.0\n",
       "...           ...\n",
       "9537     910000.0\n",
       "9538   12000000.0\n",
       "9539    1300000.0\n",
       "9540  180000000.0\n",
       "9541   50000000.0\n",
       "\n",
       "[4624 rows x 1 columns]"
      ]
     },
     "execution_count": 39,
     "metadata": {},
     "output_type": "execute_result"
    }
   ],
   "source": [
    "Y"
   ]
  },
  {
   "cell_type": "code",
   "execution_count": 40,
   "metadata": {},
   "outputs": [],
   "source": [
    "from sklearn.preprocessing import StandardScaler\n",
    "scaler = StandardScaler()\n",
    "X_train_scaled = scaler.fit_transform(X_train)\n",
    "X_test_scaled = scaler.transform(X_test)\n",
    "# scaler = StandardScaler()\n",
    "Y_train_scaled= scaler.fit_transform(Y_train)\n",
    "Y_test_scaled = scaler.transform(Y_test)"
   ]
  },
  {
   "cell_type": "code",
   "execution_count": 42,
   "metadata": {},
   "outputs": [
    {
     "data": {
      "text/plain": [
       "array([[-1.5534551 , -0.44316373,  0.9688546 , ...,  1.29034321,\n",
       "         0.36844904,  0.        ],\n",
       "       [ 0.77472603, -0.44316373, -1.03214661, ..., -0.77498761,\n",
       "        -0.52730712,  0.        ],\n",
       "       [-1.5534551 , -0.44316373, -1.03214661, ..., -0.77498761,\n",
       "        -0.07942904,  0.        ],\n",
       "       ...,\n",
       "       [-0.80843714, -0.44316373,  0.9688546 , ..., -0.77498761,\n",
       "         0.36844904,  0.        ],\n",
       "       [-0.71530989, -0.44316373, -1.03214661, ...,  1.29034321,\n",
       "         0.14451   ,  0.        ],\n",
       "       [ 0.3090898 , -0.44316373, -1.03214661, ..., -0.77498761,\n",
       "         0.59238808,  0.        ]])"
      ]
     },
     "execution_count": 42,
     "metadata": {},
     "output_type": "execute_result"
    }
   ],
   "source": [
    "X_train_scaled"
   ]
  },
  {
   "cell_type": "code",
   "execution_count": 43,
   "metadata": {},
   "outputs": [
    {
     "data": {
      "text/plain": [
       "array([[-0.10197648],\n",
       "       [-0.1052677 ],\n",
       "       [-0.10545325],\n",
       "       ...,\n",
       "       [-0.1052561 ],\n",
       "       [-0.10406394],\n",
       "       [-0.09061147]])"
      ]
     },
     "execution_count": 43,
     "metadata": {},
     "output_type": "execute_result"
    }
   ],
   "source": [
    "Y_train_scaled"
   ]
  },
  {
   "cell_type": "code",
   "execution_count": 44,
   "metadata": {},
   "outputs": [
    {
     "name": "stderr",
     "output_type": "stream",
     "text": [
      "/home/ayush/Ayush/Sixth_Sem/ML/myenv/lib/python3.10/site-packages/sklearn/base.py:1351: DataConversionWarning: A column-vector y was passed when a 1d array was expected. Please change the shape of y to (n_samples,), for example using ravel().\n",
      "  return fit_method(estimator, *args, **kwargs)\n"
     ]
    },
    {
     "ename": "ValueError",
     "evalue": "Expected 2D array, got 1D array instead:\narray=[-1.05442720e-01 -1.01526873e-01 -9.98236267e-02 -1.05442175e-01\n -7.56467245e-02 -7.24167885e-02 -9.15352639e-02 -1.04978610e-01\n  1.70054314e-02  1.74872150e+00 -9.59632343e-02 -1.37232137e-02\n -1.05303276e-01 -1.00127397e-01 -1.02321503e-01 -9.55786794e-02\n -1.05305904e-01 -1.05418825e-01 -1.05285818e-01 -1.05267351e-01\n -1.05453169e-01 -1.04329041e-01 -1.05405572e-01 -1.05291639e-01\n -1.03532447e-01 -1.05119568e-01 -1.02279211e-01  2.22960755e-01\n -1.05353771e-01 -1.05246446e-01 -1.04969541e-01 -9.54130518e-02\n -1.05439391e-01 -1.05378647e-01 -1.04740617e-01 -1.05417039e-01\n -3.90212858e-02 -1.05434087e-01 -1.03153180e-01 -1.05444158e-01\n -1.05381098e-01 -1.01076417e-01 -9.88469316e-02 -9.05850331e-02\n -1.05387091e-01 -1.04999893e-01 -1.01451606e-01 -1.05178237e-01\n  1.09529255e+00 -1.05354597e-01 -1.04195895e-01 -1.04881590e-01\n -6.44586837e-02 -1.04749391e-01 -1.02421494e-01 -1.04064833e-01\n -3.12499382e-02 -1.05452800e-01 -2.86385371e-02 -1.05277127e-01\n -1.05124708e-01 -1.00161724e-01 -6.95857413e-02 -1.04521892e-01\n -1.02974996e-01 -7.97133153e-02 -1.05427936e-01 -1.04454799e-01\n -1.05274801e-01 -1.05391709e-01 -1.04222055e-01 -9.88764528e-02\n -1.05143843e-01 -1.05449801e-01 -1.05123648e-01 -1.03643539e-01\n -1.04666114e-01 -1.05269751e-01 -9.47623934e-02 -9.95520262e-02\n -1.04469133e-01 -1.04887173e-01 -1.05443733e-01 -1.05329329e-01\n -1.05327741e-01 -1.05302684e-01 -1.00026040e-01 -1.05356930e-01\n -1.04785530e-01 -4.66454217e-02 -1.05436884e-01 -1.99066374e-02\n -9.78836890e-02 -8.83140234e-02 -5.16245487e-02 -1.05375652e-01\n -1.04912598e-01 -1.05241260e-01 -1.05452624e-01 -1.05350995e-01\n -1.05193068e-01 -1.05012436e-01 -1.05148885e-01 -1.05447783e-01\n -1.04145114e-01 -1.94456355e-02 -1.05444014e-01 -1.04674150e-01\n -1.05048975e-01 -1.04386864e-01 -1.04927502e-01 -1.05115484e-01\n -1.05373470e-01 -1.05435826e-01  2.98865687e+00 -1.05266205e-01\n -1.04977960e-01  1.24077060e-03 -1.05451666e-01 -1.05054324e-01\n -1.03612536e-01 -1.05413755e-01 -1.04842547e-01 -1.05246569e-01\n -1.04780116e-01 -8.81482775e-02 -1.05433751e-01 -1.01592857e-01\n -1.04718128e-01 -1.05070502e-01 -1.05442703e-01 -1.04429745e-01\n -1.04224669e-01  2.29835427e-01 -1.05419475e-01 -1.05432558e-01\n -2.82201192e-02 -1.05426403e-01 -9.10282685e-02 -1.05310153e-01\n -1.04997793e-01 -1.04722016e-01 -9.73840925e-02 -1.05417580e-01\n -1.03512384e-01 -8.36122514e-02 -8.33030767e-02 -1.04902358e-01\n -1.05144337e-01 -1.03518285e-01 -1.03127271e-01 -9.23797723e-02\n -1.05439909e-01 -6.08540967e-02 -1.05451320e-01 -1.05369668e-01\n -1.05313351e-01  1.68278820e-01 -1.05188445e-01 -9.99215050e-02\n -1.05419593e-01 -9.98201012e-02 -1.05093638e-01 -8.94285853e-02\n -1.03328225e-01 -1.98660006e-03 -1.04902789e-01 -1.05167489e-01\n -1.05033408e-01 -1.05430297e-01  4.88615562e-03 -1.03154326e-01\n -1.05003845e-01 -1.04170337e-01 -9.70598650e-02 -1.01636508e-01\n -1.05300949e-01 -1.00201019e-01 -1.02677970e-01 -1.03978582e-01\n -9.61394615e-02 -8.80422489e-02 -1.05157685e-01 -1.05380361e-01\n -1.00549702e-01 -1.00937038e-01 -1.03827682e-01 -1.04798393e-01\n -1.05432899e-01 -1.05434934e-01 -1.04090174e-01  1.28248471e-01\n -1.05437714e-01 -1.05312880e-01 -1.05346263e-01 -1.05206207e-01\n -1.05203356e-01 -7.24993588e-02 -4.89513823e-02 -1.05428416e-01\n -1.02514805e-01 -9.84543285e-02  5.69811591e-01 -5.74673932e-02\n -1.05415240e-01 -1.05019918e-01 -1.03874984e-01 -1.03271168e-01\n -1.05306154e-01 -9.41079543e-02 -1.04841717e-01 -1.05104117e-01\n -1.05386403e-01 -1.05313803e-01 -9.98127256e-02 -1.05237361e-01\n -1.05275689e-01 -1.04526579e-01 -9.02164704e-02 -1.04759105e-01\n -1.00559859e-01 -9.58688351e-02 -1.01035647e-01 -1.05342527e-01\n  8.93358357e-02 -1.03508001e-01 -1.05230769e-01 -1.05193455e-01\n -6.19660818e-02 -1.05433268e-01 -9.71595755e-02 -1.00305364e-01\n -1.05433231e-01 -1.05112327e-01 -1.05383383e-01 -1.05366467e-01\n -1.00671828e-01 -9.21653725e-02 -1.04959069e-01 -1.04201475e-01\n -1.01668701e-01 -1.05450522e-01 -1.05159112e-01 -1.05104376e-01\n -1.01918940e-01 -1.05312646e-01 -1.05411872e-01 -1.05180253e-01\n -1.03227642e-01 -1.04814775e-01 -1.05414523e-01  1.98512531e-01\n -1.04787269e-01 -1.04837359e-01 -9.22278569e-02  3.79754989e-02\n -1.05419820e-01 -1.04556636e-01 -1.04885456e-01 -1.05452691e-01\n -1.02854373e-01 -1.04759611e-01 -4.30407884e-02 -1.05434992e-01\n -1.05447120e-01 -1.04278711e-01 -1.05282336e-01 -1.05425913e-01\n -1.05396805e-01 -1.05449898e-01 -1.05418890e-01 -1.05292790e-01\n -1.05376689e-01 -1.05231038e-01 -1.03623251e-01 -1.05441875e-01\n -1.04850150e-01 -1.00294426e-01  1.79526239e-02 -1.05324482e-01\n -4.81295297e-02 -9.72946336e-02 -7.10427820e-02 -9.51224554e-02\n -1.05136087e-01 -1.05332658e-01 -1.00583366e-01 -1.05210076e-01\n -1.05443462e-01 -3.68920859e-02 -8.34414747e-02 -1.05335385e-01\n -1.05188691e-01 -1.02485358e-01 -1.03715391e-01 -1.05121802e-01\n -1.05135287e-01 -1.04779687e-01 -1.05425946e-01 -1.04322297e-01\n -1.05228373e-01 -1.04970241e-01 -1.05284556e-01 -1.05422140e-01\n -1.05330918e-01 -9.93313223e-02 -1.01400777e-01 -1.05402432e-01\n  1.90633100e-01 -6.84986433e-02 -9.55077061e-02 -1.03482768e-01\n -1.05203952e-01 -9.43902241e-02 -1.05395304e-01 -1.04422582e-01\n -1.05244762e-01 -1.03734937e-01 -1.05284143e-01 -1.05135797e-01\n -1.04769990e-01 -9.99658239e-02 -1.03899484e-01  1.69850208e-02\n -1.04134864e-01 -9.99612825e-02 -1.05352157e-01 -9.62987804e-02\n -1.04833045e-01 -9.98438008e-02 -9.13871477e-02 -1.05328629e-01\n -1.05423599e-01 -1.05187260e-01 -1.05328579e-01  1.48355841e+00\n -1.05061131e-01 -1.05003172e-01 -1.05408026e-01 -9.47131991e-02\n -1.05399159e-01 -1.05027709e-01 -1.04975386e-01 -1.05405681e-01\n -8.10453826e-02 -1.05431371e-01 -1.05160348e-01 -1.00287644e-01\n -1.04768914e-01 -8.90631886e-02 -1.04981764e-01 -1.04907516e-01\n -1.05449049e-01 -7.06452780e-02 -1.04647215e-01 -1.05424243e-01\n -1.04927395e-01 -1.03625137e-01 -7.79942253e-02 -1.05334963e-01\n  1.21362840e+01 -1.05419368e-01 -1.05423304e-01 -1.05443566e-01\n -1.05438176e-01  1.23185823e+00 -1.00795535e-01 -1.05192945e-01\n -1.05284623e-01 -1.05381274e-01 -1.03181400e-01 -1.00239948e-01\n -5.50204369e-02 -1.05035017e-01  6.93226324e-01 -1.64373869e-02\n -1.00687620e-01 -9.89261597e-02 -1.05442337e-01 -1.05364215e-01\n -1.05072854e-01 -1.04664926e-01 -1.02098923e-01 -7.50087067e-02\n -1.05445236e-01 -1.05019454e-01 -1.01855157e-01 -9.16157235e-02\n  1.51527028e-02 -1.04887880e-01 -1.00994223e-01 -8.73973565e-02\n -1.04959760e-01 -1.05424703e-01 -1.05369478e-01 -1.05397271e-01\n -1.04170006e-01 -1.05422780e-01 -2.24272101e-03 -1.05436258e-01\n -1.05445547e-01 -9.65480081e-02 -1.02964266e-01 -1.02289917e-01\n -9.53755009e-02 -1.05286548e-01 -1.04767014e-01 -1.02610749e-01\n -1.05163474e-01 -1.00179189e-01 -1.04395585e-01 -9.97449762e-02\n  9.85817353e-01 -1.05421653e-01 -1.02052792e-01 -9.78091439e-02\n -1.03375090e-01 -1.05424543e-01  1.53296142e+00  5.52549533e-02\n  1.13773739e+00 -1.04893106e-01 -1.01450347e-01 -1.05432076e-01\n -1.04789032e-01  8.81511956e+00 -1.03552278e-01 -1.02893300e-01\n -1.05135563e-01 -1.05100730e-01 -1.03726770e-01 -9.82506165e-02\n -1.02115184e-01 -1.05380667e-01  1.32797422e-02  4.55621070e-01\n  3.02797634e-02 -1.04853242e-01 -9.94293304e-02 -9.83617153e-02\n -1.01167249e-01 -9.83366659e-02 -1.03077267e-01  7.98088259e-01\n -1.04178028e-01 -1.05333036e-01 -1.05006025e-01 -1.04801552e-01\n -1.02999335e-01 -5.94847057e-02 -1.04327573e-01 -2.62743831e-02\n -1.03845166e-01 -1.05389991e-01 -1.05403506e-01 -1.04933215e-01\n -9.97311990e-02 -1.01662601e-01  5.50691120e+00 -1.05408312e-01\n -1.05331018e-01 -1.04783688e-01 -1.05408748e-01 -1.01554216e-01\n -1.04943091e-01 -1.05342067e-01 -1.03277477e-01 -6.72457089e-02\n -1.02774600e-01 -1.04777356e-01 -1.05256085e-01 -1.01329901e-01\n -1.05124780e-01 -1.05392391e-01 -1.05387579e-01 -8.01371096e-02\n -1.02690903e-01 -1.05130553e-01 -1.05284881e-01 -1.05320854e-01\n -7.17838271e-02 -1.05049124e-01 -1.03505380e-01 -1.04554347e-01\n -1.05144089e-01 -1.05281949e-01 -8.19539572e-02 -1.04596796e-01\n  6.47952414e+00 -1.05451995e-01 -1.05403364e-01 -1.05220434e-01\n -9.96416706e-02 -1.05380727e-01  1.92058377e-03  3.25950942e-01\n -1.05052299e-01 -1.04023425e-01 -1.05413651e-01  5.53900576e-01\n  8.36332678e-01 -1.00565855e-01 -1.01091637e-01 -1.05444689e-01\n -9.08693903e-02 -1.04038306e-01 -1.05121382e-01 -1.05341771e-01\n -8.71323894e-02 -1.01163875e-01 -1.03879129e-01 -4.31799518e-02\n -1.02711638e-01 -1.05347462e-01 -9.84243110e-02  3.92389864e-01\n -1.05258808e-01 -9.07021623e-02 -2.10645696e-02 -1.05180420e-01\n -1.05429332e-01 -1.00991764e-01 -1.05451295e-01 -2.88275674e-02\n -1.04544735e-01 -1.05293929e-01 -8.03518851e-02 -1.05341453e-01\n -1.05149547e-01  2.32858230e+01 -1.05369404e-01 -7.08523137e-02\n -8.04068546e-02 -1.05379790e-01 -1.05395008e-01 -1.05012185e-01\n  2.53817918e-01 -1.03872648e-01 -1.03403164e-01  1.28570866e-01\n  2.74325963e-01 -8.27232293e-02 -1.05108326e-01 -1.05147102e-01\n -1.04733620e-01 -9.55480403e-02 -1.04458396e-01 -7.31476863e-02\n -1.05334089e-01 -1.05288413e-01 -1.03481441e-01 -1.05376589e-01\n -1.05046359e-01 -1.03508432e-01 -6.23207154e-03 -1.05257396e-01\n -1.05427108e-01 -1.05161009e-01 -1.03858256e-01 -1.03733206e-01\n -5.50552278e-02 -1.00925291e-01 -1.05353539e-01 -1.05410309e-01\n -1.05176322e-01 -1.05365577e-01 -1.01806009e-01 -9.49162617e-02\n -1.04868585e-01 -1.05238655e-01 -3.18297856e-02 -1.05261436e-01\n -1.05111859e-01 -3.57589712e-02 -1.05152708e-01 -1.04828650e-01\n  3.52247026e-02 -1.04865094e-01 -1.05012250e-01 -4.48638288e-02\n -1.04978331e-01 -1.05110854e-01 -1.02032382e-01 -1.05174334e-01\n -1.04946945e-01 -5.21745456e-02  1.20360806e+00 -1.05219648e-01\n -1.05439292e-01 -1.04239652e-01 -1.05417698e-01 -1.05442087e-01\n  1.33608581e-01 -1.05444148e-01 -1.05225850e-01 -1.05435977e-01\n -1.04845089e-01 -1.05008261e-01 -9.70208760e-02 -1.05439477e-01\n -1.04396290e-01 -1.05202865e-01 -1.05082437e-01 -1.03815343e-01\n -9.80971842e-02 -1.04107663e-01 -1.05412844e-01 -6.43627073e-02\n -9.07608428e-02 -9.54801517e-02 -1.03435432e-01 -9.71614310e-02\n -1.04792428e-01 -1.04974936e-01 -1.05141661e-01 -1.05392336e-01\n -1.04255014e-01 -1.04395840e-01 -1.04823041e-01 -1.05338442e-01\n -1.05422606e-01 -1.02453810e-01 -1.05138471e-01 -1.05129458e-01\n -1.01160855e-01 -1.04660724e-01 -9.49424012e-02  9.10837290e-03\n -1.05021711e-01 -9.29375832e-02 -1.04175498e-01 -9.93440465e-02\n -1.05108090e-01 -1.02759278e-01 -1.05280511e-01 -1.03384920e-01\n -1.05382404e-01 -1.03931266e-01 -1.03592661e-01 -1.04458155e-01\n -1.04699694e-01 -1.04575500e-01 -1.04433646e-01 -1.03719135e-01\n -1.00595265e-01 -1.05426377e-01 -9.51163856e-02 -3.70196524e-02\n -1.05216505e-01 -1.05328573e-01 -1.05443411e-01 -1.02022640e-01\n -8.46135598e-02 -1.05417267e-01 -9.54348494e-02 -1.04875397e-01\n  2.72412466e-01 -1.01238524e-01 -1.05431482e-01 -1.05002344e-01\n -1.05393927e-01  3.29424230e-02 -1.05343749e-01 -1.05262211e-01\n -8.27990501e-02 -1.05356378e-01 -1.05129171e-01 -8.40225515e-02\n -1.05245947e-01 -1.05376413e-01 -2.55351925e-03 -1.04707905e-01\n -1.04825706e-01 -9.05613289e-02 -1.05390007e-01 -1.04339646e-01\n -1.05398215e-01 -8.75615924e-02 -8.40332206e-02 -1.03746443e-01\n -1.01775512e-01  2.61952598e+00 -1.00365900e-01  2.26912996e-01\n -1.05109836e-01 -1.04718583e-01 -6.96731812e-03 -1.05333180e-01\n -1.05412746e-01 -1.04596333e-01 -1.05191476e-01 -9.93524659e-02\n -1.04993674e-01 -8.61177723e-02 -9.67378455e-02 -8.86283958e-02\n -1.05169150e-01 -6.21061729e-02 -1.05319583e-01 -1.05419642e-01\n -9.58937732e-02 -1.05352011e-01 -1.05234065e-01  4.15943268e-01\n -9.69864795e-02 -1.04856911e-01 -1.05190989e-01  1.03043662e-01\n -1.05401177e-01 -1.05369752e-01 -1.05441827e-01 -1.05356297e-01\n -1.03498396e-01 -1.05440315e-01 -1.04591341e-01 -1.02547704e-01\n -1.04792428e-01 -1.05100985e-01 -4.47021673e-02  1.48634168e+00\n -1.05444146e-01 -1.05003810e-01  9.08512090e-01 -1.02837323e-01\n -1.04746049e-01 -1.03998048e-01  1.04495600e-01 -1.01318661e-01\n -1.04641547e-01 -1.03964781e-01 -8.90089938e-02 -9.43558971e-02\n  3.02279249e-01 -1.05425183e-01 -1.04789953e-01 -1.04561584e-01\n -9.63674274e-02 -1.03115734e-01 -9.47646896e-02 -9.46383988e-02\n -1.02724488e-01 -9.86639318e-02 -1.05037462e-01 -1.05292922e-01\n -1.05440245e-01 -1.05421068e-01 -1.03896707e-01 -1.04331398e-01\n -1.05344607e-01 -9.89841931e-02 -1.02582077e-01  2.74894327e-01\n  1.67137681e-01 -1.05447298e-01 -1.05431120e-01 -1.02686874e-01\n -8.33513200e-02 -1.04935699e-01 -1.04880293e-01 -1.05195955e-01\n -5.17150745e-02 -6.57738241e-02 -1.04458886e-01 -1.05277960e-01\n -9.62309266e-02 -1.04623356e-01 -1.05315429e-01  7.03779548e-01\n -1.05414342e-01 -9.99683103e-02 -9.92145549e-02 -7.06260340e-02\n -9.95358531e-02 -1.05438997e-01 -1.05035458e-01 -1.04881868e-01\n  7.91214748e-02 -1.05176962e-01 -1.02867779e-01 -4.80506705e-02\n -1.04362251e-01 -1.05235510e-01  2.87727397e-01  1.35181127e-01\n -1.05160791e-01 -1.05383522e-01 -1.03773130e-01 -1.05027340e-01\n -5.72784325e-02 -1.05325333e-01  1.54177510e+00 -1.05143915e-01\n -9.43468515e-02 -1.05181025e-01 -1.05042166e-01 -1.05372855e-01\n -1.05452155e-01 -4.15099911e-02 -1.05177326e-01 -9.33854644e-02\n -1.05450578e-01 -1.04748543e-01 -1.04272094e-01 -9.40656602e-02\n -1.05226290e-01 -1.04709097e-01 -1.05116068e-01 -1.05310758e-01\n -9.19465149e-02 -1.05306393e-01 -1.02994233e-01  4.71515849e-01\n -1.04656973e-01 -1.04993890e-01 -1.05209609e-01 -1.04324704e-01\n  3.09059987e-02 -8.56081327e-02  2.16197994e+00 -1.03079649e-01\n -1.05437072e-01 -9.24734803e-02 -1.05168372e-01 -1.64721661e-02\n -1.04819845e-01 -9.38720724e-02 -1.03577559e-01 -1.02740178e-01\n -1.04470990e-01 -1.05284157e-01 -1.64150511e-02 -9.53662233e-02\n -1.03547839e-01 -1.05370032e-01 -9.93676950e-02  3.72417598e-01\n -1.01371935e-01 -1.04270493e-01 -7.76971115e-02 -1.04326040e-01\n -1.03712562e-01 -1.04001771e-01 -9.79813354e-02 -9.92811214e-02\n -1.04680624e-01 -1.05062409e-01 -4.09301436e-02 -5.26259916e-02\n -1.01340624e-01 -2.64205046e-02 -1.04252873e-01 -1.04921650e-01\n -1.04196266e-01 -1.05011654e-01 -1.05010397e-01 -9.21077125e-02\n -1.05377904e-01 -1.03794448e-01 -9.45943304e-02 -9.52695048e-02\n -1.05169973e-01 -9.05901357e-02 -1.05419252e-01 -1.05305243e-01\n  1.52086696e-01 -1.04101834e-01 -1.05411403e-01 -1.04949265e-01\n -9.94172696e-02 -1.05303044e-01 -1.05273342e-01 -1.05388172e-01\n -1.05135477e-01 -1.05319008e-01 -1.05265208e-01 -1.05266325e-01\n -3.16920139e-02 -1.04923633e-01 -9.98604865e-02 -8.75707772e-02\n -1.04669011e-01 -1.05452200e-01 -1.05020581e-01 -7.28405411e-02\n -8.03551322e-02 -1.05374843e-01 -1.04795728e-01 -1.01828507e-01\n -1.03234010e-01 -9.27197902e-02 -1.00999045e-01 -1.05122008e-01\n -1.05152070e-01 -1.05410172e-01 -1.04205070e-01 -1.01318838e-01\n -1.05396647e-01 -9.75108703e-02 -9.06616657e-02 -9.24948187e-02\n -1.04562098e-01  6.60662091e-01 -1.05434500e-01 -1.04942242e-01\n -1.05424079e-01 -1.03720733e-01 -1.04843041e-01 -7.78620201e-02\n -1.02260596e-01 -1.04849907e-01 -1.05450012e-01 -1.05428163e-01\n -8.17268194e-02 -1.05176196e-01 -1.03973347e-01 -4.44092284e-02\n  4.74904014e-01 -1.02685946e-01 -1.01308036e-01 -1.05344225e-01\n -7.58539619e-02 -9.40205829e-02  2.91433782e-01 -1.05062678e-01\n -9.90062436e-02].\nReshape your data either using array.reshape(-1, 1) if your data has a single feature or array.reshape(1, -1) if it contains a single sample.",
     "output_type": "error",
     "traceback": [
      "\u001b[0;31m---------------------------------------------------------------------------\u001b[0m",
      "\u001b[0;31mValueError\u001b[0m                                Traceback (most recent call last)",
      "\u001b[1;32m/home/ayush/Ayush/Sixth_Sem/ML/ML_project/research/trials.ipynb Cell 43\u001b[0m line \u001b[0;36m6\n\u001b[1;32m      <a href='vscode-notebook-cell:/home/ayush/Ayush/Sixth_Sem/ML/ML_project/research/trials.ipynb#X54sZmlsZQ%3D%3D?line=3'>4</a>\u001b[0m model\u001b[39m.\u001b[39mfit(X_train_scaled, Y_train_scaled)\n\u001b[1;32m      <a href='vscode-notebook-cell:/home/ayush/Ayush/Sixth_Sem/ML/ML_project/research/trials.ipynb#X54sZmlsZQ%3D%3D?line=4'>5</a>\u001b[0m Y_pred_scaled\u001b[39m=\u001b[39m model\u001b[39m.\u001b[39mpredict(X_test_scaled)\n\u001b[0;32m----> <a href='vscode-notebook-cell:/home/ayush/Ayush/Sixth_Sem/ML/ML_project/research/trials.ipynb#X54sZmlsZQ%3D%3D?line=5'>6</a>\u001b[0m Y_pred\u001b[39m=\u001b[39m scaler\u001b[39m.\u001b[39;49minverse_transform(Y_pred_scaled)\n\u001b[1;32m      <a href='vscode-notebook-cell:/home/ayush/Ayush/Sixth_Sem/ML/ML_project/research/trials.ipynb#X54sZmlsZQ%3D%3D?line=6'>7</a>\u001b[0m \u001b[39meval\u001b[39m \u001b[39m=\u001b[39m mean_squared_error(Y_test, Y_pred)\n",
      "File \u001b[0;32m~/Ayush/Sixth_Sem/ML/myenv/lib/python3.10/site-packages/sklearn/preprocessing/_data.py:1085\u001b[0m, in \u001b[0;36mStandardScaler.inverse_transform\u001b[0;34m(self, X, copy)\u001b[0m\n\u001b[1;32m   1082\u001b[0m check_is_fitted(\u001b[39mself\u001b[39m)\n\u001b[1;32m   1084\u001b[0m copy \u001b[39m=\u001b[39m copy \u001b[39mif\u001b[39;00m copy \u001b[39mis\u001b[39;00m \u001b[39mnot\u001b[39;00m \u001b[39mNone\u001b[39;00m \u001b[39melse\u001b[39;00m \u001b[39mself\u001b[39m\u001b[39m.\u001b[39mcopy\n\u001b[0;32m-> 1085\u001b[0m X \u001b[39m=\u001b[39m check_array(\n\u001b[1;32m   1086\u001b[0m     X,\n\u001b[1;32m   1087\u001b[0m     accept_sparse\u001b[39m=\u001b[39;49m\u001b[39m\"\u001b[39;49m\u001b[39mcsr\u001b[39;49m\u001b[39m\"\u001b[39;49m,\n\u001b[1;32m   1088\u001b[0m     copy\u001b[39m=\u001b[39;49mcopy,\n\u001b[1;32m   1089\u001b[0m     dtype\u001b[39m=\u001b[39;49mFLOAT_DTYPES,\n\u001b[1;32m   1090\u001b[0m     force_all_finite\u001b[39m=\u001b[39;49m\u001b[39m\"\u001b[39;49m\u001b[39mallow-nan\u001b[39;49m\u001b[39m\"\u001b[39;49m,\n\u001b[1;32m   1091\u001b[0m )\n\u001b[1;32m   1093\u001b[0m \u001b[39mif\u001b[39;00m sparse\u001b[39m.\u001b[39missparse(X):\n\u001b[1;32m   1094\u001b[0m     \u001b[39mif\u001b[39;00m \u001b[39mself\u001b[39m\u001b[39m.\u001b[39mwith_mean:\n",
      "File \u001b[0;32m~/Ayush/Sixth_Sem/ML/myenv/lib/python3.10/site-packages/sklearn/utils/validation.py:989\u001b[0m, in \u001b[0;36mcheck_array\u001b[0;34m(array, accept_sparse, accept_large_sparse, dtype, order, copy, force_all_finite, ensure_2d, allow_nd, ensure_min_samples, ensure_min_features, estimator, input_name)\u001b[0m\n\u001b[1;32m    982\u001b[0m         \u001b[39melse\u001b[39;00m:\n\u001b[1;32m    983\u001b[0m             msg \u001b[39m=\u001b[39m (\n\u001b[1;32m    984\u001b[0m                 \u001b[39mf\u001b[39m\u001b[39m\"\u001b[39m\u001b[39mExpected 2D array, got 1D array instead:\u001b[39m\u001b[39m\\n\u001b[39;00m\u001b[39marray=\u001b[39m\u001b[39m{\u001b[39;00marray\u001b[39m}\u001b[39;00m\u001b[39m.\u001b[39m\u001b[39m\\n\u001b[39;00m\u001b[39m\"\u001b[39m\n\u001b[1;32m    985\u001b[0m                 \u001b[39m\"\u001b[39m\u001b[39mReshape your data either using array.reshape(-1, 1) if \u001b[39m\u001b[39m\"\u001b[39m\n\u001b[1;32m    986\u001b[0m                 \u001b[39m\"\u001b[39m\u001b[39myour data has a single feature or array.reshape(1, -1) \u001b[39m\u001b[39m\"\u001b[39m\n\u001b[1;32m    987\u001b[0m                 \u001b[39m\"\u001b[39m\u001b[39mif it contains a single sample.\u001b[39m\u001b[39m\"\u001b[39m\n\u001b[1;32m    988\u001b[0m             )\n\u001b[0;32m--> 989\u001b[0m         \u001b[39mraise\u001b[39;00m \u001b[39mValueError\u001b[39;00m(msg)\n\u001b[1;32m    991\u001b[0m \u001b[39mif\u001b[39;00m dtype_numeric \u001b[39mand\u001b[39;00m \u001b[39mhasattr\u001b[39m(array\u001b[39m.\u001b[39mdtype, \u001b[39m\"\u001b[39m\u001b[39mkind\u001b[39m\u001b[39m\"\u001b[39m) \u001b[39mand\u001b[39;00m array\u001b[39m.\u001b[39mdtype\u001b[39m.\u001b[39mkind \u001b[39min\u001b[39;00m \u001b[39m\"\u001b[39m\u001b[39mUSV\u001b[39m\u001b[39m\"\u001b[39m:\n\u001b[1;32m    992\u001b[0m     \u001b[39mraise\u001b[39;00m \u001b[39mValueError\u001b[39;00m(\n\u001b[1;32m    993\u001b[0m         \u001b[39m\"\u001b[39m\u001b[39mdtype=\u001b[39m\u001b[39m'\u001b[39m\u001b[39mnumeric\u001b[39m\u001b[39m'\u001b[39m\u001b[39m is not compatible with arrays of bytes/strings.\u001b[39m\u001b[39m\"\u001b[39m\n\u001b[1;32m    994\u001b[0m         \u001b[39m\"\u001b[39m\u001b[39mConvert your data to numeric values explicitly instead.\u001b[39m\u001b[39m\"\u001b[39m\n\u001b[1;32m    995\u001b[0m     )\n",
      "\u001b[0;31mValueError\u001b[0m: Expected 2D array, got 1D array instead:\narray=[-1.05442720e-01 -1.01526873e-01 -9.98236267e-02 -1.05442175e-01\n -7.56467245e-02 -7.24167885e-02 -9.15352639e-02 -1.04978610e-01\n  1.70054314e-02  1.74872150e+00 -9.59632343e-02 -1.37232137e-02\n -1.05303276e-01 -1.00127397e-01 -1.02321503e-01 -9.55786794e-02\n -1.05305904e-01 -1.05418825e-01 -1.05285818e-01 -1.05267351e-01\n -1.05453169e-01 -1.04329041e-01 -1.05405572e-01 -1.05291639e-01\n -1.03532447e-01 -1.05119568e-01 -1.02279211e-01  2.22960755e-01\n -1.05353771e-01 -1.05246446e-01 -1.04969541e-01 -9.54130518e-02\n -1.05439391e-01 -1.05378647e-01 -1.04740617e-01 -1.05417039e-01\n -3.90212858e-02 -1.05434087e-01 -1.03153180e-01 -1.05444158e-01\n -1.05381098e-01 -1.01076417e-01 -9.88469316e-02 -9.05850331e-02\n -1.05387091e-01 -1.04999893e-01 -1.01451606e-01 -1.05178237e-01\n  1.09529255e+00 -1.05354597e-01 -1.04195895e-01 -1.04881590e-01\n -6.44586837e-02 -1.04749391e-01 -1.02421494e-01 -1.04064833e-01\n -3.12499382e-02 -1.05452800e-01 -2.86385371e-02 -1.05277127e-01\n -1.05124708e-01 -1.00161724e-01 -6.95857413e-02 -1.04521892e-01\n -1.02974996e-01 -7.97133153e-02 -1.05427936e-01 -1.04454799e-01\n -1.05274801e-01 -1.05391709e-01 -1.04222055e-01 -9.88764528e-02\n -1.05143843e-01 -1.05449801e-01 -1.05123648e-01 -1.03643539e-01\n -1.04666114e-01 -1.05269751e-01 -9.47623934e-02 -9.95520262e-02\n -1.04469133e-01 -1.04887173e-01 -1.05443733e-01 -1.05329329e-01\n -1.05327741e-01 -1.05302684e-01 -1.00026040e-01 -1.05356930e-01\n -1.04785530e-01 -4.66454217e-02 -1.05436884e-01 -1.99066374e-02\n -9.78836890e-02 -8.83140234e-02 -5.16245487e-02 -1.05375652e-01\n -1.04912598e-01 -1.05241260e-01 -1.05452624e-01 -1.05350995e-01\n -1.05193068e-01 -1.05012436e-01 -1.05148885e-01 -1.05447783e-01\n -1.04145114e-01 -1.94456355e-02 -1.05444014e-01 -1.04674150e-01\n -1.05048975e-01 -1.04386864e-01 -1.04927502e-01 -1.05115484e-01\n -1.05373470e-01 -1.05435826e-01  2.98865687e+00 -1.05266205e-01\n -1.04977960e-01  1.24077060e-03 -1.05451666e-01 -1.05054324e-01\n -1.03612536e-01 -1.05413755e-01 -1.04842547e-01 -1.05246569e-01\n -1.04780116e-01 -8.81482775e-02 -1.05433751e-01 -1.01592857e-01\n -1.04718128e-01 -1.05070502e-01 -1.05442703e-01 -1.04429745e-01\n -1.04224669e-01  2.29835427e-01 -1.05419475e-01 -1.05432558e-01\n -2.82201192e-02 -1.05426403e-01 -9.10282685e-02 -1.05310153e-01\n -1.04997793e-01 -1.04722016e-01 -9.73840925e-02 -1.05417580e-01\n -1.03512384e-01 -8.36122514e-02 -8.33030767e-02 -1.04902358e-01\n -1.05144337e-01 -1.03518285e-01 -1.03127271e-01 -9.23797723e-02\n -1.05439909e-01 -6.08540967e-02 -1.05451320e-01 -1.05369668e-01\n -1.05313351e-01  1.68278820e-01 -1.05188445e-01 -9.99215050e-02\n -1.05419593e-01 -9.98201012e-02 -1.05093638e-01 -8.94285853e-02\n -1.03328225e-01 -1.98660006e-03 -1.04902789e-01 -1.05167489e-01\n -1.05033408e-01 -1.05430297e-01  4.88615562e-03 -1.03154326e-01\n -1.05003845e-01 -1.04170337e-01 -9.70598650e-02 -1.01636508e-01\n -1.05300949e-01 -1.00201019e-01 -1.02677970e-01 -1.03978582e-01\n -9.61394615e-02 -8.80422489e-02 -1.05157685e-01 -1.05380361e-01\n -1.00549702e-01 -1.00937038e-01 -1.03827682e-01 -1.04798393e-01\n -1.05432899e-01 -1.05434934e-01 -1.04090174e-01  1.28248471e-01\n -1.05437714e-01 -1.05312880e-01 -1.05346263e-01 -1.05206207e-01\n -1.05203356e-01 -7.24993588e-02 -4.89513823e-02 -1.05428416e-01\n -1.02514805e-01 -9.84543285e-02  5.69811591e-01 -5.74673932e-02\n -1.05415240e-01 -1.05019918e-01 -1.03874984e-01 -1.03271168e-01\n -1.05306154e-01 -9.41079543e-02 -1.04841717e-01 -1.05104117e-01\n -1.05386403e-01 -1.05313803e-01 -9.98127256e-02 -1.05237361e-01\n -1.05275689e-01 -1.04526579e-01 -9.02164704e-02 -1.04759105e-01\n -1.00559859e-01 -9.58688351e-02 -1.01035647e-01 -1.05342527e-01\n  8.93358357e-02 -1.03508001e-01 -1.05230769e-01 -1.05193455e-01\n -6.19660818e-02 -1.05433268e-01 -9.71595755e-02 -1.00305364e-01\n -1.05433231e-01 -1.05112327e-01 -1.05383383e-01 -1.05366467e-01\n -1.00671828e-01 -9.21653725e-02 -1.04959069e-01 -1.04201475e-01\n -1.01668701e-01 -1.05450522e-01 -1.05159112e-01 -1.05104376e-01\n -1.01918940e-01 -1.05312646e-01 -1.05411872e-01 -1.05180253e-01\n -1.03227642e-01 -1.04814775e-01 -1.05414523e-01  1.98512531e-01\n -1.04787269e-01 -1.04837359e-01 -9.22278569e-02  3.79754989e-02\n -1.05419820e-01 -1.04556636e-01 -1.04885456e-01 -1.05452691e-01\n -1.02854373e-01 -1.04759611e-01 -4.30407884e-02 -1.05434992e-01\n -1.05447120e-01 -1.04278711e-01 -1.05282336e-01 -1.05425913e-01\n -1.05396805e-01 -1.05449898e-01 -1.05418890e-01 -1.05292790e-01\n -1.05376689e-01 -1.05231038e-01 -1.03623251e-01 -1.05441875e-01\n -1.04850150e-01 -1.00294426e-01  1.79526239e-02 -1.05324482e-01\n -4.81295297e-02 -9.72946336e-02 -7.10427820e-02 -9.51224554e-02\n -1.05136087e-01 -1.05332658e-01 -1.00583366e-01 -1.05210076e-01\n -1.05443462e-01 -3.68920859e-02 -8.34414747e-02 -1.05335385e-01\n -1.05188691e-01 -1.02485358e-01 -1.03715391e-01 -1.05121802e-01\n -1.05135287e-01 -1.04779687e-01 -1.05425946e-01 -1.04322297e-01\n -1.05228373e-01 -1.04970241e-01 -1.05284556e-01 -1.05422140e-01\n -1.05330918e-01 -9.93313223e-02 -1.01400777e-01 -1.05402432e-01\n  1.90633100e-01 -6.84986433e-02 -9.55077061e-02 -1.03482768e-01\n -1.05203952e-01 -9.43902241e-02 -1.05395304e-01 -1.04422582e-01\n -1.05244762e-01 -1.03734937e-01 -1.05284143e-01 -1.05135797e-01\n -1.04769990e-01 -9.99658239e-02 -1.03899484e-01  1.69850208e-02\n -1.04134864e-01 -9.99612825e-02 -1.05352157e-01 -9.62987804e-02\n -1.04833045e-01 -9.98438008e-02 -9.13871477e-02 -1.05328629e-01\n -1.05423599e-01 -1.05187260e-01 -1.05328579e-01  1.48355841e+00\n -1.05061131e-01 -1.05003172e-01 -1.05408026e-01 -9.47131991e-02\n -1.05399159e-01 -1.05027709e-01 -1.04975386e-01 -1.05405681e-01\n -8.10453826e-02 -1.05431371e-01 -1.05160348e-01 -1.00287644e-01\n -1.04768914e-01 -8.90631886e-02 -1.04981764e-01 -1.04907516e-01\n -1.05449049e-01 -7.06452780e-02 -1.04647215e-01 -1.05424243e-01\n -1.04927395e-01 -1.03625137e-01 -7.79942253e-02 -1.05334963e-01\n  1.21362840e+01 -1.05419368e-01 -1.05423304e-01 -1.05443566e-01\n -1.05438176e-01  1.23185823e+00 -1.00795535e-01 -1.05192945e-01\n -1.05284623e-01 -1.05381274e-01 -1.03181400e-01 -1.00239948e-01\n -5.50204369e-02 -1.05035017e-01  6.93226324e-01 -1.64373869e-02\n -1.00687620e-01 -9.89261597e-02 -1.05442337e-01 -1.05364215e-01\n -1.05072854e-01 -1.04664926e-01 -1.02098923e-01 -7.50087067e-02\n -1.05445236e-01 -1.05019454e-01 -1.01855157e-01 -9.16157235e-02\n  1.51527028e-02 -1.04887880e-01 -1.00994223e-01 -8.73973565e-02\n -1.04959760e-01 -1.05424703e-01 -1.05369478e-01 -1.05397271e-01\n -1.04170006e-01 -1.05422780e-01 -2.24272101e-03 -1.05436258e-01\n -1.05445547e-01 -9.65480081e-02 -1.02964266e-01 -1.02289917e-01\n -9.53755009e-02 -1.05286548e-01 -1.04767014e-01 -1.02610749e-01\n -1.05163474e-01 -1.00179189e-01 -1.04395585e-01 -9.97449762e-02\n  9.85817353e-01 -1.05421653e-01 -1.02052792e-01 -9.78091439e-02\n -1.03375090e-01 -1.05424543e-01  1.53296142e+00  5.52549533e-02\n  1.13773739e+00 -1.04893106e-01 -1.01450347e-01 -1.05432076e-01\n -1.04789032e-01  8.81511956e+00 -1.03552278e-01 -1.02893300e-01\n -1.05135563e-01 -1.05100730e-01 -1.03726770e-01 -9.82506165e-02\n -1.02115184e-01 -1.05380667e-01  1.32797422e-02  4.55621070e-01\n  3.02797634e-02 -1.04853242e-01 -9.94293304e-02 -9.83617153e-02\n -1.01167249e-01 -9.83366659e-02 -1.03077267e-01  7.98088259e-01\n -1.04178028e-01 -1.05333036e-01 -1.05006025e-01 -1.04801552e-01\n -1.02999335e-01 -5.94847057e-02 -1.04327573e-01 -2.62743831e-02\n -1.03845166e-01 -1.05389991e-01 -1.05403506e-01 -1.04933215e-01\n -9.97311990e-02 -1.01662601e-01  5.50691120e+00 -1.05408312e-01\n -1.05331018e-01 -1.04783688e-01 -1.05408748e-01 -1.01554216e-01\n -1.04943091e-01 -1.05342067e-01 -1.03277477e-01 -6.72457089e-02\n -1.02774600e-01 -1.04777356e-01 -1.05256085e-01 -1.01329901e-01\n -1.05124780e-01 -1.05392391e-01 -1.05387579e-01 -8.01371096e-02\n -1.02690903e-01 -1.05130553e-01 -1.05284881e-01 -1.05320854e-01\n -7.17838271e-02 -1.05049124e-01 -1.03505380e-01 -1.04554347e-01\n -1.05144089e-01 -1.05281949e-01 -8.19539572e-02 -1.04596796e-01\n  6.47952414e+00 -1.05451995e-01 -1.05403364e-01 -1.05220434e-01\n -9.96416706e-02 -1.05380727e-01  1.92058377e-03  3.25950942e-01\n -1.05052299e-01 -1.04023425e-01 -1.05413651e-01  5.53900576e-01\n  8.36332678e-01 -1.00565855e-01 -1.01091637e-01 -1.05444689e-01\n -9.08693903e-02 -1.04038306e-01 -1.05121382e-01 -1.05341771e-01\n -8.71323894e-02 -1.01163875e-01 -1.03879129e-01 -4.31799518e-02\n -1.02711638e-01 -1.05347462e-01 -9.84243110e-02  3.92389864e-01\n -1.05258808e-01 -9.07021623e-02 -2.10645696e-02 -1.05180420e-01\n -1.05429332e-01 -1.00991764e-01 -1.05451295e-01 -2.88275674e-02\n -1.04544735e-01 -1.05293929e-01 -8.03518851e-02 -1.05341453e-01\n -1.05149547e-01  2.32858230e+01 -1.05369404e-01 -7.08523137e-02\n -8.04068546e-02 -1.05379790e-01 -1.05395008e-01 -1.05012185e-01\n  2.53817918e-01 -1.03872648e-01 -1.03403164e-01  1.28570866e-01\n  2.74325963e-01 -8.27232293e-02 -1.05108326e-01 -1.05147102e-01\n -1.04733620e-01 -9.55480403e-02 -1.04458396e-01 -7.31476863e-02\n -1.05334089e-01 -1.05288413e-01 -1.03481441e-01 -1.05376589e-01\n -1.05046359e-01 -1.03508432e-01 -6.23207154e-03 -1.05257396e-01\n -1.05427108e-01 -1.05161009e-01 -1.03858256e-01 -1.03733206e-01\n -5.50552278e-02 -1.00925291e-01 -1.05353539e-01 -1.05410309e-01\n -1.05176322e-01 -1.05365577e-01 -1.01806009e-01 -9.49162617e-02\n -1.04868585e-01 -1.05238655e-01 -3.18297856e-02 -1.05261436e-01\n -1.05111859e-01 -3.57589712e-02 -1.05152708e-01 -1.04828650e-01\n  3.52247026e-02 -1.04865094e-01 -1.05012250e-01 -4.48638288e-02\n -1.04978331e-01 -1.05110854e-01 -1.02032382e-01 -1.05174334e-01\n -1.04946945e-01 -5.21745456e-02  1.20360806e+00 -1.05219648e-01\n -1.05439292e-01 -1.04239652e-01 -1.05417698e-01 -1.05442087e-01\n  1.33608581e-01 -1.05444148e-01 -1.05225850e-01 -1.05435977e-01\n -1.04845089e-01 -1.05008261e-01 -9.70208760e-02 -1.05439477e-01\n -1.04396290e-01 -1.05202865e-01 -1.05082437e-01 -1.03815343e-01\n -9.80971842e-02 -1.04107663e-01 -1.05412844e-01 -6.43627073e-02\n -9.07608428e-02 -9.54801517e-02 -1.03435432e-01 -9.71614310e-02\n -1.04792428e-01 -1.04974936e-01 -1.05141661e-01 -1.05392336e-01\n -1.04255014e-01 -1.04395840e-01 -1.04823041e-01 -1.05338442e-01\n -1.05422606e-01 -1.02453810e-01 -1.05138471e-01 -1.05129458e-01\n -1.01160855e-01 -1.04660724e-01 -9.49424012e-02  9.10837290e-03\n -1.05021711e-01 -9.29375832e-02 -1.04175498e-01 -9.93440465e-02\n -1.05108090e-01 -1.02759278e-01 -1.05280511e-01 -1.03384920e-01\n -1.05382404e-01 -1.03931266e-01 -1.03592661e-01 -1.04458155e-01\n -1.04699694e-01 -1.04575500e-01 -1.04433646e-01 -1.03719135e-01\n -1.00595265e-01 -1.05426377e-01 -9.51163856e-02 -3.70196524e-02\n -1.05216505e-01 -1.05328573e-01 -1.05443411e-01 -1.02022640e-01\n -8.46135598e-02 -1.05417267e-01 -9.54348494e-02 -1.04875397e-01\n  2.72412466e-01 -1.01238524e-01 -1.05431482e-01 -1.05002344e-01\n -1.05393927e-01  3.29424230e-02 -1.05343749e-01 -1.05262211e-01\n -8.27990501e-02 -1.05356378e-01 -1.05129171e-01 -8.40225515e-02\n -1.05245947e-01 -1.05376413e-01 -2.55351925e-03 -1.04707905e-01\n -1.04825706e-01 -9.05613289e-02 -1.05390007e-01 -1.04339646e-01\n -1.05398215e-01 -8.75615924e-02 -8.40332206e-02 -1.03746443e-01\n -1.01775512e-01  2.61952598e+00 -1.00365900e-01  2.26912996e-01\n -1.05109836e-01 -1.04718583e-01 -6.96731812e-03 -1.05333180e-01\n -1.05412746e-01 -1.04596333e-01 -1.05191476e-01 -9.93524659e-02\n -1.04993674e-01 -8.61177723e-02 -9.67378455e-02 -8.86283958e-02\n -1.05169150e-01 -6.21061729e-02 -1.05319583e-01 -1.05419642e-01\n -9.58937732e-02 -1.05352011e-01 -1.05234065e-01  4.15943268e-01\n -9.69864795e-02 -1.04856911e-01 -1.05190989e-01  1.03043662e-01\n -1.05401177e-01 -1.05369752e-01 -1.05441827e-01 -1.05356297e-01\n -1.03498396e-01 -1.05440315e-01 -1.04591341e-01 -1.02547704e-01\n -1.04792428e-01 -1.05100985e-01 -4.47021673e-02  1.48634168e+00\n -1.05444146e-01 -1.05003810e-01  9.08512090e-01 -1.02837323e-01\n -1.04746049e-01 -1.03998048e-01  1.04495600e-01 -1.01318661e-01\n -1.04641547e-01 -1.03964781e-01 -8.90089938e-02 -9.43558971e-02\n  3.02279249e-01 -1.05425183e-01 -1.04789953e-01 -1.04561584e-01\n -9.63674274e-02 -1.03115734e-01 -9.47646896e-02 -9.46383988e-02\n -1.02724488e-01 -9.86639318e-02 -1.05037462e-01 -1.05292922e-01\n -1.05440245e-01 -1.05421068e-01 -1.03896707e-01 -1.04331398e-01\n -1.05344607e-01 -9.89841931e-02 -1.02582077e-01  2.74894327e-01\n  1.67137681e-01 -1.05447298e-01 -1.05431120e-01 -1.02686874e-01\n -8.33513200e-02 -1.04935699e-01 -1.04880293e-01 -1.05195955e-01\n -5.17150745e-02 -6.57738241e-02 -1.04458886e-01 -1.05277960e-01\n -9.62309266e-02 -1.04623356e-01 -1.05315429e-01  7.03779548e-01\n -1.05414342e-01 -9.99683103e-02 -9.92145549e-02 -7.06260340e-02\n -9.95358531e-02 -1.05438997e-01 -1.05035458e-01 -1.04881868e-01\n  7.91214748e-02 -1.05176962e-01 -1.02867779e-01 -4.80506705e-02\n -1.04362251e-01 -1.05235510e-01  2.87727397e-01  1.35181127e-01\n -1.05160791e-01 -1.05383522e-01 -1.03773130e-01 -1.05027340e-01\n -5.72784325e-02 -1.05325333e-01  1.54177510e+00 -1.05143915e-01\n -9.43468515e-02 -1.05181025e-01 -1.05042166e-01 -1.05372855e-01\n -1.05452155e-01 -4.15099911e-02 -1.05177326e-01 -9.33854644e-02\n -1.05450578e-01 -1.04748543e-01 -1.04272094e-01 -9.40656602e-02\n -1.05226290e-01 -1.04709097e-01 -1.05116068e-01 -1.05310758e-01\n -9.19465149e-02 -1.05306393e-01 -1.02994233e-01  4.71515849e-01\n -1.04656973e-01 -1.04993890e-01 -1.05209609e-01 -1.04324704e-01\n  3.09059987e-02 -8.56081327e-02  2.16197994e+00 -1.03079649e-01\n -1.05437072e-01 -9.24734803e-02 -1.05168372e-01 -1.64721661e-02\n -1.04819845e-01 -9.38720724e-02 -1.03577559e-01 -1.02740178e-01\n -1.04470990e-01 -1.05284157e-01 -1.64150511e-02 -9.53662233e-02\n -1.03547839e-01 -1.05370032e-01 -9.93676950e-02  3.72417598e-01\n -1.01371935e-01 -1.04270493e-01 -7.76971115e-02 -1.04326040e-01\n -1.03712562e-01 -1.04001771e-01 -9.79813354e-02 -9.92811214e-02\n -1.04680624e-01 -1.05062409e-01 -4.09301436e-02 -5.26259916e-02\n -1.01340624e-01 -2.64205046e-02 -1.04252873e-01 -1.04921650e-01\n -1.04196266e-01 -1.05011654e-01 -1.05010397e-01 -9.21077125e-02\n -1.05377904e-01 -1.03794448e-01 -9.45943304e-02 -9.52695048e-02\n -1.05169973e-01 -9.05901357e-02 -1.05419252e-01 -1.05305243e-01\n  1.52086696e-01 -1.04101834e-01 -1.05411403e-01 -1.04949265e-01\n -9.94172696e-02 -1.05303044e-01 -1.05273342e-01 -1.05388172e-01\n -1.05135477e-01 -1.05319008e-01 -1.05265208e-01 -1.05266325e-01\n -3.16920139e-02 -1.04923633e-01 -9.98604865e-02 -8.75707772e-02\n -1.04669011e-01 -1.05452200e-01 -1.05020581e-01 -7.28405411e-02\n -8.03551322e-02 -1.05374843e-01 -1.04795728e-01 -1.01828507e-01\n -1.03234010e-01 -9.27197902e-02 -1.00999045e-01 -1.05122008e-01\n -1.05152070e-01 -1.05410172e-01 -1.04205070e-01 -1.01318838e-01\n -1.05396647e-01 -9.75108703e-02 -9.06616657e-02 -9.24948187e-02\n -1.04562098e-01  6.60662091e-01 -1.05434500e-01 -1.04942242e-01\n -1.05424079e-01 -1.03720733e-01 -1.04843041e-01 -7.78620201e-02\n -1.02260596e-01 -1.04849907e-01 -1.05450012e-01 -1.05428163e-01\n -8.17268194e-02 -1.05176196e-01 -1.03973347e-01 -4.44092284e-02\n  4.74904014e-01 -1.02685946e-01 -1.01308036e-01 -1.05344225e-01\n -7.58539619e-02 -9.40205829e-02  2.91433782e-01 -1.05062678e-01\n -9.90062436e-02].\nReshape your data either using array.reshape(-1, 1) if your data has a single feature or array.reshape(1, -1) if it contains a single sample."
     ]
    }
   ],
   "source": [
    "from sklearn.ensemble import RandomForestRegressor\n",
    "from sklearn.metrics import mean_squared_error\n",
    "model = RandomForestRegressor()\n",
    "model.fit(X_train_scaled, Y_train_scaled)\n",
    "Y_pred_scaled= model.predict(X_test_scaled)\n",
    "# Y_pred= scaler.inverse_transform(Y_pred_scaled)\n",
    "eval = mean_squared_error(Y_test_scaled, Y_pred_scaled)\n"
   ]
  },
  {
   "cell_type": "code",
   "execution_count": null,
   "metadata": {},
   "outputs": [],
   "source": []
  }
 ],
 "metadata": {
  "kernelspec": {
   "display_name": "myenv",
   "language": "python",
   "name": "python3"
  },
  "language_info": {
   "codemirror_mode": {
    "name": "ipython",
    "version": 3
   },
   "file_extension": ".py",
   "mimetype": "text/x-python",
   "name": "python",
   "nbconvert_exporter": "python",
   "pygments_lexer": "ipython3",
   "version": "3.10.0"
  }
 },
 "nbformat": 4,
 "nbformat_minor": 2
}
